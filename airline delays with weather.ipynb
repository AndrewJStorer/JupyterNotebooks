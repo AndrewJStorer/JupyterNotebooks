{
  "nbformat": 4,
  "nbformat_minor": 0,
  "metadata": {
    "colab": {
      "provenance": []
    },
    "kernelspec": {
      "name": "python3",
      "display_name": "Python 3"
    },
    "language_info": {
      "name": "python"
    }
  },
  "cells": [
    {
      "cell_type": "markdown",
      "source": [
        "# Modeling flight delays based on weather\n",
        "\n",
        "Using a flight dataset from the department of transportation for commercial flights in 2015 and a dataset of the weather for select American cities I plan on modeling the relationship between weather descriptions and flight delays. "
      ],
      "metadata": {
        "id": "dwnRtHL3miQg"
      }
    },
    {
      "cell_type": "code",
      "execution_count": 140,
      "metadata": {
        "id": "IiuCIg4AmZhC"
      },
      "outputs": [],
      "source": [
        "import pandas as pd\n",
        "import numpy as np\n",
        "import datetime\n",
        "import matplotlib.pyplot as plt\n",
        "from sklearn import linear_model\n",
        "from sklearn.metrics import mean_absolute_error\n",
        "from sklearn.metrics import mean_squared_error\n",
        "from sklearn.metrics import r2_score\n",
        "from sklearn.model_selection import train_test_split\n",
        "from sklearn.preprocessing import StandardScaler\n",
        "from sklearn.tree import DecisionTreeClassifier\n",
        "from sklearn.metrics import roc_auc_score\n",
        "import statsmodels.api as sm"
      ]
    },
    {
      "cell_type": "markdown",
      "source": [
        "# Cleaning data and merging the two dataframes."
      ],
      "metadata": {
        "id": "quK87R4ymxqQ"
      }
    },
    {
      "cell_type": "markdown",
      "source": [
        "**Flights dataset**\n",
        "\n",
        "This flights data set contains flight data for 5.8 million commercial flights in 2015. Delays and cancelations are tracked as well as movement times through destination and departure airports."
      ],
      "metadata": {
        "id": "ET1U3chkNrOe"
      }
    },
    {
      "cell_type": "code",
      "source": [
        "flights_df = pd.read_csv('/content/flights.csv')\n",
        "\n",
        "flights_df.info()"
      ],
      "metadata": {
        "colab": {
          "base_uri": "https://localhost:8080/"
        },
        "id": "qUmekvSMmgd2",
        "outputId": "8aec40a6-2885-4c69-e8d6-a2a73fe1a944"
      },
      "execution_count": 65,
      "outputs": [
        {
          "output_type": "stream",
          "name": "stderr",
          "text": [
            "/usr/local/lib/python3.8/dist-packages/IPython/core/interactiveshell.py:3326: DtypeWarning: Columns (7,8) have mixed types.Specify dtype option on import or set low_memory=False.\n",
            "  exec(code_obj, self.user_global_ns, self.user_ns)\n"
          ]
        },
        {
          "output_type": "stream",
          "name": "stdout",
          "text": [
            "<class 'pandas.core.frame.DataFrame'>\n",
            "RangeIndex: 5819079 entries, 0 to 5819078\n",
            "Data columns (total 31 columns):\n",
            " #   Column               Dtype  \n",
            "---  ------               -----  \n",
            " 0   YEAR                 int64  \n",
            " 1   MONTH                int64  \n",
            " 2   DAY                  int64  \n",
            " 3   DAY_OF_WEEK          int64  \n",
            " 4   AIRLINE              object \n",
            " 5   FLIGHT_NUMBER        int64  \n",
            " 6   TAIL_NUMBER          object \n",
            " 7   ORIGIN_AIRPORT       object \n",
            " 8   DESTINATION_AIRPORT  object \n",
            " 9   SCHEDULED_DEPARTURE  int64  \n",
            " 10  DEPARTURE_TIME       float64\n",
            " 11  DEPARTURE_DELAY      float64\n",
            " 12  TAXI_OUT             float64\n",
            " 13  WHEELS_OFF           float64\n",
            " 14  SCHEDULED_TIME       float64\n",
            " 15  ELAPSED_TIME         float64\n",
            " 16  AIR_TIME             float64\n",
            " 17  DISTANCE             int64  \n",
            " 18  WHEELS_ON            float64\n",
            " 19  TAXI_IN              float64\n",
            " 20  SCHEDULED_ARRIVAL    int64  \n",
            " 21  ARRIVAL_TIME         float64\n",
            " 22  ARRIVAL_DELAY        float64\n",
            " 23  DIVERTED             int64  \n",
            " 24  CANCELLED            int64  \n",
            " 25  CANCELLATION_REASON  object \n",
            " 26  AIR_SYSTEM_DELAY     float64\n",
            " 27  SECURITY_DELAY       float64\n",
            " 28  AIRLINE_DELAY        float64\n",
            " 29  LATE_AIRCRAFT_DELAY  float64\n",
            " 30  WEATHER_DELAY        float64\n",
            "dtypes: float64(16), int64(10), object(5)\n",
            "memory usage: 1.3+ GB\n"
          ]
        }
      ]
    },
    {
      "cell_type": "code",
      "source": [
        "flights_df.head()"
      ],
      "metadata": {
        "colab": {
          "base_uri": "https://localhost:8080/",
          "height": 300
        },
        "id": "dtd_iv7zou1z",
        "outputId": "d0657cf9-0b08-4ab7-abe5-46775c3323f7"
      },
      "execution_count": 66,
      "outputs": [
        {
          "output_type": "execute_result",
          "data": {
            "text/plain": [
              "   YEAR  MONTH  DAY  DAY_OF_WEEK AIRLINE  FLIGHT_NUMBER TAIL_NUMBER  \\\n",
              "0  2015      1    1            4      AS             98      N407AS   \n",
              "1  2015      1    1            4      AA           2336      N3KUAA   \n",
              "2  2015      1    1            4      US            840      N171US   \n",
              "3  2015      1    1            4      AA            258      N3HYAA   \n",
              "4  2015      1    1            4      AS            135      N527AS   \n",
              "\n",
              "  ORIGIN_AIRPORT DESTINATION_AIRPORT  SCHEDULED_DEPARTURE  ...  ARRIVAL_TIME  \\\n",
              "0            ANC                 SEA                    5  ...         408.0   \n",
              "1            LAX                 PBI                   10  ...         741.0   \n",
              "2            SFO                 CLT                   20  ...         811.0   \n",
              "3            LAX                 MIA                   20  ...         756.0   \n",
              "4            SEA                 ANC                   25  ...         259.0   \n",
              "\n",
              "   ARRIVAL_DELAY  DIVERTED  CANCELLED  CANCELLATION_REASON  AIR_SYSTEM_DELAY  \\\n",
              "0          -22.0         0          0                  NaN               NaN   \n",
              "1           -9.0         0          0                  NaN               NaN   \n",
              "2            5.0         0          0                  NaN               NaN   \n",
              "3           -9.0         0          0                  NaN               NaN   \n",
              "4          -21.0         0          0                  NaN               NaN   \n",
              "\n",
              "   SECURITY_DELAY  AIRLINE_DELAY  LATE_AIRCRAFT_DELAY  WEATHER_DELAY  \n",
              "0             NaN            NaN                  NaN            NaN  \n",
              "1             NaN            NaN                  NaN            NaN  \n",
              "2             NaN            NaN                  NaN            NaN  \n",
              "3             NaN            NaN                  NaN            NaN  \n",
              "4             NaN            NaN                  NaN            NaN  \n",
              "\n",
              "[5 rows x 31 columns]"
            ],
            "text/html": [
              "\n",
              "  <div id=\"df-4c16926b-3ee2-4ab4-af01-00d2bc4cef1b\">\n",
              "    <div class=\"colab-df-container\">\n",
              "      <div>\n",
              "<style scoped>\n",
              "    .dataframe tbody tr th:only-of-type {\n",
              "        vertical-align: middle;\n",
              "    }\n",
              "\n",
              "    .dataframe tbody tr th {\n",
              "        vertical-align: top;\n",
              "    }\n",
              "\n",
              "    .dataframe thead th {\n",
              "        text-align: right;\n",
              "    }\n",
              "</style>\n",
              "<table border=\"1\" class=\"dataframe\">\n",
              "  <thead>\n",
              "    <tr style=\"text-align: right;\">\n",
              "      <th></th>\n",
              "      <th>YEAR</th>\n",
              "      <th>MONTH</th>\n",
              "      <th>DAY</th>\n",
              "      <th>DAY_OF_WEEK</th>\n",
              "      <th>AIRLINE</th>\n",
              "      <th>FLIGHT_NUMBER</th>\n",
              "      <th>TAIL_NUMBER</th>\n",
              "      <th>ORIGIN_AIRPORT</th>\n",
              "      <th>DESTINATION_AIRPORT</th>\n",
              "      <th>SCHEDULED_DEPARTURE</th>\n",
              "      <th>...</th>\n",
              "      <th>ARRIVAL_TIME</th>\n",
              "      <th>ARRIVAL_DELAY</th>\n",
              "      <th>DIVERTED</th>\n",
              "      <th>CANCELLED</th>\n",
              "      <th>CANCELLATION_REASON</th>\n",
              "      <th>AIR_SYSTEM_DELAY</th>\n",
              "      <th>SECURITY_DELAY</th>\n",
              "      <th>AIRLINE_DELAY</th>\n",
              "      <th>LATE_AIRCRAFT_DELAY</th>\n",
              "      <th>WEATHER_DELAY</th>\n",
              "    </tr>\n",
              "  </thead>\n",
              "  <tbody>\n",
              "    <tr>\n",
              "      <th>0</th>\n",
              "      <td>2015</td>\n",
              "      <td>1</td>\n",
              "      <td>1</td>\n",
              "      <td>4</td>\n",
              "      <td>AS</td>\n",
              "      <td>98</td>\n",
              "      <td>N407AS</td>\n",
              "      <td>ANC</td>\n",
              "      <td>SEA</td>\n",
              "      <td>5</td>\n",
              "      <td>...</td>\n",
              "      <td>408.0</td>\n",
              "      <td>-22.0</td>\n",
              "      <td>0</td>\n",
              "      <td>0</td>\n",
              "      <td>NaN</td>\n",
              "      <td>NaN</td>\n",
              "      <td>NaN</td>\n",
              "      <td>NaN</td>\n",
              "      <td>NaN</td>\n",
              "      <td>NaN</td>\n",
              "    </tr>\n",
              "    <tr>\n",
              "      <th>1</th>\n",
              "      <td>2015</td>\n",
              "      <td>1</td>\n",
              "      <td>1</td>\n",
              "      <td>4</td>\n",
              "      <td>AA</td>\n",
              "      <td>2336</td>\n",
              "      <td>N3KUAA</td>\n",
              "      <td>LAX</td>\n",
              "      <td>PBI</td>\n",
              "      <td>10</td>\n",
              "      <td>...</td>\n",
              "      <td>741.0</td>\n",
              "      <td>-9.0</td>\n",
              "      <td>0</td>\n",
              "      <td>0</td>\n",
              "      <td>NaN</td>\n",
              "      <td>NaN</td>\n",
              "      <td>NaN</td>\n",
              "      <td>NaN</td>\n",
              "      <td>NaN</td>\n",
              "      <td>NaN</td>\n",
              "    </tr>\n",
              "    <tr>\n",
              "      <th>2</th>\n",
              "      <td>2015</td>\n",
              "      <td>1</td>\n",
              "      <td>1</td>\n",
              "      <td>4</td>\n",
              "      <td>US</td>\n",
              "      <td>840</td>\n",
              "      <td>N171US</td>\n",
              "      <td>SFO</td>\n",
              "      <td>CLT</td>\n",
              "      <td>20</td>\n",
              "      <td>...</td>\n",
              "      <td>811.0</td>\n",
              "      <td>5.0</td>\n",
              "      <td>0</td>\n",
              "      <td>0</td>\n",
              "      <td>NaN</td>\n",
              "      <td>NaN</td>\n",
              "      <td>NaN</td>\n",
              "      <td>NaN</td>\n",
              "      <td>NaN</td>\n",
              "      <td>NaN</td>\n",
              "    </tr>\n",
              "    <tr>\n",
              "      <th>3</th>\n",
              "      <td>2015</td>\n",
              "      <td>1</td>\n",
              "      <td>1</td>\n",
              "      <td>4</td>\n",
              "      <td>AA</td>\n",
              "      <td>258</td>\n",
              "      <td>N3HYAA</td>\n",
              "      <td>LAX</td>\n",
              "      <td>MIA</td>\n",
              "      <td>20</td>\n",
              "      <td>...</td>\n",
              "      <td>756.0</td>\n",
              "      <td>-9.0</td>\n",
              "      <td>0</td>\n",
              "      <td>0</td>\n",
              "      <td>NaN</td>\n",
              "      <td>NaN</td>\n",
              "      <td>NaN</td>\n",
              "      <td>NaN</td>\n",
              "      <td>NaN</td>\n",
              "      <td>NaN</td>\n",
              "    </tr>\n",
              "    <tr>\n",
              "      <th>4</th>\n",
              "      <td>2015</td>\n",
              "      <td>1</td>\n",
              "      <td>1</td>\n",
              "      <td>4</td>\n",
              "      <td>AS</td>\n",
              "      <td>135</td>\n",
              "      <td>N527AS</td>\n",
              "      <td>SEA</td>\n",
              "      <td>ANC</td>\n",
              "      <td>25</td>\n",
              "      <td>...</td>\n",
              "      <td>259.0</td>\n",
              "      <td>-21.0</td>\n",
              "      <td>0</td>\n",
              "      <td>0</td>\n",
              "      <td>NaN</td>\n",
              "      <td>NaN</td>\n",
              "      <td>NaN</td>\n",
              "      <td>NaN</td>\n",
              "      <td>NaN</td>\n",
              "      <td>NaN</td>\n",
              "    </tr>\n",
              "  </tbody>\n",
              "</table>\n",
              "<p>5 rows × 31 columns</p>\n",
              "</div>\n",
              "      <button class=\"colab-df-convert\" onclick=\"convertToInteractive('df-4c16926b-3ee2-4ab4-af01-00d2bc4cef1b')\"\n",
              "              title=\"Convert this dataframe to an interactive table.\"\n",
              "              style=\"display:none;\">\n",
              "        \n",
              "  <svg xmlns=\"http://www.w3.org/2000/svg\" height=\"24px\"viewBox=\"0 0 24 24\"\n",
              "       width=\"24px\">\n",
              "    <path d=\"M0 0h24v24H0V0z\" fill=\"none\"/>\n",
              "    <path d=\"M18.56 5.44l.94 2.06.94-2.06 2.06-.94-2.06-.94-.94-2.06-.94 2.06-2.06.94zm-11 1L8.5 8.5l.94-2.06 2.06-.94-2.06-.94L8.5 2.5l-.94 2.06-2.06.94zm10 10l.94 2.06.94-2.06 2.06-.94-2.06-.94-.94-2.06-.94 2.06-2.06.94z\"/><path d=\"M17.41 7.96l-1.37-1.37c-.4-.4-.92-.59-1.43-.59-.52 0-1.04.2-1.43.59L10.3 9.45l-7.72 7.72c-.78.78-.78 2.05 0 2.83L4 21.41c.39.39.9.59 1.41.59.51 0 1.02-.2 1.41-.59l7.78-7.78 2.81-2.81c.8-.78.8-2.07 0-2.86zM5.41 20L4 18.59l7.72-7.72 1.47 1.35L5.41 20z\"/>\n",
              "  </svg>\n",
              "      </button>\n",
              "      \n",
              "  <style>\n",
              "    .colab-df-container {\n",
              "      display:flex;\n",
              "      flex-wrap:wrap;\n",
              "      gap: 12px;\n",
              "    }\n",
              "\n",
              "    .colab-df-convert {\n",
              "      background-color: #E8F0FE;\n",
              "      border: none;\n",
              "      border-radius: 50%;\n",
              "      cursor: pointer;\n",
              "      display: none;\n",
              "      fill: #1967D2;\n",
              "      height: 32px;\n",
              "      padding: 0 0 0 0;\n",
              "      width: 32px;\n",
              "    }\n",
              "\n",
              "    .colab-df-convert:hover {\n",
              "      background-color: #E2EBFA;\n",
              "      box-shadow: 0px 1px 2px rgba(60, 64, 67, 0.3), 0px 1px 3px 1px rgba(60, 64, 67, 0.15);\n",
              "      fill: #174EA6;\n",
              "    }\n",
              "\n",
              "    [theme=dark] .colab-df-convert {\n",
              "      background-color: #3B4455;\n",
              "      fill: #D2E3FC;\n",
              "    }\n",
              "\n",
              "    [theme=dark] .colab-df-convert:hover {\n",
              "      background-color: #434B5C;\n",
              "      box-shadow: 0px 1px 3px 1px rgba(0, 0, 0, 0.15);\n",
              "      filter: drop-shadow(0px 1px 2px rgba(0, 0, 0, 0.3));\n",
              "      fill: #FFFFFF;\n",
              "    }\n",
              "  </style>\n",
              "\n",
              "      <script>\n",
              "        const buttonEl =\n",
              "          document.querySelector('#df-4c16926b-3ee2-4ab4-af01-00d2bc4cef1b button.colab-df-convert');\n",
              "        buttonEl.style.display =\n",
              "          google.colab.kernel.accessAllowed ? 'block' : 'none';\n",
              "\n",
              "        async function convertToInteractive(key) {\n",
              "          const element = document.querySelector('#df-4c16926b-3ee2-4ab4-af01-00d2bc4cef1b');\n",
              "          const dataTable =\n",
              "            await google.colab.kernel.invokeFunction('convertToInteractive',\n",
              "                                                     [key], {});\n",
              "          if (!dataTable) return;\n",
              "\n",
              "          const docLinkHtml = 'Like what you see? Visit the ' +\n",
              "            '<a target=\"_blank\" href=https://colab.research.google.com/notebooks/data_table.ipynb>data table notebook</a>'\n",
              "            + ' to learn more about interactive tables.';\n",
              "          element.innerHTML = '';\n",
              "          dataTable['output_type'] = 'display_data';\n",
              "          await google.colab.output.renderOutput(dataTable, element);\n",
              "          const docLink = document.createElement('div');\n",
              "          docLink.innerHTML = docLinkHtml;\n",
              "          element.appendChild(docLink);\n",
              "        }\n",
              "      </script>\n",
              "    </div>\n",
              "  </div>\n",
              "  "
            ]
          },
          "metadata": {},
          "execution_count": 66
        }
      ]
    },
    {
      "cell_type": "code",
      "source": [
        "for column in flights_df.columns:\n",
        "  print(column)\n",
        "  print(\"unique value count: {}\".format(flights_df[column].nunique()))\n",
        "  print(\"unique values: {}\".format(flights_df[column].unique()))\n",
        "  print()"
      ],
      "metadata": {
        "colab": {
          "base_uri": "https://localhost:8080/"
        },
        "id": "O4ajBvgj3A_5",
        "outputId": "e083bc79-485a-4130-8a23-0b2e8e9e783e"
      },
      "execution_count": 67,
      "outputs": [
        {
          "output_type": "stream",
          "name": "stdout",
          "text": [
            "YEAR\n",
            "unique value count: 1\n",
            "unique values: [2015]\n",
            "\n",
            "MONTH\n",
            "unique value count: 12\n",
            "unique values: [ 1  2  3  4  5  6  7  8  9 10 11 12]\n",
            "\n",
            "DAY\n",
            "unique value count: 31\n",
            "unique values: [ 1  2  3  4  5  6  7  8  9 10 11 12 13 14 15 16 17 18 19 20 21 22 23 24\n",
            " 25 26 27 28 29 30 31]\n",
            "\n",
            "DAY_OF_WEEK\n",
            "unique value count: 7\n",
            "unique values: [4 5 6 7 1 2 3]\n",
            "\n",
            "AIRLINE\n",
            "unique value count: 14\n",
            "unique values: ['AS' 'AA' 'US' 'DL' 'NK' 'UA' 'HA' 'B6' 'OO' 'EV' 'MQ' 'F9' 'WN' 'VX']\n",
            "\n",
            "FLIGHT_NUMBER\n",
            "unique value count: 6952\n",
            "unique values: [  98 2336  840 ... 6777 6895 6887]\n",
            "\n",
            "TAIL_NUMBER\n",
            "unique value count: 4897\n",
            "unique values: ['N407AS' 'N3KUAA' 'N171US' ... 'N7LEAA' 'N850DN' 'N8676A']\n",
            "\n",
            "ORIGIN_AIRPORT\n",
            "unique value count: 930\n",
            "unique values: ['ANC' 'LAX' 'SFO' 'SEA' 'LAS' 'DEN' 'SLC' 'PDX' 'FAI' 'MSP' 'PHX' 'SJU'\n",
            " 'PBG' 'IAG' 'PSE' 'BQN' 'ORD' 'GEG' 'HNL' 'ONT' 'MCO' 'BOS' 'HIB' 'ABR'\n",
            " 'MAF' 'DFW' 'MKE' 'IAH' 'BNA' 'BRO' 'VPS' 'BOI' 'BJI' 'SGF' 'PHL' 'SBN'\n",
            " 'RDD' 'EUG' 'IAD' 'BUF' 'PWM' 'JFK' 'CRP' 'PIA' 'FAT' 'SMF' 'AUS' 'MCI'\n",
            " 'ATL' 'JAX' 'MFR' 'IDA' 'MSN' 'DCA' 'SAT' 'CHS' 'SBA' 'SMX' 'IND' 'CLE'\n",
            " 'GSP' 'BDL' 'ABI' 'RIC' 'BFL' 'OMA' 'RDM' 'FLL' 'CID' 'TPA' 'SYR' 'ROC'\n",
            " 'TYR' 'LAN' 'XNA' 'GSO' 'EWR' 'PBI' 'RSW' 'OAK' 'PVD' 'RNO' 'PIT' 'ABQ'\n",
            " 'MIA' 'BWI' 'LGA' 'TUL' 'LIT' 'MSY' 'OKC' 'ATW' 'PNS' 'MEM' 'TYS' 'MHT'\n",
            " 'SAV' 'CLT' 'GRB' 'ABE' 'JAN' 'OAJ' 'FAR' 'ERI' 'LEX' 'CWA' 'MSO' 'TTN'\n",
            " 'AMA' 'CLL' 'HOU' 'JLN' 'MLI' 'RDU' 'CVG' 'MHK' 'MOB' 'TLH' 'BHM' 'CAE'\n",
            " 'TXK' 'ACY' 'DTW' 'RAP' 'TUS' 'EAU' 'DLH' 'FSD' 'INL' 'CMX' 'SPI' 'CLD'\n",
            " 'COD' 'CMH' 'LRD' 'PSC' 'CPR' 'ACV' 'DAL' 'PAH' 'MRY' 'ESC' 'ISN' 'PSP'\n",
            " 'MFE' 'STL' 'BTV' 'FSM' 'AEX' 'SPS' 'ACT' 'SJT' 'MTJ' 'GCC' 'OGG' 'SJC'\n",
            " 'GUC' 'ORF' 'MOT' 'MLU' 'KOA' 'SAN' 'LAW' 'PIB' 'MGM' 'SBP' 'COS' 'LAR'\n",
            " 'DRO' 'BIS' 'ITO' 'BTR' 'GRI' 'HLN' 'BZN' 'MDW' 'MDT' 'SCE' 'LIH' 'TWF'\n",
            " 'BPT' 'GPT' 'STC' 'HPN' 'MLB' 'PLN' 'CIU' 'CAK' 'DSM' 'BLI' 'SHV' 'ROW'\n",
            " 'FWA' 'SNA' 'ALB' 'HOB' 'LNK' 'CMI' 'COU' 'GTF' 'EKO' 'LGB' 'AVL' 'HSV'\n",
            " 'SAF' 'GRR' 'SUX' 'LFT' 'HYS' 'ELP' 'DVL' 'ISP' 'BUR' 'DAB' 'DAY' 'GRK'\n",
            " 'GJT' 'BMI' 'LBE' 'ASE' 'RKS' 'GUM' 'TVC' 'ALO' 'IMT' 'LCH' 'JNU' 'JAC'\n",
            " 'MEI' 'DBQ' 'GCK' 'GNV' 'BRD' 'DIK' 'SDF' 'LBB' 'AVP' 'BTM' 'ELM' 'PIH'\n",
            " 'ICT' 'SUN' 'LWS' 'VEL' 'STT' 'YUM' 'FLG' 'FCA' 'HDN' 'JMS' 'ROA' 'CHA'\n",
            " 'EYW' 'MYR' 'CRW' 'MQT' 'CHO' 'ECP' 'EVV' 'EGE' 'MBS' 'GFK' 'TOL' 'BIL'\n",
            " 'OTZ' 'KTN' 'STX' 'ILM' 'PUB' 'RHI' 'CDC' 'HRL' 'SCC' 'FNT' 'LSE' 'MMH'\n",
            " 'APN' 'AGS' 'CEC' 'DHN' 'WRG' 'PHF' 'CNY' 'BRW' 'GGG' 'AZO' 'SRQ' 'ORH'\n",
            " 'TRI' 'VLD' 'SIT' 'BQK' 'PSG' 'FAY' 'MKG' 'CSG' 'EWN' 'OME' 'SGU' 'RST'\n",
            " 'GTR' 'BET' 'ABY' 'SWF' 'ILG' 'ADK' 'UST' 'YAK' 'CDV' 'OTH' 'ADQ' 'PPG'\n",
            " 'BGM' 'BGR' 'ITH' 'ACK' 'MVY' 'WYS' 'DLG' 'AKN' 'GST' 'HYA' '14747'\n",
            " '14771' '12889' '12892' '14869' '10299' '11292' '14107' '11630' '10732'\n",
            " '14254' '10141' '10627' '11982' '12173' '13930' '14683' '12266' '11618'\n",
            " '10721' '13487' '11884' '15919' '13851' '11111' '10693' '12191' '14783'\n",
            " '15016' '14487' '10423' '15370' '11953' '13891' '15376' '11778' '11278'\n",
            " '14100' '13204' '15304' '11637' '14842' '10155' '11775' '11298' '11057'\n",
            " '13931' '10821' '14122' '11049' '10990' '10631' '13158' '14108' '13198'\n",
            " '11447' '12206' '13495' '14057' '15624' '10747' '15411' '12891' '10994'\n",
            " '13256' '10792' '14492' '12451' '13127' '10781' '14960' '12278' '14685'\n",
            " '11995' '13485' '11977' '10257' '13796' '13232' '13296' '14570' '14893'\n",
            " '14524' '12217' '10713' '10208' '10136' '11603' '14689' '11471' '11315'\n",
            " '13264' '12478' '14814' '11308' '11066' '12896' '10397' '14307' '11721'\n",
            " '11140' '10185' '13277' '11203' '13342' '11433' '11697' '12953' '10599'\n",
            " '12156' '14952' '10620' '11042' '15096' '10408' '15249' '11423' '12915'\n",
            " '12264' '12339' '10140' '13871' '14027' '13244' '11267' '11540' '14576'\n",
            " '10868' '13486' '13476' '14489' '12945' '15607' '10529' '11986' '14635'\n",
            " '13303' '10785' '15380' '11996' '10561' '10874' '13367' '10146' '10431'\n",
            " '11973' '10980' '12197' '14098' '12323' '10577' '11150' '10135' '11617'\n",
            " '13795' '13029' '11003' '11146' '11577' '15356' '11259' '10279' '14321'\n",
            " '14843' '11638' '14828' '11481' '12951' '10434' '12448' '14730' '15323'\n",
            " '14252' '11193' '10849' '14193' '14986' '11641' '12992' '13422' '11612'\n",
            " '11823' '11980' '13290' '10158' '10685' '13377' '11109' '11076' '11122'\n",
            " '11865' '14543' '14905' '11587' '14457' '12335' '12343' '12003' '10157'\n",
            " '12884' '14633' '15048' '10268' '15295' '12389' '11525' '14262' '12888'\n",
            " '12391' '11648' '14696' '12758' '13830' '10469' '15412' '10731' '14679'\n",
            " '14831' '11413' '13433' '12982' '11867' '14698' '11537' '15389' '12402'\n",
            " '11337' '13360' '13076' '14006' '10728' '15401' '13230' '12016' '11067'\n",
            " '11274' '11921' '12519' '11013' '10779' '14150' '14794' '12511' '12177'\n",
            " '12523' '14908' '12007' '14588' '13577' '13061' '15041' '14109' '10800'\n",
            " '12954' '12441' '12898' '11695' '16218' '14113' '11624' '11503' '10739'\n",
            " '14574' '14711' '12129' '15070' '14520' '13184' '11252' '12280' '13241'\n",
            " '11898' '15024' '14674' '10551' '12819' '13459' '10581' '13970' '10372'\n",
            " '10918' '14709' '12255' 11267 12266 10821 14771 11433 11982 11905 15411\n",
            " 14679 14108 10397 13871 11618 14574 10423 11259 10800 11140 12191 12889\n",
            " 13198 10529 10693 13232 11540 14570 14635 14831 11298 13204 11278 14100\n",
            " 12892 12478 13930 15304 14107 12523 12954 11697 14057 12339 13487 14893\n",
            " 11986 11292 14576 15370 12402 14908 12953 12758 15016 10721 12264 10685\n",
            " 11612 13277 11057 12891 12197 11193 13495 13891 13244 14843 14747 11996\n",
            " 10333 14262 11695 13342 14698 10431 15376 12451 14524 13830 13796 14122\n",
            " 14960 16218 10713 11066 10208 14683 14869 14492 11638 11413 10792 10408\n",
            " 14689 10980 14952 12951 15323 11884 14307 14730 14783 11603 11977 11921\n",
            " 13577 13061 13851 11042 12448 12992 10874 12896 11308 12173 12206 13377\n",
            " 10747 13256 13303 10185 10599 10140 15295 11898 13795 10728 10994 12391\n",
            " 10299 12217 13290 12007 11109 15096 10627 13433 15249 12278 12915 11637\n",
            " 13931 13485 11721 11775 13476 15841 14027 15380 12945 11315 15919 13360\n",
            " 10868 14986 12982 10279 11150 13264 14193 11823 13367 10469 11423 11337\n",
            " 11252 13029 14696 11049 13296 14685 13158 12323 10257 14588 11274 13344\n",
            " 13933 15412 13422 11146 15991 13230 14794 11003 14828 10781 10990 10785\n",
            " 10434 14457 11481 11537 10136 14814 10754 10135 10731 13127 14321 10849\n",
            " 14098 10146 15607 11624 12177 10158 12884 15624 14256 11973 14842 15356\n",
            " 10561 14113 15389 14489 12094 12888 13076 12129 13873 10157 11995 10631\n",
            " 12441 12343 14252 11097 10732 10154 11122 11641 13486 12003 10620 10779\n",
            " 12335 11076 15041 12156 12280 10926 12819 11865 12519 11778 10551 12389\n",
            " 11953 12898 15024 10155 11013 10372 11587 13964 11980 11630 11648 14905\n",
            " 11525 15070 11471 11111 14633 11447 11203 13241 12511 11067 10268 13184\n",
            " 10141 13541 14150 15027 14109 15048 14006 10739 14520 11617 14487 11867\n",
            " 14674 14543 10577 10170 11577 14709 14711 12255 10165 10918 15401 13970\n",
            " 15497 12265 14254 10581 12016 11503 13459 14222 14025 13502 '15841'\n",
            " '13344' '15991' '10754' '14256' '13873' '11097' '10926' '13964' '11905'\n",
            " '15027' '13933' '10170' '10333' '14222' '14025' '13502' '15497' '12265']\n",
            "\n",
            "DESTINATION_AIRPORT\n",
            "unique value count: 930\n",
            "unique values: ['SEA' 'PBI' 'CLT' 'MIA' 'ANC' 'MSP' 'DFW' 'ATL' 'IAH' 'PDX' 'MCI' 'FLL'\n",
            " 'ORD' 'HNL' 'PHX' 'EWR' 'JFK' 'MCO' 'BOS' 'BDL' 'ITO' 'SFO' 'KOA' 'OGG'\n",
            " 'MYR' 'DTW' 'LIH' 'DEN' 'SJU' 'LAX' 'BWI' 'IAD' 'BQN' 'BUF' 'LGA' 'HOU'\n",
            " 'SLC' 'PHL' 'SJC' 'OAK' 'LGB' 'TPA' 'DCA' 'TTN' 'BTR' 'LAS' 'RSW' 'BRD'\n",
            " 'STL' 'RKS' 'MBS' 'SNA' 'MEI' 'MDW' 'SAN' 'RIC' 'AUS' 'OTZ' 'PIT' 'JAX'\n",
            " 'MSY' 'ONT' 'PSP' 'BUR' 'DAL' 'CVG' 'SMF' 'RDU' 'JMS' 'BNA' 'DSM' 'MAF'\n",
            " 'BOI' 'ELP' 'TUS' 'SCC' 'HPN' 'STT' 'MDT' 'RHI' 'SBP' 'MKE' 'JNU' 'CMH'\n",
            " 'CLD' 'KTN' 'CAK' 'CRP' 'CLE' 'GPT' 'SHV' 'TYS' 'IND' 'LIT' 'SAT' 'SRQ'\n",
            " 'TUL' 'GRK' 'PNS' 'BTV' 'CHS' 'DAY' 'OKC' 'SAV' 'XNA' 'COS' 'GJT' 'BZN'\n",
            " 'PUB' 'HRL' 'HDN' 'MEM' 'GEG' 'ORH' 'SYR' 'GSO' 'VPS' 'LAW' 'ACY' 'LBB'\n",
            " 'JAC' 'BIL' 'EUG' 'ASE' 'TVC' 'MTJ' 'CAE' 'PVD' 'HSV' 'CDC' 'YUM' 'ABQ'\n",
            " 'TLH' 'MLI' 'AMA' 'EGE' 'MOB' 'JAN' 'FWA' 'MSN' 'BIS' 'MFR' 'APN' 'BHM'\n",
            " 'OMA' 'LFT' 'GRR' 'MMH' 'CEC' 'SBA' 'RNO' 'CLL' 'LEX' 'LAN' 'DLH' 'SDF'\n",
            " 'FAT' 'SPS' 'SGF' 'CID' 'FSM' 'MGM' 'MFE' 'AVP' 'SJT' 'ROA' 'LRD' 'MRY'\n",
            " 'AGS' 'ROC' 'AEX' 'ISN' 'MLB' 'ORF' 'ICT' 'ECP' 'PIA' 'BPT' 'ACT' 'EYW'\n",
            " 'FSD' 'MLU' 'CHA' 'WRG' 'FNT' 'DIK' 'MHK' 'CNY' 'BRW' 'GRB' 'ATW' 'SAF'\n",
            " 'TYR' 'MKG' 'FLG' 'FCA' 'BTM' 'EVV' 'DRO' 'LNK' 'DBQ' 'FAR' 'OME' 'GSP'\n",
            " 'GUC' 'MSO' 'TXK' 'MOT' 'RAP' 'ISP' 'PWM' 'GGG' 'SBN' 'BFL' 'MHT' 'ROW'\n",
            " 'SIT' 'CMX' 'FAY' 'ILM' 'CMI' 'ALB' 'ABI' 'GTF' 'BMI' 'COU' 'HOB' 'GNV'\n",
            " 'SUN' 'SPI' 'PSG' 'BRO' 'AVL' 'TOL' 'SGU' 'GCC' 'HLN' 'CPR' 'PIH' 'BET'\n",
            " 'VEL' 'RDM' 'HYS' 'PSC' 'COD' 'INL' 'FAI' 'EKO' 'BJI' 'IDA' 'IMT' 'RST'\n",
            " 'HIB' 'ABR' 'STC' 'ACV' 'ESC' 'CIU' 'SWF' 'DAB' 'TRI' 'AZO' 'CRW' 'STX'\n",
            " 'GRI' 'CHO' 'GCK' 'PLN' 'LSE' 'SMX' 'RDD' 'PHF' 'LCH' 'GTR' 'LAR' 'ERI'\n",
            " 'PAH' 'EAU' 'LBE' 'BLI' 'DVL' 'CWA' 'ILG' 'OAJ' 'ABE' 'ALO' 'ABY' 'DHN'\n",
            " 'TWF' 'ADK' 'ELM' 'VLD' 'PIB' 'SUX' 'GUM' 'SCE' 'UST' 'BQK' 'JLN' 'LWS'\n",
            " 'MQT' 'EWN' 'CSG' 'PBG' 'PSE' 'IAG' 'YAK' 'CDV' 'OTH' 'ADQ' 'PPG' 'GFK'\n",
            " 'BGM' 'BGR' 'ITH' 'ACK' 'MVY' 'WYS' 'DLG' 'AKN' 'GST' 'HYA' '11298'\n",
            " '13487' '13303' '11057' '13930' '10693' '14747' '12266' '12478' '14057'\n",
            " '10397' '13198' '12173' '11618' '13204' '12402' '12758' '14771' '11292'\n",
            " '13830' '14107' '12982' '11697' '12519' '13577' '14869' '12339' '13232'\n",
            " '11259' '15016' '12892' '12889' '10140' '10721' '15304' '14679' '14100'\n",
            " '10732' '10821' '14831' '14843' '14570' '12191' '11433' '12264' '14893'\n",
            " '13796' '12953' '14122' '13495' '12451' '11042' '11278' '14908' '13342'\n",
            " '13891' '10299' '12523' '12954' '14520' '12129' '10713' '10431' '11066'\n",
            " '10994' '10423' '10792' '14683' '10800' '10551' '11193' '14307' '11540'\n",
            " '14635' '13851' '15376' '11884' '14492' '14027' '13970' '13184' '13296'\n",
            " '10599' '11986' '14698' '11423' '13244' '14574' '12992' '13241' '12217'\n",
            " '13871' '12197' '11003' '15919' '14524' '14689' '10529' '14576' '11995'\n",
            " '11267' '12819' '14633' '11996' '13256' '13158' '12448' '10781' '13422'\n",
            " '16218' '15370' '10868' '14730' '13931' '13485' '14986' '15024' '11823'\n",
            " '11721' '14685' '10257' '12206' '12255' '12951' '14709' '14321' '12391'\n",
            " '14794' '10874' '12278' '11638' '10372' '11122' '14457' '15096' '12896'\n",
            " '11109' '10279' '11481' '15412' '14814' '11641' '10980' '12945' '10990'\n",
            " '10157' '13076' '13230' '15295' '10918' '13933' '11953' '10135' '14262'\n",
            " '11067' '13277' '11603' '10561' '11612' '15624' '11977' '15380' '13367'\n",
            " '14193' '10333' '11778' '11140' '14783' '10136' '14842' '11049' '14696'\n",
            " '11695' '11637' '15401' '14674' '13061' '10685' '11982' '10469' '11921'\n",
            " '14108' '11413' '12891' '11905' '14960' '15411' '10155' '10747' '10728'\n",
            " '13290' '13433' '10208' '11973' '15323' '10849' '13360' '13795' '14952'\n",
            " '13377' '10408' '10627' '13344' '13476' '11775' '10158' '11898' '13029'\n",
            " '15249' '11337' '12915' '15356' '13264' '11252' '10185' '11624' '12323'\n",
            " '15841' '10785' '11146' '14098' '10434' '12389' '15991' '11315' '11150'\n",
            " '12884' '11537' '11274' '11076' '10754' '13873' 13930 10599 11697 12266\n",
            " 14492 11298 14869 14683 11278 15016 13244 11433 12951 13931 11259 10423\n",
            " 14893 11721 12191 14107 14122 14679 13796 11292 13232 12339 14771 14908\n",
            " 13204 11540 13303 12889 13487 12953 10721 13198 11057 14100 15304 14828\n",
            " 12982 14057 10136 11193 11042 12173 11618 15412 13495 15370 10397 14814\n",
            " 11308 10685 11982 14747 14831 13851 12892 13296 11638 14321 11884 12992\n",
            " 14027 15919 12007 13830 10731 14685 12884 10135 11996 12478 12217 13485\n",
            " 11973 10792 14730 10800 11986 11481 10821 10140 10299 14842 10980 12197\n",
            " 10990 12945 10781 11995 10257 13891 13158 12264 12758 10279 14588 10185\n",
            " 13377 14524 10693 12206 15376 12451 11066 11603 14689 11003 11267 15607\n",
            " 10994 14635 13342 14576 15096 14986 12278 12448 10146 14262 10713 14307\n",
            " 15024 10157 13422 10874 14570 14843 15070 14193 13486 12003 13127 13264\n",
            " 12177 12441 12523 14794 12094 12156 14113 12280 11641 14489 10849 12896\n",
            " 14256 10561 12954 10620 11097 10779 11122 10631 12888 15389 15041 14252\n",
            " 12343 12129 11648 10154 13577 14457 13076 12898 13029 12389 13871 10529\n",
            " 12402 11637 13256 12335 11865 11775 10551 15249 10747 15624 12391 10208\n",
            " 10926 12819 11423 13367 14952 13277 11980 11977 11778 15411 13964 11953\n",
            " 11630 11049 11013 11587 15380 11823 11252 11111 14698 11624 13795 12915\n",
            " 14108 11695 11612 10627 13360 15027 10469 14696 14574 15323 11203 14633\n",
            " 11337 13241 14098 10408 10155 11146 13061 14905 13433 11471 14783 10785\n",
            " 11140 12511 12323 10868 14960 10431 10268 11447 11067 13290 15048 13541\n",
            " 13476 16218 11150 12891 11921 10141 14150 14006 13184 11537 10434 13230\n",
            " 11617 11525 11898 11109 11867 14711 11577 12016 14520 14487 10739 14109\n",
            " 10165 11413 10158 15356 14709 12255 14543 11274 15841 10577 14674 10170\n",
            " 10333 10728 13970 15295 15401 15991 11905 10918 15497 10754 13344 11503\n",
            " 13459 13873 11315 12519 11076 10581 12265 14254 10732 10372 13933 14222\n",
            " 14025 13502 '10146' '13486' '12003' '13127' '12441' '12177' '12156'\n",
            " '14113' '14256' '14489' '10620' '11097' '10779' '10631' '12888' '15389'\n",
            " '15041' '14252' '12343' '12898' '11648' '12280' '12335' '11865' '10731'\n",
            " '10926' '11980' '11630' '11013' '11587' '11111' '13964' '15027' '11203'\n",
            " '15070' '14150' '11471' '14905' '12511' '10268' '15048' '11447' '11577'\n",
            " '10141' '11308' '11617' '11525' '11867' '12016' '10739' '14711' '14006'\n",
            " '14109' '14487' '15607' '14543' '14588' '10577' '10170' '12007' '14828'\n",
            " '14222' '13459' '13502' '14254' '14025' '15497' '12265' '10581' '10666']\n",
            "\n",
            "SCHEDULED_DEPARTURE\n",
            "unique value count: 1321\n",
            "unique values: [  5  10  20 ... 421 337 409]\n",
            "\n",
            "DEPARTURE_TIME\n",
            "unique value count: 1440\n",
            "unique values: [2.354e+03 2.000e+00 1.800e+01 ... 3.460e+02 4.030e+02 3.540e+02]\n",
            "\n",
            "DEPARTURE_DELAY\n",
            "unique value count: 1217\n",
            "unique values: [ -11.   -8.   -2. ...  888. 1194. 1649.]\n",
            "\n",
            "TAXI_OUT\n",
            "unique value count: 184\n",
            "unique values: [ 21.  12.  16.  15.  11.  18.  13.  17.  28.  25.   9.  30.  14.  10.\n",
            "  nan  43.  24.  19.  22.  23.  37.  31.   7.  32.  26.  33.  42.  27.\n",
            "  20.  38.   4.  29.   8.  41.  56.  48.  40.  34.   3.  36.  61.  35.\n",
            "   6.  45.  39.  46.  62.  49.   5.  57.  64.  63.  47.  54.  55.  44.\n",
            "  59.  50.  76. 113.  73.  58.  52.   2.  72.  51. 110.  53.  75.  84.\n",
            "  77.  82.  70. 105.  69.  71.  81.  66.  80.  99.  60.  74.  95.  89.\n",
            " 136. 131.  79.  68. 120.  67.  88.   1.  65. 176. 160. 104. 111. 112.\n",
            "  83.  85. 121. 100.  91.  97.  93.  87. 129.  92.  90.  98. 107. 124.\n",
            " 146.  86.  78. 115. 103.  94. 101. 102. 126. 116. 132. 118. 106. 130.\n",
            " 109. 114. 128.  96. 141. 125. 149. 147. 122. 117. 108. 119. 137. 133.\n",
            " 135. 169. 152. 139. 143. 155. 153. 127. 150. 134. 145. 170. 140. 138.\n",
            " 151. 159. 168. 177. 123. 167. 156. 144. 162. 164. 171. 142. 154. 174.\n",
            " 161. 165. 148. 178. 179. 175. 166. 185. 181. 225. 180. 158. 200. 157.\n",
            " 173. 172. 163.]\n",
            "\n",
            "WHEELS_OFF\n",
            "unique value count: 1440\n",
            "unique values: [ 15.  14.  34. ... 356. 346. 407.]\n",
            "\n",
            "SCHEDULED_TIME\n",
            "unique value count: 550\n",
            "unique values: [205. 280. 286. 285. 235. 217. 181. 273. 195. 221. 173. 268. 214. 215.\n",
            " 189. 204. 210. 218. 193. 162. 338. 147. 183. 213. 207. 245. 227. 239.\n",
            " 170. 370. 323. 255. 208. 123. 120. 184. 246. 224. 200. 185. 240. 174.\n",
            " 186. 241. 228.  70.  49.  89.  42.  36. 175.  63. 140.  68.  69.  87.\n",
            " 165. 161. 178. 150. 141. 103.  74.  66. 112.  60.  37.  65.  95. 230.\n",
            " 142. 157. 125.  55. 160. 188.  90. 163. 146. 167.  88.  85. 225.  61.\n",
            "  75. 212. 101. 136. 223. 122. 143. 105. 137. 104. 145. 139. 251. 209.\n",
            "  77. 124. 116. 129. 190. 154.  96. 314. 194. 119. 180.  59. 149. 135.\n",
            " 249. 166. 131. 341. 156. 275.  83.  50.  94.  80. 192. 148.  97. 110.\n",
            " 115. 130. 270. 100. 257. 244. 404. 311. 250. 281. 114. 164. 155. 109.\n",
            " 234.  73. 102. 151. 171. 168. 203. 232. 128.  84. 118. 159. 127. 317.\n",
            " 304. 113. 191. 233.  82.  99. 242. 107. 126. 158.  79.  92. 134.  76.\n",
            " 260. 153.  78. 117. 238.  98.  58.  52.  64.  51.  93.  72.  46. 132.\n",
            " 331. 399. 319. 216. 369.  91.  81. 172. 177.  45. 199.  32. 121. 294.\n",
            " 111. 133. 169. 247.  86.  71.  53. 106. 236. 295. 320. 108. 152. 299.\n",
            " 329. 348. 377. 325.  57. 254. 211.  54. 301. 176. 350. 231. 330. 289.\n",
            " 220. 144. 222. 206. 197. 256.  67. 202. 198. 345. 267. 322. 361. 386.\n",
            "  38. 326. 385. 360. 243. 380. 324. 395. 328. 335. 371. 357. 344. 396.\n",
            " 276. 313. 400. 196. 179. 403. 226. 253. 315. 343. 312. 259.  62.  35.\n",
            " 430. 298. 264. 187. 292. 375. 182. 201.  56.  48. 340. 373. 310. 248.\n",
            " 274. 277.  47. 138. 282. 252. 296. 229.  43. 288. 271. 266. 237. 300.\n",
            " 269. 278. 265. 283.  34. 389.  39. 410. 309. 279. 372. 334. 365. 290.\n",
            " 305. 316. 352. 374. 356. 308. 336. 354. 387. 402. 382. 409. 358. 405.\n",
            " 303. 390. 367. 293. 306. 332. 355. 718. 284. 376. 636. 318. 384. 346.\n",
            " 342. 668. 359. 513. 364. 339. 321.  33. 219. 424. 675. 379. 263. 337.\n",
            " 261. 351. 333. 262. 398. 392.  44. 287. 554. 555. 500. 417. 381. 347.\n",
            " 615. 258. 510.  26.  41. 440. 378. 453. 401. 460. 394. 407. 468. 307.\n",
            " 353. 297. 397. 515. 383.  40. 327. 362. 272. 470. 349. 291.  23. 393.\n",
            " 406. 302. 388. 570. 366. 493. 412. 391. 553. 478. 585. 518. 445. 408.\n",
            " 363. 425. 450. 416. 421. 576. 419. 368. 413.  24. 415. 614. 414. 520.\n",
            " 420. 679. 516. 559. 519. 444. 508. 523. 411. 441. 579. 584. 509. 479.\n",
            " 522. 548. 480. 426. 449. 647.  25.  30. 565.  nan  20.  31. 418. 434.\n",
            " 680. 620. 560. 506. 557. 467. 556. 491. 457. 436.  21. 462. 423. 575.\n",
            " 530. 502. 514. 617. 512. 521. 459. 580. 660. 600.  22. 544. 665. 428.\n",
            " 448. 496. 587. 540. 438. 451. 561. 487. 618. 455.  27. 655. 558. 471.\n",
            " 640. 543. 498. 473. 437. 497. 541. 652. 482. 535. 485. 537. 469. 439.\n",
            " 562. 494. 443. 465. 583.  18.  29. 545. 466. 464. 475. 427. 648. 461.\n",
            " 581. 433. 550. 526. 547. 505. 503. 492. 578. 645. 588. 533. 586. 435.\n",
            " 632. 676. 524. 454. 463. 458. 604. 507. 602. 446. 616. 517. 477. 611.\n",
            " 542. 646. 683. 456. 705.]\n",
            "\n",
            "ELAPSED_TIME\n",
            "unique value count: 712\n",
            "unique values: [194. 279. 293. 281. 215. 230. 170. 249. 193. 203. 149. 266. 210. 199.\n",
            " 198. 200. 217. 201. 186. 143. 347. 147. 276. 163. 175. 218. 220. 224.\n",
            " 208. 234.  nan 231. 385. 322. 241. 248. 191. 125. 209. 178. 264. 183.\n",
            " 247. 196. 243. 258. 232.  74.  51.  85.  48.  36. 182.  55. 134.  78.\n",
            "  67. 168. 155. 189. 150. 137. 106.  72.  57. 110.  35.  70. 142. 157.\n",
            " 138.  44. 146. 167. 180. 153.  52.  75.  80. 164.  84. 114. 101. 103.\n",
            " 132. 188. 113. 144. 136. 197.  59. 190.  66. 202. 104. 122. 128. 133.\n",
            "  99. 282. 109. 179.  61. 172.  76. 223. 177. 343. 251. 269.  73.  50.\n",
            "  83.  93.  90. 160. 120. 152.  79. 131. 130. 135.  88. 145.  81. 270.\n",
            " 256. 141. 242. 165. 396. 291. 227. 173. 294. 174. 181. 151. 127. 102.\n",
            "  68. 226. 156. 222. 124. 108.  94. 166. 162. 239. 246. 139. 118. 212.\n",
            " 126. 280. 300.  91. 171.  92. 274.  97. 119.  95.  63. 262. 148. 115.\n",
            "  53.  96. 112. 158.  58. 237.  65. 121.  77.  39.  86. 317. 378. 287.\n",
            "  87. 111. 400. 373. 169. 184. 161. 117.  40. 211. 236.  56. 204. 205.\n",
            "  64.  47. 207. 261.  82.  42.  45.  60. 140. 272. 283. 206.  89. 129.\n",
            " 105. 107. 116. 185. 187. 238.  54.  98.  30. 363. 308. 321. 355. 100.\n",
            " 384. 307.  71. 123.  49. 252. 221. 286. 374. 316. 253. 351.  69. 277.\n",
            " 176. 339. 292. 356. 380. 315. 392. 192. 338. 240. 324. 397. 412. 337.\n",
            " 195. 328. 216. 289. 288. 388. 267. 386. 254. 159. 233. 260. 320. 275.\n",
            " 244. 335. 290. 435. 219. 214. 259.  34. 364. 301.  46. 297. 250. 245.\n",
            " 284. 332. 255. 213. 271. 154. 331. 235.  62. 310.  38. 263.  29. 359.\n",
            "  43. 329. 305. 225. 391. 453. 353. 341. 394. 323. 303. 414. 314. 362.\n",
            " 346. 387. 298. 313. 415. 365. 299. 357. 326. 327. 265. 312. 375. 296.\n",
            " 330. 416.  31. 419. 302.  41. 352. 257. 350. 285. 349. 268. 273. 711.\n",
            " 404. 228. 651. 345. 229. 402. 295. 405. 409. 344. 319. 367. 647. 376.\n",
            " 521. 306. 369. 334. 381. 434. 660. 377. 372. 318. 361. 398. 340. 389.\n",
            " 390. 368. 336. 555. 354. 366. 539. 342. 325. 408. 502. 383. 605. 311.\n",
            " 520. 370.  24.  37. 431. 427. 379. 444. 436. 455. 448. 410. 517. 382.\n",
            " 333. 309. 526.  33. 358. 360. 413. 452. 425.  23. 395. 278.  32. 407.\n",
            " 401. 566. 304. 411. 477. 430. 536. 348. 481. 575. 371. 446. 406. 417.\n",
            " 442. 445. 459. 433. 403. 421. 420. 422. 399. 426. 423. 439. 424. 429.\n",
            " 706. 646. 662. 523. 462. 569. 547. 630. 504. 460. 468. 519. 544. 470.\n",
            " 393.  27. 473. 550. 466. 559. 454. 428. 440.  28. 709. 638. 418. 661.\n",
            " 712. 577. 602. 496. 628. 525.  18. 461. 451. 513. 501. 471.  21. 585.\n",
            " 489. 545. 486. 572. 463. 438. 576. 667. 634. 653. 511. 432. 681. 579.\n",
            " 561. 483. 600. 492. 500.  19. 541. 467. 581. 516. 441.  25. 704. 676.\n",
            " 506. 688. 551. 535. 475. 617.  17. 505. 552. 530. 527. 443. 469. 703.\n",
            " 724. 491. 716. 484. 450. 591. 580. 472. 476. 556. 458. 449. 565. 686.\n",
            " 689. 554. 589. 499. 480. 494. 507. 465. 557. 478. 518. 574. 683. 677.\n",
            " 593. 508. 495.  26.  20. 437. 456. 707. 718. 474. 570. 598. 447. 503.\n",
            " 671. 652. 538. 583. 498. 514. 568. 657. 497. 534. 582. 650. 532. 614.\n",
            " 510. 488. 571. 656. 606. 479. 564. 679. 528. 464. 512. 659. 542. 604.\n",
            " 509. 529. 663. 543. 674. 682. 613. 643. 694. 684. 615. 524. 670. 611.\n",
            " 567. 515. 490. 457. 641. 594. 482. 522. 493. 599.  22. 578. 485. 531.\n",
            " 640. 639. 537. 588. 558. 609. 540. 698. 607. 549. 586. 648. 590. 685.\n",
            " 633. 673. 690. 632. 678. 621. 665. 553. 766. 714. 563. 546. 696. 700.\n",
            " 727. 715. 595. 487. 654. 699. 713. 612. 702. 680. 687. 675. 596. 562.\n",
            " 669. 691. 668. 601.  15. 658. 608. 584. 629. 548.  16. 624. 642. 620.\n",
            " 587. 573. 597. 649. 697. 708. 610. 731. 619. 664. 622. 710. 560. 625.\n",
            " 616. 733. 644. 626. 627. 636. 719. 637. 726. 623. 631. 672. 592. 645.\n",
            " 533. 666. 735. 655. 635. 618. 603.  14. 695. 692. 730. 693. 721.]\n",
            "\n",
            "AIR_TIME\n",
            "unique value count: 675\n",
            "unique values: [169. 263. 266. 258. 199. 206. 154. 228. 173. 186. 133. 238. 188. 176.\n",
            " 166. 171. 187. 128. 311. 255. 150. 156. 205. 217.  nan 182. 148. 361.\n",
            " 298. 220. 170. 231. 174. 103. 149. 239. 183. 225. 160. 224. 163. 237.\n",
            " 214.  39.  35.  61.  30. 179.  20. 147.  38. 112.  41. 146. 132. 111.\n",
            "  66.  49.  42.  79.  34.  21. 210. 125. 138.  96.  22. 143. 127. 142.\n",
            " 194.  56.  50. 184.  33.  54. 129.  95. 178.  84. 105. 109. 158.  72.\n",
            "  36. 107. 152.  44. 180.  86.  91. 120. 104. 134.  27.  78. 234. 118.\n",
            "  46. 159.  28. 110.  58. 195. 198. 130. 162. 310. 131. 216. 243.  43.\n",
            "  48.  25.  65.  92. 123. 100. 135.  57.  90.  88. 114. 175.  63. 230.\n",
            "  76. 253. 222. 126.  52. 376. 268. 201. 155. 273.  87. 137. 124. 106.\n",
            "  80. 151. 139. 190.  82. 202.  99. 141.  60. 145. 157. 140.  62. 117.\n",
            "  97.  68. 280.  75. 213. 144.  85. 196.  45.  69. 248. 153.  98.  51.\n",
            "  37.  47. 209.  64.  73.  67. 108. 119.  89.  24. 115.  55. 292. 355.\n",
            "  83.  23.  31. 193. 368. 116.  59. 165.  93. 252. 122. 279.  74. 207.\n",
            " 244. 121. 251. 172.  15.  77. 161. 200.  70.  40.  18.  53. 339.  81.\n",
            " 286. 212. 289. 334. 232. 136. 358. 284. 245. 229.  71. 218. 342. 303.\n",
            " 221.  26. 211. 164. 264. 327. 256. 274. 262. 321. 242. 271. 299. 328.\n",
            " 340. 350. 236. 360. 301. 208.  94. 317. 250. 306. 295. 390. 308. 167.\n",
            " 356. 197. 336. 362. 320. 272. 373. 269. 247. 343. 227.  32.  29. 285.\n",
            " 313. 305. 113. 270. 409. 333. 204. 282. 185. 240. 181. 260. 101. 345.\n",
            " 277. 168. 191. 307. 322. 259. 226. 304. 189. 300. 276. 203. 241. 223.\n",
            " 283. 102. 249.  17. 233. 353. 177. 324.  19. 369. 388. 257. 332. 396.\n",
            " 346. 192. 312. 265. 254. 290. 352. 278. 337. 287. 261. 294. 296. 281.\n",
            " 302. 219. 297. 392. 291. 386. 326. 315. 331. 347. 669. 375. 348. 621.\n",
            " 267. 359. 325. 378. 381. 374. 620. 492. 275. 246. 341. 215. 357. 416.\n",
            " 314. 639. 329. 519. 319. 335. 510. 323. 349. 485. 365. 364. 338. 573.\n",
            " 235. 490. 371. 293. 354.  14. 367. 288. 398. 401. 351. 417. 377. 414.\n",
            " 411. 429. 385. 318. 316. 309. 499. 366. 389. 434.  16. 384. 379. 543.\n",
            " 344. 456. 403. 517. 393. 442. 546. 363. 483. 420. 370. 407. 419. 330.\n",
            " 423. 418. 391. 382. 545. 397. 405. 664. 622. 626. 402. 676. 533. 522.\n",
            " 380. 602. 426. 421. 430. 443. 494. 511. 441.  13. 372. 452. 523. 444.\n",
            " 530. 481. 387. 383. 395. 400. 653. 612. 608. 503. 659. 539. 475. 580.\n",
            " 484.  11. 427. 470. 448. 437. 551. 459. 454. 540. 496. 422. 412. 648.\n",
            " 616. 623. 525. 529. 461. 569. 486.  10. 464. 431.  12. 531. 515. 450.\n",
            " 524. 487. 534. 399. 667. 603. 642. 655. 521. 506. 583.   9. 460. 446.\n",
            " 501. 432. 424. 410. 518. 657. 638. 473. 658. 570. 435. 474. 438. 552.\n",
            " 445. 526. 491. 537. 654. 632. 477.   8. 489. 440. 433. 415. 425. 631.\n",
            " 647. 561. 488. 482. 527. 644. 568. 394. 480. 476. 627. 516. 505. 468.\n",
            " 428. 406. 479. 512. 436. 547. 413. 629. 597. 633. 634. 504. 553. 538.\n",
            " 478. 502. 577. 495. 613. 493. 439. 549. 455. 566. 500. 541. 567. 609.\n",
            " 630. 497. 571. 465. 467. 649. 660. 544. 593. 404. 535. 457. 520. 625.\n",
            " 661. 594. 472. 563. 408. 628. 581. 462. 598. 615. 469. 614. 572. 449.\n",
            " 643. 548. 542. 617. 466. 560. 624. 507. 550. 451. 498. 536. 591. 670.\n",
            " 595. 513. 656. 556. 636. 665. 584. 618. 586. 528. 509. 574. 652. 666.\n",
            " 576. 447. 458. 683. 668. 555. 564. 684. 532. 575. 508. 645. 471. 650.\n",
            " 453. 637. 562.   7. 559. 463. 635. 607. 514. 611. 604. 605. 663. 601.\n",
            " 646. 585. 641. 588. 682. 671. 687. 587. 554. 582. 606. 690. 679. 578.\n",
            " 558. 590. 619. 579. 662. 589. 640. 557. 565. 610. 592. 599. 596. 600.\n",
            " 651. 678. 674. 672.]\n",
            "\n",
            "DISTANCE\n",
            "unique value count: 1363\n",
            "unique values: [1448 2330 2296 ...  876 1100 1672]\n",
            "\n",
            "WHEELS_ON\n",
            "unique value count: 1440\n",
            "unique values: [404. 737. 800. ... 318. 324. 322.]\n",
            "\n",
            "TAXI_IN\n",
            "unique value count: 185\n",
            "unique values: [  4.  11.   8.   5.   6.   3.   7.   2.  40.  10.  nan  12.   9.  13.\n",
            "  19.  14.  15.  30.  17.  16.  23.  52.  21.  26.  80.  29.  24.  20.\n",
            "  22.  18.  32.  55.  33.  34.   1.  27.  28.  25.  36.  41.  39.  37.\n",
            "  61.  74.  58.  31.  46.  42.  44.  35.  43.  45.  56.  48.  38.  53.\n",
            "  59.  50.  49.  67.  47.  70.  51.  84.  62.  54.  60. 103.  63.  66.\n",
            "  82.  57.  91.  72.  64.  69. 111.  65.  78.  68.  79.  95.  88.  89.\n",
            "  71.  90.  77.  76.  73.  87.  75.  93.  83.  81.  96. 105.  92.  86.\n",
            "  97. 122. 146. 123. 127. 138. 124. 136. 100. 134. 109. 101. 112. 133.\n",
            " 142. 117. 115. 170. 120. 149. 179. 128. 135.  85. 137. 108. 174. 141.\n",
            " 158. 145. 167. 106. 113. 107.  99. 154. 126. 125.  98. 104. 114. 144.\n",
            " 102. 162. 151. 140. 119. 148. 143.  94. 152. 130. 132. 157. 129. 121.\n",
            " 139. 110. 197. 147. 131. 163. 116. 118. 180. 153. 177. 173. 184. 160.\n",
            " 202. 178. 175. 150. 155. 176. 164. 166. 156. 181. 183. 168. 169. 172.\n",
            " 161. 171. 165. 248.]\n",
            "\n",
            "SCHEDULED_ARRIVAL\n",
            "unique value count: 1435\n",
            "unique values: [430 750 806 ... 324 332 241]\n",
            "\n",
            "ARRIVAL_TIME\n",
            "unique value count: 1440\n",
            "unique values: [408. 741. 811. ... 328. 317. 357.]\n",
            "\n",
            "ARRIVAL_DELAY\n",
            "unique value count: 1240\n",
            "unique values: [ -22.   -9.    5. ... 1115. 1372. 1076.]\n",
            "\n",
            "DIVERTED\n",
            "unique value count: 2\n",
            "unique values: [0 1]\n",
            "\n",
            "CANCELLED\n",
            "unique value count: 2\n",
            "unique values: [0 1]\n",
            "\n",
            "CANCELLATION_REASON\n",
            "unique value count: 4\n",
            "unique values: [nan 'A' 'B' 'C' 'D']\n",
            "\n",
            "AIR_SYSTEM_DELAY\n",
            "unique value count: 570\n",
            "unique values: [      nan 2.500e+01 4.300e+01 0.000e+00 2.000e+01 1.700e+01 1.300e+01\n",
            " 7.000e+00 2.200e+01 1.400e+01 4.000e+00 6.000e+00 1.600e+01 2.700e+01\n",
            " 1.200e+01 2.000e+00 1.500e+01 1.800e+01 3.200e+01 8.500e+01 3.000e+00\n",
            " 5.000e+00 8.600e+01 5.800e+01 3.500e+01 3.400e+01 3.300e+01 1.100e+01\n",
            " 9.000e+00 2.600e+01 2.800e+01 4.000e+01 2.300e+01 1.900e+01 2.400e+01\n",
            " 9.700e+01 2.900e+01 2.100e+01 1.000e+00 1.000e+01 8.000e+00 3.000e+01\n",
            " 6.700e+01 4.800e+01 6.500e+01 3.100e+01 4.100e+01 4.200e+01 3.900e+01\n",
            " 3.600e+01 5.100e+01 8.100e+01 4.600e+01 1.640e+02 5.200e+01 8.800e+01\n",
            " 4.900e+01 4.500e+01 3.700e+01 5.000e+01 5.400e+01 5.900e+01 1.380e+02\n",
            " 5.300e+01 7.200e+01 6.800e+01 7.700e+01 6.100e+01 6.000e+01 4.400e+01\n",
            " 3.800e+01 7.600e+01 4.700e+01 7.300e+01 5.700e+01 7.400e+01 8.700e+01\n",
            " 5.600e+01 6.300e+01 1.350e+02 1.200e+02 1.160e+02 1.690e+02 6.600e+01\n",
            " 1.520e+02 9.600e+01 5.500e+01 9.800e+01 2.830e+02 1.370e+02 8.200e+01\n",
            " 8.900e+01 6.900e+01 1.060e+02 1.790e+02 7.000e+01 1.000e+02 9.100e+01\n",
            " 1.240e+02 1.290e+02 9.200e+01 8.000e+01 1.440e+02 9.000e+01 1.040e+02\n",
            " 7.100e+01 1.030e+02 6.400e+01 6.200e+01 1.360e+02 1.540e+02 9.900e+01\n",
            " 9.500e+01 1.570e+02 8.400e+01 1.270e+02 7.800e+01 7.900e+01 1.950e+02\n",
            " 9.300e+01 3.790e+02 1.410e+02 1.460e+02 5.320e+02 1.020e+02 1.330e+02\n",
            " 1.990e+02 1.050e+02 8.300e+01 1.550e+02 1.500e+02 1.760e+02 1.150e+02\n",
            " 5.130e+02 7.500e+01 2.750e+02 2.060e+02 2.360e+02 5.700e+02 2.070e+02\n",
            " 1.670e+02 1.130e+02 1.220e+02 1.510e+02 2.480e+02 2.390e+02 1.710e+02\n",
            " 1.390e+02 1.120e+02 1.320e+02 1.870e+02 1.830e+02 4.840e+02 2.130e+02\n",
            " 1.110e+02 1.230e+02 1.080e+02 2.050e+02 1.880e+02 1.010e+02 1.070e+02\n",
            " 2.630e+02 1.190e+02 1.860e+02 4.760e+02 1.310e+02 1.140e+02 1.090e+02\n",
            " 1.400e+02 1.280e+02 1.260e+02 1.430e+02 1.210e+02 1.100e+02 9.400e+01\n",
            " 1.780e+02 5.210e+02 2.120e+02 1.170e+02 1.750e+02 2.010e+02 1.850e+02\n",
            " 1.180e+02 1.610e+02 1.530e+02 1.340e+02 1.650e+02 1.630e+02 2.370e+02\n",
            " 1.660e+02 1.810e+02 1.770e+02 1.840e+02 2.330e+02 3.000e+02 1.560e+02\n",
            " 2.320e+02 2.710e+02 1.420e+02 1.580e+02 2.200e+02 4.960e+02 1.910e+02\n",
            " 3.080e+02 2.540e+02 2.530e+02 1.960e+02 1.600e+02 3.410e+02 2.110e+02\n",
            " 1.900e+02 1.720e+02 2.340e+02 1.450e+02 1.730e+02 1.300e+02 2.510e+02\n",
            " 1.250e+02 1.970e+02 5.900e+02 2.280e+02 1.890e+02 1.590e+02 3.690e+02\n",
            " 1.480e+02 1.490e+02 2.160e+02 2.430e+02 1.470e+02 1.980e+02 2.310e+02\n",
            " 2.730e+02 3.470e+02 3.360e+02 2.140e+02 2.580e+02 1.680e+02 2.550e+02\n",
            " 2.440e+02 3.640e+02 2.300e+02 2.240e+02 3.670e+02 4.300e+02 2.250e+02\n",
            " 2.900e+02 1.920e+02 4.350e+02 2.270e+02 2.020e+02 1.820e+02 2.460e+02\n",
            " 2.880e+02 2.620e+02 2.920e+02 2.650e+02 3.060e+02 2.970e+02 2.230e+02\n",
            " 3.090e+02 3.990e+02 1.800e+02 2.760e+02 3.840e+02 2.720e+02 3.590e+02\n",
            " 3.340e+02 4.080e+02 2.560e+02 1.740e+02 2.170e+02 4.470e+02 2.450e+02\n",
            " 2.410e+02 2.950e+02 3.880e+02 1.930e+02 1.620e+02 3.540e+02 3.770e+02\n",
            " 2.380e+02 4.260e+02 2.500e+02 2.470e+02 1.700e+02 2.350e+02 8.240e+02\n",
            " 2.770e+02 2.570e+02 2.220e+02 3.250e+02 2.040e+02 2.100e+02 2.290e+02\n",
            " 4.430e+02 3.710e+02 2.030e+02 4.330e+02 2.640e+02 3.160e+02 3.680e+02\n",
            " 5.570e+02 4.610e+02 8.300e+02 5.250e+02 2.910e+02 2.940e+02 4.450e+02\n",
            " 2.850e+02 3.010e+02 3.140e+02 3.210e+02 2.260e+02 2.000e+02 4.980e+02\n",
            " 7.480e+02 3.630e+02 3.260e+02 2.660e+02 3.760e+02 4.230e+02 4.520e+02\n",
            " 3.510e+02 2.180e+02 3.440e+02 2.780e+02 3.070e+02 7.380e+02 2.080e+02\n",
            " 2.840e+02 3.270e+02 4.510e+02 3.190e+02 1.940e+02 2.600e+02 3.020e+02\n",
            " 3.230e+02 4.020e+02 4.240e+02 2.150e+02 2.520e+02 3.580e+02 3.300e+02\n",
            " 3.620e+02 2.090e+02 6.430e+02 6.240e+02 4.860e+02 4.220e+02 2.800e+02\n",
            " 2.690e+02 4.160e+02 2.590e+02 2.960e+02 2.610e+02 4.920e+02 3.310e+02\n",
            " 5.880e+02 5.930e+02 3.800e+02 7.390e+02 3.730e+02 3.240e+02 5.340e+02\n",
            " 5.500e+02 4.930e+02 2.890e+02 3.040e+02 2.400e+02 2.930e+02 3.290e+02\n",
            " 6.830e+02 3.750e+02 5.890e+02 4.150e+02 3.170e+02 2.700e+02 3.550e+02\n",
            " 2.870e+02 2.740e+02 2.670e+02 2.210e+02 4.580e+02 3.420e+02 5.990e+02\n",
            " 5.630e+02 3.200e+02 3.030e+02 5.150e+02 6.000e+02 4.890e+02 4.040e+02\n",
            " 3.130e+02 3.490e+02 3.100e+02 2.790e+02 3.700e+02 4.000e+02 2.820e+02\n",
            " 3.600e+02 3.330e+02 6.690e+02 3.280e+02 3.320e+02 4.130e+02 4.030e+02\n",
            " 2.980e+02 3.570e+02 2.810e+02 3.400e+02 3.050e+02 4.170e+02 4.970e+02\n",
            " 4.090e+02 1.101e+03 4.400e+02 3.180e+02 4.310e+02 6.020e+02 3.370e+02\n",
            " 3.720e+02 2.190e+02 3.950e+02 2.490e+02 3.890e+02 3.900e+02 3.940e+02\n",
            " 3.810e+02 2.860e+02 2.680e+02 3.120e+02 2.990e+02 3.930e+02 4.180e+02\n",
            " 5.360e+02 3.660e+02 3.870e+02 5.230e+02 3.530e+02 3.380e+02 8.550e+02\n",
            " 3.610e+02 3.830e+02 8.620e+02 8.880e+02 8.720e+02 4.530e+02 5.780e+02\n",
            " 3.850e+02 5.180e+02 2.420e+02 5.160e+02 3.500e+02 4.110e+02 4.380e+02\n",
            " 3.430e+02 3.150e+02 3.560e+02 4.200e+02 4.550e+02 3.450e+02 3.970e+02\n",
            " 4.720e+02 4.480e+02 3.110e+02 3.980e+02 4.140e+02 6.060e+02 6.040e+02\n",
            " 6.220e+02 3.220e+02 3.460e+02 6.280e+02 4.060e+02 5.110e+02 4.100e+02\n",
            " 8.500e+02 3.480e+02 6.990e+02 3.920e+02 4.370e+02 3.860e+02 4.730e+02\n",
            " 5.060e+02 4.670e+02 6.760e+02 7.140e+02 5.560e+02 4.810e+02 9.910e+02\n",
            " 7.280e+02 3.390e+02 4.360e+02 7.180e+02 4.870e+02 6.950e+02 7.980e+02\n",
            " 6.210e+02 6.250e+02 6.400e+02 7.060e+02 4.280e+02 6.120e+02 4.340e+02\n",
            " 4.830e+02 4.460e+02 3.520e+02 3.350e+02 4.710e+02 3.740e+02 3.910e+02\n",
            " 4.660e+02 4.420e+02 5.100e+02 3.960e+02 4.320e+02 5.440e+02 5.950e+02\n",
            " 6.850e+02 4.490e+02 7.620e+02 4.560e+02 7.840e+02 6.640e+02 6.140e+02\n",
            " 4.820e+02 7.640e+02 3.650e+02 5.670e+02 7.260e+02 9.160e+02 4.940e+02\n",
            " 5.550e+02 3.820e+02 4.050e+02 1.134e+03 5.270e+02 6.740e+02 6.750e+02\n",
            " 5.370e+02 4.390e+02 4.250e+02 5.740e+02 5.280e+02 5.730e+02 4.010e+02\n",
            " 4.700e+02 5.410e+02 5.770e+02 4.590e+02 4.210e+02 7.770e+02 7.790e+02\n",
            " 4.440e+02 4.880e+02 5.710e+02 4.070e+02 4.690e+02 1.049e+03 7.910e+02\n",
            " 6.800e+02 5.430e+02 5.170e+02 3.780e+02 4.910e+02 4.780e+02 4.640e+02\n",
            " 4.620e+02 5.450e+02 4.500e+02 4.770e+02]\n",
            "\n",
            "SECURITY_DELAY\n",
            "unique value count: 154\n",
            "unique values: [ nan   0.  46. 107.  11.  10.  30.  19.   6.   1.   2.   9.  17.  34.\n",
            "  35.  15.  28.  12.  27.  16.  99.  56.  20.  58.   7.  61.  13.   3.\n",
            "  14.  23.  21.   4.  54.  52.  53.  64.  24.  18.  50.  96.  62.  26.\n",
            "  32.  22.   5.  29.  39.  63.  45.  25.  80.  91.  59.  73.  31.   8.\n",
            "  40. 104.  36.  41. 237. 227.  68.  71.  47.  43.  55.  75.  37.  98.\n",
            "  57. 241.  92.  78.  42.  38.  97. 168. 141. 142.  33.  90.  51. 140.\n",
            "  69. 121. 190.  88. 123.  79. 204.  77. 158. 160. 215. 221.  49.  44.\n",
            "  94.  84.  65.  86. 102.  76.  81. 205. 101.  95.  85. 116.  48. 175.\n",
            "  67. 126.  66.  72. 138.  74. 103. 118. 154. 191.  60. 148. 214. 196.\n",
            " 135. 256. 110. 124. 203. 120. 164. 186.  93.  83.  70. 181. 122.  82.\n",
            " 108. 573. 128.  89. 106. 440. 127. 171. 129. 133. 149.  87. 364. 144.\n",
            " 105.]\n",
            "\n",
            "AIRLINE_DELAY\n",
            "unique value count: 1067\n",
            "unique values: [  nan    0.   15. ...  879. 1185. 1636.]\n",
            "\n",
            "LATE_AIRCRAFT_DELAY\n",
            "unique value count: 695\n",
            "unique values: [      nan 0.000e+00 8.800e+01 3.100e+01 3.060e+02 3.000e+00 8.000e+00\n",
            " 7.000e+00 5.000e+00 1.200e+01 2.000e+01 1.100e+01 1.900e+01 2.900e+01\n",
            " 4.800e+01 2.500e+01 1.300e+01 7.500e+01 2.350e+02 1.000e+01 6.000e+00\n",
            " 6.200e+01 8.000e+01 1.600e+01 1.010e+02 3.700e+01 7.400e+01 1.400e+01\n",
            " 7.700e+01 6.300e+01 4.000e+01 1.840e+02 5.600e+01 1.400e+02 3.900e+01\n",
            " 2.600e+01 6.500e+01 4.670e+02 8.900e+01 1.000e+02 3.300e+01 4.000e+00\n",
            " 1.270e+02 1.160e+02 2.000e+00 9.000e+00 7.800e+01 2.100e+01 7.600e+01\n",
            " 1.800e+01 7.300e+01 5.900e+01 1.000e+00 1.210e+02 1.220e+02 4.200e+01\n",
            " 2.200e+01 2.300e+01 2.800e+01 1.740e+02 2.400e+01 1.280e+02 1.020e+02\n",
            " 6.700e+01 6.100e+01 2.640e+02 1.500e+01 3.500e+01 3.400e+01 4.300e+01\n",
            " 1.660e+02 4.100e+01 2.700e+01 5.700e+01 1.700e+01 7.100e+01 3.800e+01\n",
            " 3.600e+01 5.200e+01 3.000e+01 1.250e+02 5.100e+01 4.600e+01 1.230e+02\n",
            " 4.400e+01 8.200e+01 6.000e+01 1.180e+02 1.440e+02 4.500e+01 2.490e+02\n",
            " 9.900e+01 8.300e+01 1.990e+02 1.260e+02 9.200e+01 5.300e+01 6.600e+01\n",
            " 2.170e+02 3.050e+02 5.000e+01 1.150e+02 4.700e+01 1.050e+02 3.200e+01\n",
            " 1.380e+02 7.000e+01 1.710e+02 4.900e+01 1.190e+02 8.100e+01 7.200e+01\n",
            " 1.060e+02 9.600e+01 1.640e+02 1.330e+02 1.140e+02 1.850e+02 5.400e+01\n",
            " 9.100e+01 9.800e+01 1.110e+02 1.310e+02 1.070e+02 8.500e+01 6.900e+01\n",
            " 5.500e+01 5.800e+01 2.990e+02 8.600e+01 1.960e+02 8.700e+01 9.400e+01\n",
            " 6.800e+01 1.290e+02 1.590e+02 2.760e+02 1.090e+02 1.860e+02 9.500e+01\n",
            " 2.450e+02 1.820e+02 6.400e+01 1.080e+02 9.000e+01 1.100e+02 1.300e+02\n",
            " 1.630e+02 1.200e+02 2.750e+02 1.040e+02 8.400e+01 1.510e+02 2.050e+02\n",
            " 1.730e+02 1.490e+02 7.170e+02 3.560e+02 5.360e+02 7.900e+01 1.680e+02\n",
            " 1.610e+02 2.930e+02 1.930e+02 2.090e+02 1.240e+02 9.700e+01 1.350e+02\n",
            " 2.000e+02 1.370e+02 1.580e+02 3.640e+02 1.690e+02 1.320e+02 2.630e+02\n",
            " 2.560e+02 1.720e+02 2.140e+02 2.030e+02 3.010e+02 1.450e+02 2.110e+02\n",
            " 9.300e+01 1.170e+02 1.500e+02 1.830e+02 2.310e+02 1.530e+02 2.420e+02\n",
            " 1.520e+02 1.670e+02 1.800e+02 2.100e+02 1.870e+02 2.040e+02 1.480e+02\n",
            " 1.620e+02 1.700e+02 1.650e+02 1.430e+02 2.230e+02 3.150e+02 1.810e+02\n",
            " 1.560e+02 1.340e+02 1.750e+02 2.920e+02 1.030e+02 3.430e+02 1.770e+02\n",
            " 1.550e+02 1.130e+02 1.600e+02 1.120e+02 7.360e+02 1.390e+02 2.260e+02\n",
            " 2.010e+02 3.910e+02 1.950e+02 2.660e+02 8.910e+02 2.080e+02 2.340e+02\n",
            " 4.440e+02 3.140e+02 3.090e+02 6.720e+02 1.780e+02 2.210e+02 2.060e+02\n",
            " 2.330e+02 3.080e+02 2.380e+02 2.710e+02 3.000e+02 1.570e+02 1.360e+02\n",
            " 3.540e+02 2.220e+02 2.480e+02 3.370e+02 2.270e+02 1.540e+02 2.910e+02\n",
            " 2.240e+02 1.470e+02 2.600e+02 4.480e+02 1.980e+02 4.640e+02 3.100e+02\n",
            " 2.820e+02 1.880e+02 3.170e+02 2.290e+02 3.390e+02 2.530e+02 1.900e+02\n",
            " 1.420e+02 1.920e+02 2.390e+02 1.890e+02 3.680e+02 3.260e+02 2.650e+02\n",
            " 2.300e+02 1.410e+02 1.460e+02 1.790e+02 1.970e+02 4.940e+02 3.810e+02\n",
            " 3.160e+02 1.910e+02 3.030e+02 2.200e+02 3.840e+02 1.760e+02 2.970e+02\n",
            " 3.180e+02 2.130e+02 2.540e+02 4.280e+02 4.380e+02 1.940e+02 4.500e+02\n",
            " 2.160e+02 2.470e+02 2.740e+02 2.020e+02 2.690e+02 4.550e+02 2.830e+02\n",
            " 2.580e+02 2.180e+02 2.370e+02 3.400e+02 2.520e+02 2.890e+02 2.500e+02\n",
            " 2.510e+02 2.120e+02 2.960e+02 2.940e+02 2.410e+02 2.360e+02 2.250e+02\n",
            " 2.070e+02 2.610e+02 2.730e+02 2.430e+02 4.300e+02 2.800e+02 3.940e+02\n",
            " 3.310e+02 2.720e+02 3.630e+02 2.620e+02 2.400e+02 2.190e+02 3.320e+02\n",
            " 3.510e+02 2.150e+02 2.880e+02 3.420e+02 3.070e+02 2.460e+02 8.630e+02\n",
            " 3.960e+02 3.020e+02 2.860e+02 2.790e+02 3.040e+02 2.900e+02 2.870e+02\n",
            " 3.190e+02 2.950e+02 3.450e+02 7.090e+02 3.760e+02 4.070e+02 3.360e+02\n",
            " 2.440e+02 2.550e+02 7.290e+02 6.200e+02 2.840e+02 3.670e+02 3.730e+02\n",
            " 3.820e+02 3.290e+02 3.470e+02 3.110e+02 2.590e+02 2.680e+02 3.250e+02\n",
            " 2.700e+02 2.320e+02 3.230e+02 2.850e+02 2.280e+02 2.670e+02 5.020e+02\n",
            " 2.810e+02 5.550e+02 5.000e+02 5.060e+02 4.920e+02 2.770e+02 5.170e+02\n",
            " 3.530e+02 4.310e+02 4.330e+02 4.170e+02 9.380e+02 2.980e+02 3.220e+02\n",
            " 4.340e+02 3.270e+02 3.990e+02 3.570e+02 4.000e+02 4.650e+02 4.660e+02\n",
            " 3.980e+02 5.290e+02 7.160e+02 3.650e+02 3.830e+02 4.820e+02 5.880e+02\n",
            " 5.830e+02 4.290e+02 4.350e+02 3.330e+02 2.570e+02 3.240e+02 3.610e+02\n",
            " 8.870e+02 5.910e+02 3.710e+02 3.690e+02 5.040e+02 5.490e+02 5.450e+02\n",
            " 5.600e+02 9.480e+02 3.120e+02 7.150e+02 3.200e+02 8.640e+02 3.860e+02\n",
            " 4.250e+02 2.780e+02 6.350e+02 4.030e+02 3.350e+02 4.730e+02 3.800e+02\n",
            " 3.340e+02 3.410e+02 3.660e+02 5.980e+02 4.600e+02 3.300e+02 4.390e+02\n",
            " 6.550e+02 3.620e+02 6.140e+02 3.930e+02 5.720e+02 3.500e+02 9.250e+02\n",
            " 5.510e+02 6.150e+02 4.270e+02 4.840e+02 5.410e+02 3.480e+02 7.010e+02\n",
            " 3.130e+02 1.174e+03 4.420e+02 1.020e+03 4.130e+02 4.870e+02 4.990e+02\n",
            " 7.590e+02 4.180e+02 3.920e+02 4.510e+02 4.490e+02 5.690e+02 3.440e+02\n",
            " 4.230e+02 6.290e+02 7.520e+02 3.380e+02 7.380e+02 5.370e+02 7.610e+02\n",
            " 1.256e+03 3.890e+02 8.580e+02 4.080e+02 5.150e+02 1.313e+03 4.890e+02\n",
            " 3.790e+02 4.040e+02 4.160e+02 4.760e+02 6.490e+02 5.050e+02 3.600e+02\n",
            " 1.039e+03 4.120e+02 4.680e+02 3.590e+02 4.360e+02 3.280e+02 4.800e+02\n",
            " 4.020e+02 6.240e+02 4.150e+02 4.690e+02 3.210e+02 3.970e+02 3.750e+02\n",
            " 5.680e+02 4.700e+02 7.270e+02 4.750e+02 5.190e+02 4.580e+02 4.200e+02\n",
            " 4.810e+02 4.410e+02 4.190e+02 6.590e+02 3.490e+02 4.570e+02 3.580e+02\n",
            " 3.900e+02 4.950e+02 4.590e+02 1.102e+03 5.460e+02 5.350e+02 5.400e+02\n",
            " 4.210e+02 6.180e+02 7.560e+02 5.140e+02 7.910e+02 5.130e+02 7.630e+02\n",
            " 4.140e+02 4.050e+02 5.200e+02 6.420e+02 6.360e+02 7.240e+02 4.370e+02\n",
            " 6.900e+02 3.880e+02 5.180e+02 3.550e+02 4.400e+02 4.220e+02 4.470e+02\n",
            " 5.810e+02 8.840e+02 3.720e+02 8.990e+02 4.560e+02 7.990e+02 6.980e+02\n",
            " 4.850e+02 1.294e+03 7.280e+02 3.870e+02 5.940e+02 9.390e+02 5.790e+02\n",
            " 5.990e+02 5.320e+02 5.860e+02 5.670e+02 4.060e+02 4.910e+02 6.400e+02\n",
            " 5.260e+02 3.700e+02 4.010e+02 5.700e+02 7.650e+02 4.930e+02 4.900e+02\n",
            " 5.640e+02 7.040e+02 6.130e+02 4.880e+02 6.010e+02 4.770e+02 6.280e+02\n",
            " 5.570e+02 4.710e+02 1.331e+03 1.164e+03 8.000e+02 6.920e+02 4.260e+02\n",
            " 3.740e+02 1.057e+03 4.090e+02 8.350e+02 6.970e+02 5.520e+02 7.110e+02\n",
            " 6.640e+02 4.610e+02 5.270e+02 4.740e+02 3.520e+02 4.790e+02 3.460e+02\n",
            " 8.460e+02 5.430e+02 3.950e+02 4.320e+02 5.760e+02 7.330e+02 8.200e+02\n",
            " 5.380e+02 5.030e+02 5.470e+02 4.830e+02 4.630e+02 6.160e+02 4.720e+02\n",
            " 3.770e+02 1.010e+03 9.280e+02 5.750e+02 5.710e+02 6.230e+02 4.240e+02\n",
            " 4.540e+02 4.530e+02 6.250e+02 8.170e+02 4.430e+02 7.300e+02 6.430e+02\n",
            " 6.450e+02 3.780e+02 4.100e+02 7.130e+02 5.500e+02 6.080e+02 4.960e+02\n",
            " 5.890e+02 5.530e+02 5.390e+02 5.420e+02 4.780e+02 5.440e+02 7.060e+02\n",
            " 5.240e+02 8.690e+02 5.480e+02 4.620e+02 6.060e+02 5.300e+02 4.110e+02\n",
            " 5.280e+02 6.330e+02 7.000e+02 4.860e+02 7.430e+02 8.070e+02 5.230e+02\n",
            " 5.620e+02 5.220e+02 5.160e+02 6.610e+02 6.300e+02 7.640e+02 6.660e+02\n",
            " 6.570e+02 7.530e+02 5.740e+02 4.460e+02 5.090e+02 5.120e+02 8.160e+02\n",
            " 6.320e+02 6.750e+02 7.250e+02 4.970e+02 7.320e+02 9.830e+02 5.590e+02\n",
            " 5.080e+02 5.840e+02 3.850e+02 6.000e+02 7.540e+02 6.880e+02 4.520e+02\n",
            " 4.980e+02 6.990e+02 7.100e+02 6.390e+02 6.030e+02 1.033e+03 8.230e+02\n",
            " 7.700e+02 6.840e+02 7.800e+02 8.290e+02 5.010e+02 7.900e+02 8.080e+02\n",
            " 7.490e+02 1.014e+03 7.710e+02 1.190e+03 9.900e+02 5.920e+02 7.510e+02\n",
            " 6.050e+02 9.040e+02 5.580e+02]\n",
            "\n",
            "WEATHER_DELAY\n",
            "unique value count: 632\n",
            "unique values: [      nan 0.000e+00 1.020e+02 1.280e+02 2.130e+02 1.160e+02 1.110e+02\n",
            " 1.070e+02 5.400e+01 1.700e+01 1.310e+02 9.300e+01 1.600e+01 1.560e+02\n",
            " 4.000e+00 5.000e+01 2.800e+01 4.800e+01 5.500e+01 1.200e+02 2.400e+01\n",
            " 2.500e+01 4.100e+01 7.100e+01 1.900e+01 1.800e+01 7.800e+01 8.400e+01\n",
            " 1.500e+01 8.000e+00 9.000e+00 1.000e+00 6.100e+01 1.270e+02 1.400e+01\n",
            " 4.200e+01 1.370e+02 2.300e+01 3.600e+01 3.000e+00 5.000e+00 2.700e+01\n",
            " 1.250e+02 6.000e+00 1.200e+01 2.200e+01 6.200e+01 3.100e+01 7.000e+00\n",
            " 2.000e+00 2.000e+01 3.500e+01 3.300e+01 1.100e+01 6.800e+01 1.030e+02\n",
            " 7.500e+01 2.900e+01 3.000e+01 8.900e+01 8.100e+01 4.600e+01 5.100e+01\n",
            " 1.000e+01 2.100e+01 8.300e+01 6.600e+01 8.200e+01 1.040e+02 4.300e+01\n",
            " 1.500e+02 6.400e+01 4.500e+01 1.290e+02 1.340e+02 1.790e+02 7.200e+01\n",
            " 1.050e+02 5.700e+01 6.000e+01 5.600e+01 8.000e+01 6.700e+01 1.300e+01\n",
            " 1.580e+02 7.300e+01 1.620e+02 8.700e+01 3.900e+01 2.600e+01 3.400e+01\n",
            " 4.900e+01 3.700e+01 1.530e+02 8.800e+01 3.200e+01 4.700e+01 2.270e+02\n",
            " 1.150e+02 3.800e+01 9.700e+01 7.400e+01 1.540e+02 1.080e+02 1.520e+02\n",
            " 1.780e+02 1.100e+02 8.500e+01 1.170e+02 6.300e+01 1.440e+02 1.060e+02\n",
            " 4.530e+02 5.200e+01 1.760e+02 1.180e+02 5.900e+01 5.800e+01 1.400e+02\n",
            " 4.400e+01 1.610e+02 4.000e+01 6.900e+01 9.200e+01 1.330e+02 1.700e+02\n",
            " 2.400e+02 5.300e+01 1.710e+02 2.080e+02 1.810e+02 1.900e+02 1.890e+02\n",
            " 1.360e+02 6.500e+01 1.690e+02 1.910e+02 3.520e+02 7.900e+01 7.600e+01\n",
            " 8.600e+01 1.480e+02 2.970e+02 7.000e+01 1.510e+02 1.230e+02 1.010e+02\n",
            " 2.650e+02 1.980e+02 1.090e+02 1.420e+02 1.840e+02 1.240e+02 2.770e+02\n",
            " 1.850e+02 2.450e+02 2.260e+02 2.020e+02 2.300e+02 1.130e+02 2.470e+02\n",
            " 3.180e+02 1.630e+02 1.830e+02 2.060e+02 1.460e+02 1.380e+02 2.240e+02\n",
            " 1.570e+02 2.110e+02 1.320e+02 1.140e+02 9.600e+01 1.260e+02 9.800e+01\n",
            " 2.810e+02 4.000e+02 3.510e+02 1.670e+02 2.040e+02 3.200e+02 2.990e+02\n",
            " 2.540e+02 1.860e+02 1.880e+02 3.300e+02 1.430e+02 1.450e+02 1.720e+02\n",
            " 2.070e+02 2.460e+02 1.470e+02 3.880e+02 4.560e+02 2.370e+02 1.770e+02\n",
            " 2.870e+02 1.120e+02 3.710e+02 2.800e+02 2.520e+02 2.180e+02 7.700e+01\n",
            " 2.090e+02 5.620e+02 1.970e+02 1.300e+02 3.540e+02 4.380e+02 2.780e+02\n",
            " 1.390e+02 2.480e+02 2.140e+02 2.840e+02 9.100e+01 9.000e+01 9.500e+01\n",
            " 2.280e+02 1.350e+02 2.000e+02 2.380e+02 3.150e+02 3.030e+02 1.000e+02\n",
            " 3.450e+02 9.900e+01 1.210e+02 1.680e+02 2.010e+02 4.020e+02 1.740e+02\n",
            " 1.930e+02 2.220e+02 9.400e+01 6.810e+02 3.230e+02 2.100e+02 2.640e+02\n",
            " 2.550e+02 1.590e+02 1.870e+02 1.490e+02 2.200e+02 4.860e+02 1.660e+02\n",
            " 2.860e+02 1.990e+02 2.580e+02 2.670e+02 2.500e+02 1.820e+02 2.710e+02\n",
            " 1.650e+02 1.920e+02 2.230e+02 1.600e+02 1.800e+02 7.710e+02 2.510e+02\n",
            " 2.620e+02 4.730e+02 1.410e+02 2.790e+02 2.030e+02 1.190e+02 1.950e+02\n",
            " 5.100e+02 3.130e+02 3.390e+02 1.550e+02 6.280e+02 3.110e+02 9.380e+02\n",
            " 6.370e+02 6.820e+02 7.350e+02 5.440e+02 5.490e+02 4.870e+02 4.570e+02\n",
            " 3.160e+02 4.460e+02 4.160e+02 4.320e+02 2.150e+02 2.340e+02 1.730e+02\n",
            " 7.230e+02 3.060e+02 3.970e+02 2.190e+02 2.830e+02 6.010e+02 5.940e+02\n",
            " 4.220e+02 3.340e+02 2.160e+02 3.720e+02 3.420e+02 3.750e+02 2.750e+02\n",
            " 2.600e+02 6.870e+02 2.440e+02 4.650e+02 3.120e+02 2.050e+02 2.420e+02\n",
            " 2.730e+02 2.390e+02 4.800e+02 3.530e+02 4.680e+02 2.900e+02 2.610e+02\n",
            " 2.360e+02 2.250e+02 8.190e+02 2.410e+02 2.490e+02 7.200e+02 4.030e+02\n",
            " 1.940e+02 2.880e+02 3.190e+02 2.630e+02 3.350e+02 3.260e+02 2.940e+02\n",
            " 3.020e+02 3.040e+02 3.140e+02 3.270e+02 3.470e+02 2.950e+02 3.900e+02\n",
            " 6.660e+02 3.740e+02 5.540e+02 5.080e+02 2.320e+02 4.980e+02 1.116e+03\n",
            " 2.690e+02 5.950e+02 3.670e+02 1.960e+02 6.640e+02 2.310e+02 3.630e+02\n",
            " 3.790e+02 1.640e+02 2.700e+02 3.550e+02 3.600e+02 3.590e+02 2.920e+02\n",
            " 3.490e+02 2.210e+02 6.030e+02 6.990e+02 1.220e+02 3.650e+02 3.050e+02\n",
            " 2.820e+02 3.330e+02 2.930e+02 4.300e+02 4.010e+02 3.210e+02 2.350e+02\n",
            " 5.130e+02 3.360e+02 5.050e+02 3.320e+02 9.870e+02 2.720e+02 8.630e+02\n",
            " 7.650e+02 8.740e+02 1.002e+03 6.240e+02 4.290e+02 4.880e+02 4.910e+02\n",
            " 3.000e+02 3.410e+02 1.000e+03 6.670e+02 3.500e+02 4.340e+02 6.510e+02\n",
            " 9.240e+02 4.750e+02 2.120e+02 4.040e+02 1.750e+02 7.470e+02 3.070e+02\n",
            " 7.080e+02 9.370e+02 9.770e+02 7.180e+02 1.152e+03 1.039e+03 6.430e+02\n",
            " 2.850e+02 6.040e+02 3.310e+02 3.400e+02 3.100e+02 8.480e+02 4.500e+02\n",
            " 4.050e+02 2.560e+02 4.240e+02 6.630e+02 3.610e+02 4.590e+02 2.740e+02\n",
            " 3.370e+02 3.170e+02 2.680e+02 2.590e+02 4.200e+02 2.430e+02 4.190e+02\n",
            " 4.780e+02 6.380e+02 4.810e+02 6.890e+02 2.170e+02 3.380e+02 3.810e+02\n",
            " 3.930e+02 2.910e+02 3.830e+02 4.900e+02 4.610e+02 1.118e+03 9.420e+02\n",
            " 3.240e+02 5.290e+02 1.052e+03 7.570e+02 9.660e+02 6.260e+02 6.110e+02\n",
            " 2.570e+02 2.290e+02 9.730e+02 7.110e+02 5.470e+02 3.280e+02 4.550e+02\n",
            " 4.110e+02 3.990e+02 3.460e+02 5.810e+02 2.760e+02 3.690e+02 7.120e+02\n",
            " 2.960e+02 8.620e+02 5.830e+02 7.600e+02 3.090e+02 1.035e+03 5.900e+02\n",
            " 7.000e+02 5.270e+02 4.940e+02 4.130e+02 6.290e+02 4.920e+02 4.120e+02\n",
            " 7.440e+02 4.360e+02 4.670e+02 6.620e+02 7.040e+02 7.960e+02 7.250e+02\n",
            " 2.330e+02 3.430e+02 2.660e+02 2.530e+02 3.920e+02 4.790e+02 4.830e+02\n",
            " 5.800e+02 4.740e+02 3.820e+02 5.590e+02 2.890e+02 1.021e+03 4.250e+02\n",
            " 2.980e+02 3.860e+02 3.950e+02 5.360e+02 6.920e+02 5.630e+02 5.460e+02\n",
            " 3.250e+02 4.600e+02 7.320e+02 5.160e+02 3.700e+02 6.050e+02 5.730e+02\n",
            " 4.620e+02 5.410e+02 4.310e+02 4.520e+02 3.080e+02 7.270e+02 4.170e+02\n",
            " 4.660e+02 4.060e+02 3.770e+02 3.290e+02 9.750e+02 3.560e+02 3.850e+02\n",
            " 3.620e+02 3.910e+02 8.650e+02 3.570e+02 6.960e+02 9.190e+02 3.010e+02\n",
            " 4.630e+02 4.970e+02 5.510e+02 3.680e+02 1.068e+03 9.780e+02 8.550e+02\n",
            " 7.390e+02 7.310e+02 5.760e+02 6.840e+02 8.930e+02 7.050e+02 4.700e+02\n",
            " 4.370e+02 9.400e+02 9.320e+02 6.540e+02 7.450e+02 8.360e+02 3.760e+02\n",
            " 4.930e+02 3.940e+02 4.180e+02 5.980e+02 6.300e+02 7.620e+02 5.260e+02\n",
            " 6.800e+02 3.980e+02 4.070e+02 3.800e+02 3.440e+02 4.080e+02 5.150e+02\n",
            " 4.720e+02 4.330e+02 3.640e+02 6.320e+02 8.960e+02 4.400e+02 6.440e+02\n",
            " 7.500e+02 5.700e+02 9.300e+02 6.790e+02 5.710e+02 5.420e+02 5.190e+02\n",
            " 6.270e+02 5.920e+02 3.220e+02 3.870e+02 9.950e+02 4.210e+02 4.420e+02\n",
            " 4.690e+02 8.080e+02 5.550e+02 8.160e+02 1.120e+03 9.880e+02 3.960e+02\n",
            " 9.290e+02 3.660e+02 3.580e+02 4.440e+02 4.490e+02 9.050e+02 9.910e+02\n",
            " 6.880e+02 7.670e+02 7.140e+02 4.270e+02 6.470e+02 6.530e+02 4.580e+02\n",
            " 8.410e+02 6.310e+02 5.500e+02 7.970e+02 4.280e+02 4.150e+02 5.210e+02\n",
            " 4.090e+02 1.211e+03 7.460e+02 6.450e+02 7.100e+02 7.480e+02 5.340e+02\n",
            " 4.820e+02 4.480e+02 7.170e+02 9.160e+02 5.090e+02 4.640e+02 5.660e+02\n",
            " 4.350e+02 5.060e+02 7.930e+02]\n",
            "\n"
          ]
        }
      ]
    },
    {
      "cell_type": "markdown",
      "source": [
        "**Weather dataset**\n",
        "\n",
        "This weather dataset tracks weather for 36 cities by hour between 2012 and 2017. A limitation of this dataset is that it is unclear if the times are linked to the time zones of the cities or a standard time. "
      ],
      "metadata": {
        "id": "MJSFHNf-Om8D"
      }
    },
    {
      "cell_type": "code",
      "source": [
        "weather_desc_df = pd.read_csv(\"/content/weather_description.csv\")\n",
        "\n",
        "weather_desc_df.info()"
      ],
      "metadata": {
        "colab": {
          "base_uri": "https://localhost:8080/"
        },
        "id": "l6DZaiiGm-_4",
        "outputId": "6d94e2f6-a5ec-49b1-da78-5b37582808bf"
      },
      "execution_count": 68,
      "outputs": [
        {
          "output_type": "stream",
          "name": "stdout",
          "text": [
            "<class 'pandas.core.frame.DataFrame'>\n",
            "RangeIndex: 45253 entries, 0 to 45252\n",
            "Data columns (total 37 columns):\n",
            " #   Column             Non-Null Count  Dtype \n",
            "---  ------             --------------  ----- \n",
            " 0   datetime           45253 non-null  object\n",
            " 1   Vancouver          44460 non-null  object\n",
            " 2   Portland           45252 non-null  object\n",
            " 3   San Francisco      44460 non-null  object\n",
            " 4   Seattle            45252 non-null  object\n",
            " 5   Los Angeles        45252 non-null  object\n",
            " 6   San Diego          45252 non-null  object\n",
            " 7   Las Vegas          45252 non-null  object\n",
            " 8   Phoenix            45252 non-null  object\n",
            " 9   Albuquerque        45252 non-null  object\n",
            " 10  Denver             45252 non-null  object\n",
            " 11  San Antonio        45252 non-null  object\n",
            " 12  Dallas             45252 non-null  object\n",
            " 13  Houston            45252 non-null  object\n",
            " 14  Kansas City        45252 non-null  object\n",
            " 15  Minneapolis        45252 non-null  object\n",
            " 16  Saint Louis        45252 non-null  object\n",
            " 17  Chicago            45252 non-null  object\n",
            " 18  Nashville          45252 non-null  object\n",
            " 19  Indianapolis       45252 non-null  object\n",
            " 20  Atlanta            45252 non-null  object\n",
            " 21  Detroit            45252 non-null  object\n",
            " 22  Jacksonville       45252 non-null  object\n",
            " 23  Charlotte          45252 non-null  object\n",
            " 24  Miami              44460 non-null  object\n",
            " 25  Pittsburgh         45252 non-null  object\n",
            " 26  Toronto            45252 non-null  object\n",
            " 27  Philadelphia       45252 non-null  object\n",
            " 28  New York           44460 non-null  object\n",
            " 29  Montreal           45252 non-null  object\n",
            " 30  Boston             45252 non-null  object\n",
            " 31  Beersheba          44460 non-null  object\n",
            " 32  Tel Aviv District  44460 non-null  object\n",
            " 33  Eilat              44461 non-null  object\n",
            " 34  Haifa              44460 non-null  object\n",
            " 35  Nahariyya          44460 non-null  object\n",
            " 36  Jerusalem          44460 non-null  object\n",
            "dtypes: object(37)\n",
            "memory usage: 12.8+ MB\n"
          ]
        }
      ]
    },
    {
      "cell_type": "code",
      "source": [
        "weather_desc_df.head()"
      ],
      "metadata": {
        "colab": {
          "base_uri": "https://localhost:8080/",
          "height": 491
        },
        "id": "Ow6paUgHo0F8",
        "outputId": "0f747cff-2a38-4462-cfae-80ecd77bdbb5"
      },
      "execution_count": 69,
      "outputs": [
        {
          "output_type": "execute_result",
          "data": {
            "text/plain": [
              "              datetime      Vancouver          Portland San Francisco  \\\n",
              "0  2012-10-01 12:00:00            NaN               NaN           NaN   \n",
              "1  2012-10-01 13:00:00           mist  scattered clouds    light rain   \n",
              "2  2012-10-01 14:00:00  broken clouds  scattered clouds  sky is clear   \n",
              "3  2012-10-01 15:00:00  broken clouds  scattered clouds  sky is clear   \n",
              "4  2012-10-01 16:00:00  broken clouds  scattered clouds  sky is clear   \n",
              "\n",
              "        Seattle   Los Angeles     San Diego     Las Vegas       Phoenix  \\\n",
              "0           NaN           NaN           NaN           NaN           NaN   \n",
              "1  sky is clear          mist  sky is clear  sky is clear  sky is clear   \n",
              "2  sky is clear  sky is clear  sky is clear  sky is clear  sky is clear   \n",
              "3  sky is clear  sky is clear  sky is clear  sky is clear  sky is clear   \n",
              "4  sky is clear  sky is clear  sky is clear  sky is clear  sky is clear   \n",
              "\n",
              "    Albuquerque  ...   Philadelphia    New York         Montreal  \\\n",
              "0           NaN  ...            NaN         NaN              NaN   \n",
              "1  sky is clear  ...  broken clouds  few clouds  overcast clouds   \n",
              "2  sky is clear  ...  broken clouds  few clouds     sky is clear   \n",
              "3  sky is clear  ...  broken clouds  few clouds     sky is clear   \n",
              "4  sky is clear  ...  broken clouds  few clouds     sky is clear   \n",
              "\n",
              "         Boston        Beersheba Tel Aviv District          Eilat  \\\n",
              "0           NaN              NaN               NaN           haze   \n",
              "1  sky is clear     sky is clear      sky is clear           haze   \n",
              "2    few clouds     sky is clear      sky is clear  broken clouds   \n",
              "3    few clouds  overcast clouds      sky is clear  broken clouds   \n",
              "4    few clouds  overcast clouds      sky is clear  broken clouds   \n",
              "\n",
              "             Haifa        Nahariyya        Jerusalem  \n",
              "0              NaN              NaN              NaN  \n",
              "1     sky is clear     sky is clear     sky is clear  \n",
              "2  overcast clouds     sky is clear  overcast clouds  \n",
              "3  overcast clouds  overcast clouds  overcast clouds  \n",
              "4  overcast clouds  overcast clouds  overcast clouds  \n",
              "\n",
              "[5 rows x 37 columns]"
            ],
            "text/html": [
              "\n",
              "  <div id=\"df-a430c5d8-fd09-4176-bf21-e768cd37ae88\">\n",
              "    <div class=\"colab-df-container\">\n",
              "      <div>\n",
              "<style scoped>\n",
              "    .dataframe tbody tr th:only-of-type {\n",
              "        vertical-align: middle;\n",
              "    }\n",
              "\n",
              "    .dataframe tbody tr th {\n",
              "        vertical-align: top;\n",
              "    }\n",
              "\n",
              "    .dataframe thead th {\n",
              "        text-align: right;\n",
              "    }\n",
              "</style>\n",
              "<table border=\"1\" class=\"dataframe\">\n",
              "  <thead>\n",
              "    <tr style=\"text-align: right;\">\n",
              "      <th></th>\n",
              "      <th>datetime</th>\n",
              "      <th>Vancouver</th>\n",
              "      <th>Portland</th>\n",
              "      <th>San Francisco</th>\n",
              "      <th>Seattle</th>\n",
              "      <th>Los Angeles</th>\n",
              "      <th>San Diego</th>\n",
              "      <th>Las Vegas</th>\n",
              "      <th>Phoenix</th>\n",
              "      <th>Albuquerque</th>\n",
              "      <th>...</th>\n",
              "      <th>Philadelphia</th>\n",
              "      <th>New York</th>\n",
              "      <th>Montreal</th>\n",
              "      <th>Boston</th>\n",
              "      <th>Beersheba</th>\n",
              "      <th>Tel Aviv District</th>\n",
              "      <th>Eilat</th>\n",
              "      <th>Haifa</th>\n",
              "      <th>Nahariyya</th>\n",
              "      <th>Jerusalem</th>\n",
              "    </tr>\n",
              "  </thead>\n",
              "  <tbody>\n",
              "    <tr>\n",
              "      <th>0</th>\n",
              "      <td>2012-10-01 12:00:00</td>\n",
              "      <td>NaN</td>\n",
              "      <td>NaN</td>\n",
              "      <td>NaN</td>\n",
              "      <td>NaN</td>\n",
              "      <td>NaN</td>\n",
              "      <td>NaN</td>\n",
              "      <td>NaN</td>\n",
              "      <td>NaN</td>\n",
              "      <td>NaN</td>\n",
              "      <td>...</td>\n",
              "      <td>NaN</td>\n",
              "      <td>NaN</td>\n",
              "      <td>NaN</td>\n",
              "      <td>NaN</td>\n",
              "      <td>NaN</td>\n",
              "      <td>NaN</td>\n",
              "      <td>haze</td>\n",
              "      <td>NaN</td>\n",
              "      <td>NaN</td>\n",
              "      <td>NaN</td>\n",
              "    </tr>\n",
              "    <tr>\n",
              "      <th>1</th>\n",
              "      <td>2012-10-01 13:00:00</td>\n",
              "      <td>mist</td>\n",
              "      <td>scattered clouds</td>\n",
              "      <td>light rain</td>\n",
              "      <td>sky is clear</td>\n",
              "      <td>mist</td>\n",
              "      <td>sky is clear</td>\n",
              "      <td>sky is clear</td>\n",
              "      <td>sky is clear</td>\n",
              "      <td>sky is clear</td>\n",
              "      <td>...</td>\n",
              "      <td>broken clouds</td>\n",
              "      <td>few clouds</td>\n",
              "      <td>overcast clouds</td>\n",
              "      <td>sky is clear</td>\n",
              "      <td>sky is clear</td>\n",
              "      <td>sky is clear</td>\n",
              "      <td>haze</td>\n",
              "      <td>sky is clear</td>\n",
              "      <td>sky is clear</td>\n",
              "      <td>sky is clear</td>\n",
              "    </tr>\n",
              "    <tr>\n",
              "      <th>2</th>\n",
              "      <td>2012-10-01 14:00:00</td>\n",
              "      <td>broken clouds</td>\n",
              "      <td>scattered clouds</td>\n",
              "      <td>sky is clear</td>\n",
              "      <td>sky is clear</td>\n",
              "      <td>sky is clear</td>\n",
              "      <td>sky is clear</td>\n",
              "      <td>sky is clear</td>\n",
              "      <td>sky is clear</td>\n",
              "      <td>sky is clear</td>\n",
              "      <td>...</td>\n",
              "      <td>broken clouds</td>\n",
              "      <td>few clouds</td>\n",
              "      <td>sky is clear</td>\n",
              "      <td>few clouds</td>\n",
              "      <td>sky is clear</td>\n",
              "      <td>sky is clear</td>\n",
              "      <td>broken clouds</td>\n",
              "      <td>overcast clouds</td>\n",
              "      <td>sky is clear</td>\n",
              "      <td>overcast clouds</td>\n",
              "    </tr>\n",
              "    <tr>\n",
              "      <th>3</th>\n",
              "      <td>2012-10-01 15:00:00</td>\n",
              "      <td>broken clouds</td>\n",
              "      <td>scattered clouds</td>\n",
              "      <td>sky is clear</td>\n",
              "      <td>sky is clear</td>\n",
              "      <td>sky is clear</td>\n",
              "      <td>sky is clear</td>\n",
              "      <td>sky is clear</td>\n",
              "      <td>sky is clear</td>\n",
              "      <td>sky is clear</td>\n",
              "      <td>...</td>\n",
              "      <td>broken clouds</td>\n",
              "      <td>few clouds</td>\n",
              "      <td>sky is clear</td>\n",
              "      <td>few clouds</td>\n",
              "      <td>overcast clouds</td>\n",
              "      <td>sky is clear</td>\n",
              "      <td>broken clouds</td>\n",
              "      <td>overcast clouds</td>\n",
              "      <td>overcast clouds</td>\n",
              "      <td>overcast clouds</td>\n",
              "    </tr>\n",
              "    <tr>\n",
              "      <th>4</th>\n",
              "      <td>2012-10-01 16:00:00</td>\n",
              "      <td>broken clouds</td>\n",
              "      <td>scattered clouds</td>\n",
              "      <td>sky is clear</td>\n",
              "      <td>sky is clear</td>\n",
              "      <td>sky is clear</td>\n",
              "      <td>sky is clear</td>\n",
              "      <td>sky is clear</td>\n",
              "      <td>sky is clear</td>\n",
              "      <td>sky is clear</td>\n",
              "      <td>...</td>\n",
              "      <td>broken clouds</td>\n",
              "      <td>few clouds</td>\n",
              "      <td>sky is clear</td>\n",
              "      <td>few clouds</td>\n",
              "      <td>overcast clouds</td>\n",
              "      <td>sky is clear</td>\n",
              "      <td>broken clouds</td>\n",
              "      <td>overcast clouds</td>\n",
              "      <td>overcast clouds</td>\n",
              "      <td>overcast clouds</td>\n",
              "    </tr>\n",
              "  </tbody>\n",
              "</table>\n",
              "<p>5 rows × 37 columns</p>\n",
              "</div>\n",
              "      <button class=\"colab-df-convert\" onclick=\"convertToInteractive('df-a430c5d8-fd09-4176-bf21-e768cd37ae88')\"\n",
              "              title=\"Convert this dataframe to an interactive table.\"\n",
              "              style=\"display:none;\">\n",
              "        \n",
              "  <svg xmlns=\"http://www.w3.org/2000/svg\" height=\"24px\"viewBox=\"0 0 24 24\"\n",
              "       width=\"24px\">\n",
              "    <path d=\"M0 0h24v24H0V0z\" fill=\"none\"/>\n",
              "    <path d=\"M18.56 5.44l.94 2.06.94-2.06 2.06-.94-2.06-.94-.94-2.06-.94 2.06-2.06.94zm-11 1L8.5 8.5l.94-2.06 2.06-.94-2.06-.94L8.5 2.5l-.94 2.06-2.06.94zm10 10l.94 2.06.94-2.06 2.06-.94-2.06-.94-.94-2.06-.94 2.06-2.06.94z\"/><path d=\"M17.41 7.96l-1.37-1.37c-.4-.4-.92-.59-1.43-.59-.52 0-1.04.2-1.43.59L10.3 9.45l-7.72 7.72c-.78.78-.78 2.05 0 2.83L4 21.41c.39.39.9.59 1.41.59.51 0 1.02-.2 1.41-.59l7.78-7.78 2.81-2.81c.8-.78.8-2.07 0-2.86zM5.41 20L4 18.59l7.72-7.72 1.47 1.35L5.41 20z\"/>\n",
              "  </svg>\n",
              "      </button>\n",
              "      \n",
              "  <style>\n",
              "    .colab-df-container {\n",
              "      display:flex;\n",
              "      flex-wrap:wrap;\n",
              "      gap: 12px;\n",
              "    }\n",
              "\n",
              "    .colab-df-convert {\n",
              "      background-color: #E8F0FE;\n",
              "      border: none;\n",
              "      border-radius: 50%;\n",
              "      cursor: pointer;\n",
              "      display: none;\n",
              "      fill: #1967D2;\n",
              "      height: 32px;\n",
              "      padding: 0 0 0 0;\n",
              "      width: 32px;\n",
              "    }\n",
              "\n",
              "    .colab-df-convert:hover {\n",
              "      background-color: #E2EBFA;\n",
              "      box-shadow: 0px 1px 2px rgba(60, 64, 67, 0.3), 0px 1px 3px 1px rgba(60, 64, 67, 0.15);\n",
              "      fill: #174EA6;\n",
              "    }\n",
              "\n",
              "    [theme=dark] .colab-df-convert {\n",
              "      background-color: #3B4455;\n",
              "      fill: #D2E3FC;\n",
              "    }\n",
              "\n",
              "    [theme=dark] .colab-df-convert:hover {\n",
              "      background-color: #434B5C;\n",
              "      box-shadow: 0px 1px 3px 1px rgba(0, 0, 0, 0.15);\n",
              "      filter: drop-shadow(0px 1px 2px rgba(0, 0, 0, 0.3));\n",
              "      fill: #FFFFFF;\n",
              "    }\n",
              "  </style>\n",
              "\n",
              "      <script>\n",
              "        const buttonEl =\n",
              "          document.querySelector('#df-a430c5d8-fd09-4176-bf21-e768cd37ae88 button.colab-df-convert');\n",
              "        buttonEl.style.display =\n",
              "          google.colab.kernel.accessAllowed ? 'block' : 'none';\n",
              "\n",
              "        async function convertToInteractive(key) {\n",
              "          const element = document.querySelector('#df-a430c5d8-fd09-4176-bf21-e768cd37ae88');\n",
              "          const dataTable =\n",
              "            await google.colab.kernel.invokeFunction('convertToInteractive',\n",
              "                                                     [key], {});\n",
              "          if (!dataTable) return;\n",
              "\n",
              "          const docLinkHtml = 'Like what you see? Visit the ' +\n",
              "            '<a target=\"_blank\" href=https://colab.research.google.com/notebooks/data_table.ipynb>data table notebook</a>'\n",
              "            + ' to learn more about interactive tables.';\n",
              "          element.innerHTML = '';\n",
              "          dataTable['output_type'] = 'display_data';\n",
              "          await google.colab.output.renderOutput(dataTable, element);\n",
              "          const docLink = document.createElement('div');\n",
              "          docLink.innerHTML = docLinkHtml;\n",
              "          element.appendChild(docLink);\n",
              "        }\n",
              "      </script>\n",
              "    </div>\n",
              "  </div>\n",
              "  "
            ]
          },
          "metadata": {},
          "execution_count": 69
        }
      ]
    },
    {
      "cell_type": "markdown",
      "source": [
        "The weather dataset has it's location listed by city while the flights dataset has it's location listed by airport. The values need to be converted to be merged."
      ],
      "metadata": {
        "id": "Q-zVdltePutr"
      }
    },
    {
      "cell_type": "code",
      "source": [
        "weather_desc_df[\"YVR\"] = weather_desc_df[\"Vancouver\"]\n",
        "weather_desc_df[\"PDX\"] = weather_desc_df[\"Portland\"]\n",
        "weather_desc_df[\"SFO\"] = weather_desc_df[\"San Francisco\"]\n",
        "weather_desc_df[\"SEA\"] = weather_desc_df[\"Seattle\"]\n",
        "weather_desc_df[\"LAX\"] = weather_desc_df[\"Los Angeles\"]\n",
        "weather_desc_df[\"LAC\"] = weather_desc_df[\"San Diego\"]\n",
        "weather_desc_df[\"LAS\"] = weather_desc_df[\"Las Vegas\"]\n",
        "weather_desc_df[\"PHX\"] = weather_desc_df[\"Phoenix\"]\n",
        "weather_desc_df[\"ABQ\"] = weather_desc_df[\"Albuquerque\"]\n",
        "weather_desc_df[\"DEN\"] = weather_desc_df[\"Denver\"]\n",
        "weather_desc_df[\"SAT\"] = weather_desc_df[\"San Antonio\"]\n",
        "weather_desc_df[\"DFW\"] = weather_desc_df[\"Dallas\"]\n",
        "weather_desc_df[\"IAH\"] = weather_desc_df[\"Houston\"]\n",
        "weather_desc_df[\"MCI\"] = weather_desc_df[\"Kansas City\"]\n",
        "weather_desc_df[\"MSP\"] = weather_desc_df[\"Minneapolis\"]\n",
        "weather_desc_df[\"BLV\"] = weather_desc_df[\"Saint Louis\"]\n",
        "weather_desc_df[\"ORD\"] = weather_desc_df[\"Chicago\"]\n",
        "weather_desc_df[\"BNA\"] = weather_desc_df[\"Nashville\"]\n",
        "weather_desc_df[\"IND\"] = weather_desc_df[\"Indianapolis\"]\n",
        "weather_desc_df[\"ATL\"] = weather_desc_df[\"Atlanta\"]\n",
        "weather_desc_df[\"DTW\"] = weather_desc_df[\"Detroit\"]\n",
        "weather_desc_df[\"JAX\"] = weather_desc_df[\"Jacksonville\"]\n",
        "weather_desc_df[\"CLT\"] = weather_desc_df[\"Charlotte\"]\n",
        "weather_desc_df[\"MIA\"] = weather_desc_df[\"Miami\"]\n",
        "weather_desc_df[\"PIT\"] = weather_desc_df[\"Pittsburgh\"]\n",
        "weather_desc_df[\"YYZ\"] = weather_desc_df[\"Toronto\"]\n",
        "weather_desc_df[\"PHL\"] = weather_desc_df[\"Philadelphia\"]\n",
        "weather_desc_df[\"JFK\"] = weather_desc_df[\"New York\"]\n",
        "weather_desc_df[\"YUL\"] = weather_desc_df[\"Montreal\"]\n",
        "weather_desc_df[\"BOS\"] = weather_desc_df[\"Boston\"]\n",
        "\n",
        "airports_list = [\"YVR\",\"PDX\",\"SFO\",\"SEA\",\"LAX\",\"LAC\",\"LAS\",\"PHX\",\"ABQ\",\"DEN\",\"SAT\",\"DFW\",\"IAH\",\"MCI\",\"MSP\",\"BLV\",\"ORD\",\"BNA\",\"IND\",\"ATL\",\"DTW\",\"JAX\",\"CLT\",\"MIA\",\"PIT\",\"YYZ\",\"PHL\",\"JFK\",\"YUL\",\"BOS\"]"
      ],
      "metadata": {
        "id": "VpmdokC8V15W"
      },
      "execution_count": 70,
      "outputs": []
    },
    {
      "cell_type": "code",
      "source": [
        "weather_column_list = airports_list\n",
        "weather_column_list.extend([\"datetime\"])\n",
        "\n",
        "weather_desc_df = weather_desc_df.drop(columns=[column for column in weather_desc_df if column not in weather_column_list])\n",
        "\n",
        "weather_desc_df[\"Index\"] = weather_desc_df.index"
      ],
      "metadata": {
        "id": "ZhvnotNUV6LS"
      },
      "execution_count": 71,
      "outputs": []
    },
    {
      "cell_type": "markdown",
      "source": [
        "The dataframe needs to be reoriented to be merged with the flights dataset. The time stamp needs to be broken up by month, day, and hour for the same reason."
      ],
      "metadata": {
        "id": "KxEmSCg-QLo2"
      }
    },
    {
      "cell_type": "code",
      "source": [
        "weather_fixed_df = pd.melt(weather_desc_df, id_vars=\"datetime\", value_vars=airports_list, var_name=\"airport\")\n",
        "\n",
        "weather_fixed_df.info()"
      ],
      "metadata": {
        "colab": {
          "base_uri": "https://localhost:8080/"
        },
        "id": "SydAgdczWIXX",
        "outputId": "952b7c66-063f-4c23-ba50-53b7b3fd891c"
      },
      "execution_count": 72,
      "outputs": [
        {
          "output_type": "stream",
          "name": "stdout",
          "text": [
            "<class 'pandas.core.frame.DataFrame'>\n",
            "RangeIndex: 1357590 entries, 0 to 1357589\n",
            "Data columns (total 3 columns):\n",
            " #   Column    Non-Null Count    Dtype \n",
            "---  ------    --------------    ----- \n",
            " 0   datetime  1357590 non-null  object\n",
            " 1   airport   1357590 non-null  object\n",
            " 2   value     1354392 non-null  object\n",
            "dtypes: object(3)\n",
            "memory usage: 31.1+ MB\n"
          ]
        }
      ]
    },
    {
      "cell_type": "code",
      "source": [
        "weather_fixed_df[\"year\"] = pd.DatetimeIndex(weather_fixed_df[\"datetime\"]).year\n",
        "weather_fixed_df[\"month\"] = pd.DatetimeIndex(weather_fixed_df[\"datetime\"]).month\n",
        "weather_fixed_df[\"day\"] = pd.DatetimeIndex(weather_fixed_df[\"datetime\"]).day\n",
        "weather_fixed_df[\"hour\"] = pd.DatetimeIndex(weather_fixed_df[\"datetime\"]).hour"
      ],
      "metadata": {
        "id": "OabmPDO8WLAf"
      },
      "execution_count": 73,
      "outputs": []
    },
    {
      "cell_type": "code",
      "source": [
        "weather_fixed_df = weather_fixed_df[weather_fixed_df['year'] == 2015]\n",
        "\n",
        "weather_fixed_df.info()"
      ],
      "metadata": {
        "colab": {
          "base_uri": "https://localhost:8080/"
        },
        "id": "jqxTfC0oWZhJ",
        "outputId": "c852a25f-f003-4a07-9c7d-7e0bb4af0e2c"
      },
      "execution_count": 74,
      "outputs": [
        {
          "output_type": "stream",
          "name": "stdout",
          "text": [
            "<class 'pandas.core.frame.DataFrame'>\n",
            "Int64Index: 262800 entries, 19716 to 1340812\n",
            "Data columns (total 7 columns):\n",
            " #   Column    Non-Null Count   Dtype \n",
            "---  ------    --------------   ----- \n",
            " 0   datetime  262800 non-null  object\n",
            " 1   airport   262800 non-null  object\n",
            " 2   value     262800 non-null  object\n",
            " 3   year      262800 non-null  int64 \n",
            " 4   month     262800 non-null  int64 \n",
            " 5   day       262800 non-null  int64 \n",
            " 6   hour      262800 non-null  int64 \n",
            "dtypes: int64(4), object(3)\n",
            "memory usage: 16.0+ MB\n"
          ]
        }
      ]
    },
    {
      "cell_type": "markdown",
      "source": [
        "Reducing flights dataset based on the airports in weather dataset."
      ],
      "metadata": {
        "id": "-_sXMLaOQmVN"
      }
    },
    {
      "cell_type": "code",
      "source": [
        "flights_df = flights_df[flights_df['ORIGIN_AIRPORT'].isin(airports_list)]\n",
        "flights_df = flights_df[flights_df['DESTINATION_AIRPORT'].isin(airports_list)]\n",
        "\n",
        "flights_df.info()"
      ],
      "metadata": {
        "colab": {
          "base_uri": "https://localhost:8080/"
        },
        "id": "3uMF0c-xXekY",
        "outputId": "f5350347-2c72-41f0-d19e-6cfbb05ddf25"
      },
      "execution_count": 75,
      "outputs": [
        {
          "output_type": "stream",
          "name": "stdout",
          "text": [
            "<class 'pandas.core.frame.DataFrame'>\n",
            "Int64Index: 1322264 entries, 2 to 5819074\n",
            "Data columns (total 31 columns):\n",
            " #   Column               Non-Null Count    Dtype  \n",
            "---  ------               --------------    -----  \n",
            " 0   YEAR                 1322264 non-null  int64  \n",
            " 1   MONTH                1322264 non-null  int64  \n",
            " 2   DAY                  1322264 non-null  int64  \n",
            " 3   DAY_OF_WEEK          1322264 non-null  int64  \n",
            " 4   AIRLINE              1322264 non-null  object \n",
            " 5   FLIGHT_NUMBER        1322264 non-null  int64  \n",
            " 6   TAIL_NUMBER          1317657 non-null  object \n",
            " 7   ORIGIN_AIRPORT       1322264 non-null  object \n",
            " 8   DESTINATION_AIRPORT  1322264 non-null  object \n",
            " 9   SCHEDULED_DEPARTURE  1322264 non-null  int64  \n",
            " 10  DEPARTURE_TIME       1307412 non-null  float64\n",
            " 11  DEPARTURE_DELAY      1307412 non-null  float64\n",
            " 12  TAXI_OUT             1306830 non-null  float64\n",
            " 13  WHEELS_OFF           1306830 non-null  float64\n",
            " 14  SCHEDULED_TIME       1322263 non-null  float64\n",
            " 15  ELAPSED_TIME         1303781 non-null  float64\n",
            " 16  AIR_TIME             1303781 non-null  float64\n",
            " 17  DISTANCE             1322264 non-null  int64  \n",
            " 18  WHEELS_ON            1306502 non-null  float64\n",
            " 19  TAXI_IN              1306502 non-null  float64\n",
            " 20  SCHEDULED_ARRIVAL    1322264 non-null  int64  \n",
            " 21  ARRIVAL_TIME         1306502 non-null  float64\n",
            " 22  ARRIVAL_DELAY        1303781 non-null  float64\n",
            " 23  DIVERTED             1322264 non-null  int64  \n",
            " 24  CANCELLED            1322264 non-null  int64  \n",
            " 25  CANCELLATION_REASON  15516 non-null    object \n",
            " 26  AIR_SYSTEM_DELAY     260510 non-null   float64\n",
            " 27  SECURITY_DELAY       260510 non-null   float64\n",
            " 28  AIRLINE_DELAY        260510 non-null   float64\n",
            " 29  LATE_AIRCRAFT_DELAY  260510 non-null   float64\n",
            " 30  WEATHER_DELAY        260510 non-null   float64\n",
            "dtypes: float64(16), int64(10), object(5)\n",
            "memory usage: 322.8+ MB\n"
          ]
        }
      ]
    },
    {
      "cell_type": "code",
      "source": [
        "print(\"unique value count: {}\".format(flights_df[\"CANCELLATION_REASON\"].nunique()))\n",
        "print(\"unique values: {}\".format(flights_df[\"CANCELLATION_REASON\"].unique()))"
      ],
      "metadata": {
        "colab": {
          "base_uri": "https://localhost:8080/"
        },
        "id": "8CyHC1aHY7Wq",
        "outputId": "7df7dee6-bd28-4ed3-9127-1f6a78ce7947"
      },
      "execution_count": 76,
      "outputs": [
        {
          "output_type": "stream",
          "name": "stdout",
          "text": [
            "unique value count: 3\n",
            "unique values: [nan 'B' 'A' 'C']\n"
          ]
        }
      ]
    },
    {
      "cell_type": "code",
      "source": [
        "flights_df = flights_df.drop(columns = [\"CANCELLATION_REASON\", \"AIR_SYSTEM_DELAY\", \"SECURITY_DELAY\", \"AIRLINE_DELAY\", \"LATE_AIRCRAFT_DELAY\", \"WEATHER_DELAY\"])\n",
        "flights_df.info()"
      ],
      "metadata": {
        "colab": {
          "base_uri": "https://localhost:8080/"
        },
        "id": "nZD07Zb2Xgtp",
        "outputId": "88bce044-136c-4c96-cb11-2d1efebe6300"
      },
      "execution_count": 77,
      "outputs": [
        {
          "output_type": "stream",
          "name": "stdout",
          "text": [
            "<class 'pandas.core.frame.DataFrame'>\n",
            "Int64Index: 1322264 entries, 2 to 5819074\n",
            "Data columns (total 25 columns):\n",
            " #   Column               Non-Null Count    Dtype  \n",
            "---  ------               --------------    -----  \n",
            " 0   YEAR                 1322264 non-null  int64  \n",
            " 1   MONTH                1322264 non-null  int64  \n",
            " 2   DAY                  1322264 non-null  int64  \n",
            " 3   DAY_OF_WEEK          1322264 non-null  int64  \n",
            " 4   AIRLINE              1322264 non-null  object \n",
            " 5   FLIGHT_NUMBER        1322264 non-null  int64  \n",
            " 6   TAIL_NUMBER          1317657 non-null  object \n",
            " 7   ORIGIN_AIRPORT       1322264 non-null  object \n",
            " 8   DESTINATION_AIRPORT  1322264 non-null  object \n",
            " 9   SCHEDULED_DEPARTURE  1322264 non-null  int64  \n",
            " 10  DEPARTURE_TIME       1307412 non-null  float64\n",
            " 11  DEPARTURE_DELAY      1307412 non-null  float64\n",
            " 12  TAXI_OUT             1306830 non-null  float64\n",
            " 13  WHEELS_OFF           1306830 non-null  float64\n",
            " 14  SCHEDULED_TIME       1322263 non-null  float64\n",
            " 15  ELAPSED_TIME         1303781 non-null  float64\n",
            " 16  AIR_TIME             1303781 non-null  float64\n",
            " 17  DISTANCE             1322264 non-null  int64  \n",
            " 18  WHEELS_ON            1306502 non-null  float64\n",
            " 19  TAXI_IN              1306502 non-null  float64\n",
            " 20  SCHEDULED_ARRIVAL    1322264 non-null  int64  \n",
            " 21  ARRIVAL_TIME         1306502 non-null  float64\n",
            " 22  ARRIVAL_DELAY        1303781 non-null  float64\n",
            " 23  DIVERTED             1322264 non-null  int64  \n",
            " 24  CANCELLED            1322264 non-null  int64  \n",
            "dtypes: float64(11), int64(10), object(4)\n",
            "memory usage: 262.3+ MB\n"
          ]
        }
      ]
    },
    {
      "cell_type": "code",
      "source": [
        "flights_df = flights_df.dropna()\n",
        "flights_df.info()"
      ],
      "metadata": {
        "colab": {
          "base_uri": "https://localhost:8080/"
        },
        "id": "OHmpYyE6Xpsn",
        "outputId": "66a8e9d8-2eb2-45d3-ac7c-9aa98dea5971"
      },
      "execution_count": 78,
      "outputs": [
        {
          "output_type": "stream",
          "name": "stdout",
          "text": [
            "<class 'pandas.core.frame.DataFrame'>\n",
            "Int64Index: 1303781 entries, 2 to 5819074\n",
            "Data columns (total 25 columns):\n",
            " #   Column               Non-Null Count    Dtype  \n",
            "---  ------               --------------    -----  \n",
            " 0   YEAR                 1303781 non-null  int64  \n",
            " 1   MONTH                1303781 non-null  int64  \n",
            " 2   DAY                  1303781 non-null  int64  \n",
            " 3   DAY_OF_WEEK          1303781 non-null  int64  \n",
            " 4   AIRLINE              1303781 non-null  object \n",
            " 5   FLIGHT_NUMBER        1303781 non-null  int64  \n",
            " 6   TAIL_NUMBER          1303781 non-null  object \n",
            " 7   ORIGIN_AIRPORT       1303781 non-null  object \n",
            " 8   DESTINATION_AIRPORT  1303781 non-null  object \n",
            " 9   SCHEDULED_DEPARTURE  1303781 non-null  int64  \n",
            " 10  DEPARTURE_TIME       1303781 non-null  float64\n",
            " 11  DEPARTURE_DELAY      1303781 non-null  float64\n",
            " 12  TAXI_OUT             1303781 non-null  float64\n",
            " 13  WHEELS_OFF           1303781 non-null  float64\n",
            " 14  SCHEDULED_TIME       1303781 non-null  float64\n",
            " 15  ELAPSED_TIME         1303781 non-null  float64\n",
            " 16  AIR_TIME             1303781 non-null  float64\n",
            " 17  DISTANCE             1303781 non-null  int64  \n",
            " 18  WHEELS_ON            1303781 non-null  float64\n",
            " 19  TAXI_IN              1303781 non-null  float64\n",
            " 20  SCHEDULED_ARRIVAL    1303781 non-null  int64  \n",
            " 21  ARRIVAL_TIME         1303781 non-null  float64\n",
            " 22  ARRIVAL_DELAY        1303781 non-null  float64\n",
            " 23  DIVERTED             1303781 non-null  int64  \n",
            " 24  CANCELLED            1303781 non-null  int64  \n",
            "dtypes: float64(11), int64(10), object(4)\n",
            "memory usage: 258.6+ MB\n"
          ]
        }
      ]
    },
    {
      "cell_type": "code",
      "source": [
        "flights_df['Depart time rounded'] = (flights_df['SCHEDULED_DEPARTURE'] / 100).astype(int)\n",
        "flights_df['Arrive time rounded'] = (flights_df['SCHEDULED_ARRIVAL'] / 100).astype(int)"
      ],
      "metadata": {
        "id": "GwZyaSXoXvtE"
      },
      "execution_count": 79,
      "outputs": []
    },
    {
      "cell_type": "markdown",
      "source": [
        "The weather dataset needs to be merged twice. Once for departing flights and once for arriving flights."
      ],
      "metadata": {
        "id": "-ZUSCEF_RVXZ"
      }
    },
    {
      "cell_type": "code",
      "source": [
        "wf_df = pd.merge(flights_df, weather_fixed_df[[\"month\", \"day\", \"hour\", \"airport\", \"value\"]], \n",
        "                 left_on=[\"MONTH\", \"DAY\", \"Depart time rounded\", \"ORIGIN_AIRPORT\"], \n",
        "                 right_on=[\"month\", \"day\", \"hour\", \"airport\"],\n",
        "                 how='left')\n",
        "wf_df.info()"
      ],
      "metadata": {
        "colab": {
          "base_uri": "https://localhost:8080/"
        },
        "id": "WAgGLat8bk7Q",
        "outputId": "4dd396c6-bdbf-4d88-cbce-bb6896e905ee"
      },
      "execution_count": 80,
      "outputs": [
        {
          "output_type": "stream",
          "name": "stdout",
          "text": [
            "<class 'pandas.core.frame.DataFrame'>\n",
            "Int64Index: 1303781 entries, 0 to 1303780\n",
            "Data columns (total 32 columns):\n",
            " #   Column               Non-Null Count    Dtype  \n",
            "---  ------               --------------    -----  \n",
            " 0   YEAR                 1303781 non-null  int64  \n",
            " 1   MONTH                1303781 non-null  int64  \n",
            " 2   DAY                  1303781 non-null  int64  \n",
            " 3   DAY_OF_WEEK          1303781 non-null  int64  \n",
            " 4   AIRLINE              1303781 non-null  object \n",
            " 5   FLIGHT_NUMBER        1303781 non-null  int64  \n",
            " 6   TAIL_NUMBER          1303781 non-null  object \n",
            " 7   ORIGIN_AIRPORT       1303781 non-null  object \n",
            " 8   DESTINATION_AIRPORT  1303781 non-null  object \n",
            " 9   SCHEDULED_DEPARTURE  1303781 non-null  int64  \n",
            " 10  DEPARTURE_TIME       1303781 non-null  float64\n",
            " 11  DEPARTURE_DELAY      1303781 non-null  float64\n",
            " 12  TAXI_OUT             1303781 non-null  float64\n",
            " 13  WHEELS_OFF           1303781 non-null  float64\n",
            " 14  SCHEDULED_TIME       1303781 non-null  float64\n",
            " 15  ELAPSED_TIME         1303781 non-null  float64\n",
            " 16  AIR_TIME             1303781 non-null  float64\n",
            " 17  DISTANCE             1303781 non-null  int64  \n",
            " 18  WHEELS_ON            1303781 non-null  float64\n",
            " 19  TAXI_IN              1303781 non-null  float64\n",
            " 20  SCHEDULED_ARRIVAL    1303781 non-null  int64  \n",
            " 21  ARRIVAL_TIME         1303781 non-null  float64\n",
            " 22  ARRIVAL_DELAY        1303781 non-null  float64\n",
            " 23  DIVERTED             1303781 non-null  int64  \n",
            " 24  CANCELLED            1303781 non-null  int64  \n",
            " 25  Depart time rounded  1303781 non-null  int64  \n",
            " 26  Arrive time rounded  1303781 non-null  int64  \n",
            " 27  month                1303781 non-null  int64  \n",
            " 28  day                  1303781 non-null  int64  \n",
            " 29  hour                 1303781 non-null  int64  \n",
            " 30  airport              1303781 non-null  object \n",
            " 31  value                1303781 non-null  object \n",
            "dtypes: float64(11), int64(15), object(6)\n",
            "memory usage: 328.3+ MB\n"
          ]
        }
      ]
    },
    {
      "cell_type": "code",
      "source": [
        "wf_df = wf_df.rename(columns={\"value\":\"ORIGIN_WEATHER\"})\n",
        "\n",
        "wf_df.head()"
      ],
      "metadata": {
        "colab": {
          "base_uri": "https://localhost:8080/",
          "height": 334
        },
        "id": "W2zOtDVI3Pa4",
        "outputId": "e235b410-6a47-4c4a-83df-3b694d3d6dc6"
      },
      "execution_count": 81,
      "outputs": [
        {
          "output_type": "execute_result",
          "data": {
            "text/plain": [
              "   YEAR  MONTH  DAY  DAY_OF_WEEK AIRLINE  FLIGHT_NUMBER TAIL_NUMBER  \\\n",
              "0  2015      1    1            4      US            840      N171US   \n",
              "1  2015      1    1            4      AA            258      N3HYAA   \n",
              "2  2015      1    1            4      DL            806      N3730B   \n",
              "3  2015      1    1            4      NK            612      N635NK   \n",
              "4  2015      1    1            4      US           2013      N584UW   \n",
              "\n",
              "  ORIGIN_AIRPORT DESTINATION_AIRPORT  SCHEDULED_DEPARTURE  ...  ARRIVAL_DELAY  \\\n",
              "0            SFO                 CLT                   20  ...            5.0   \n",
              "1            LAX                 MIA                   20  ...           -9.0   \n",
              "2            SFO                 MSP                   25  ...            8.0   \n",
              "3            LAS                 MSP                   25  ...          -17.0   \n",
              "4            LAX                 CLT                   30  ...          -10.0   \n",
              "\n",
              "   DIVERTED  CANCELLED  Depart time rounded  Arrive time rounded  month  day  \\\n",
              "0         0          0                    0                    8      1    1   \n",
              "1         0          0                    0                    8      1    1   \n",
              "2         0          0                    0                    6      1    1   \n",
              "3         0          0                    0                    5      1    1   \n",
              "4         0          0                    0                    8      1    1   \n",
              "\n",
              "   hour  airport   ORIGIN_WEATHER  \n",
              "0     0      SFO     sky is clear  \n",
              "1     0      LAX    moderate rain  \n",
              "2     0      SFO     sky is clear  \n",
              "3     0      LAS  overcast clouds  \n",
              "4     0      LAX    moderate rain  \n",
              "\n",
              "[5 rows x 32 columns]"
            ],
            "text/html": [
              "\n",
              "  <div id=\"df-78c80bd3-43ef-4b15-9439-99d7f4404c11\">\n",
              "    <div class=\"colab-df-container\">\n",
              "      <div>\n",
              "<style scoped>\n",
              "    .dataframe tbody tr th:only-of-type {\n",
              "        vertical-align: middle;\n",
              "    }\n",
              "\n",
              "    .dataframe tbody tr th {\n",
              "        vertical-align: top;\n",
              "    }\n",
              "\n",
              "    .dataframe thead th {\n",
              "        text-align: right;\n",
              "    }\n",
              "</style>\n",
              "<table border=\"1\" class=\"dataframe\">\n",
              "  <thead>\n",
              "    <tr style=\"text-align: right;\">\n",
              "      <th></th>\n",
              "      <th>YEAR</th>\n",
              "      <th>MONTH</th>\n",
              "      <th>DAY</th>\n",
              "      <th>DAY_OF_WEEK</th>\n",
              "      <th>AIRLINE</th>\n",
              "      <th>FLIGHT_NUMBER</th>\n",
              "      <th>TAIL_NUMBER</th>\n",
              "      <th>ORIGIN_AIRPORT</th>\n",
              "      <th>DESTINATION_AIRPORT</th>\n",
              "      <th>SCHEDULED_DEPARTURE</th>\n",
              "      <th>...</th>\n",
              "      <th>ARRIVAL_DELAY</th>\n",
              "      <th>DIVERTED</th>\n",
              "      <th>CANCELLED</th>\n",
              "      <th>Depart time rounded</th>\n",
              "      <th>Arrive time rounded</th>\n",
              "      <th>month</th>\n",
              "      <th>day</th>\n",
              "      <th>hour</th>\n",
              "      <th>airport</th>\n",
              "      <th>ORIGIN_WEATHER</th>\n",
              "    </tr>\n",
              "  </thead>\n",
              "  <tbody>\n",
              "    <tr>\n",
              "      <th>0</th>\n",
              "      <td>2015</td>\n",
              "      <td>1</td>\n",
              "      <td>1</td>\n",
              "      <td>4</td>\n",
              "      <td>US</td>\n",
              "      <td>840</td>\n",
              "      <td>N171US</td>\n",
              "      <td>SFO</td>\n",
              "      <td>CLT</td>\n",
              "      <td>20</td>\n",
              "      <td>...</td>\n",
              "      <td>5.0</td>\n",
              "      <td>0</td>\n",
              "      <td>0</td>\n",
              "      <td>0</td>\n",
              "      <td>8</td>\n",
              "      <td>1</td>\n",
              "      <td>1</td>\n",
              "      <td>0</td>\n",
              "      <td>SFO</td>\n",
              "      <td>sky is clear</td>\n",
              "    </tr>\n",
              "    <tr>\n",
              "      <th>1</th>\n",
              "      <td>2015</td>\n",
              "      <td>1</td>\n",
              "      <td>1</td>\n",
              "      <td>4</td>\n",
              "      <td>AA</td>\n",
              "      <td>258</td>\n",
              "      <td>N3HYAA</td>\n",
              "      <td>LAX</td>\n",
              "      <td>MIA</td>\n",
              "      <td>20</td>\n",
              "      <td>...</td>\n",
              "      <td>-9.0</td>\n",
              "      <td>0</td>\n",
              "      <td>0</td>\n",
              "      <td>0</td>\n",
              "      <td>8</td>\n",
              "      <td>1</td>\n",
              "      <td>1</td>\n",
              "      <td>0</td>\n",
              "      <td>LAX</td>\n",
              "      <td>moderate rain</td>\n",
              "    </tr>\n",
              "    <tr>\n",
              "      <th>2</th>\n",
              "      <td>2015</td>\n",
              "      <td>1</td>\n",
              "      <td>1</td>\n",
              "      <td>4</td>\n",
              "      <td>DL</td>\n",
              "      <td>806</td>\n",
              "      <td>N3730B</td>\n",
              "      <td>SFO</td>\n",
              "      <td>MSP</td>\n",
              "      <td>25</td>\n",
              "      <td>...</td>\n",
              "      <td>8.0</td>\n",
              "      <td>0</td>\n",
              "      <td>0</td>\n",
              "      <td>0</td>\n",
              "      <td>6</td>\n",
              "      <td>1</td>\n",
              "      <td>1</td>\n",
              "      <td>0</td>\n",
              "      <td>SFO</td>\n",
              "      <td>sky is clear</td>\n",
              "    </tr>\n",
              "    <tr>\n",
              "      <th>3</th>\n",
              "      <td>2015</td>\n",
              "      <td>1</td>\n",
              "      <td>1</td>\n",
              "      <td>4</td>\n",
              "      <td>NK</td>\n",
              "      <td>612</td>\n",
              "      <td>N635NK</td>\n",
              "      <td>LAS</td>\n",
              "      <td>MSP</td>\n",
              "      <td>25</td>\n",
              "      <td>...</td>\n",
              "      <td>-17.0</td>\n",
              "      <td>0</td>\n",
              "      <td>0</td>\n",
              "      <td>0</td>\n",
              "      <td>5</td>\n",
              "      <td>1</td>\n",
              "      <td>1</td>\n",
              "      <td>0</td>\n",
              "      <td>LAS</td>\n",
              "      <td>overcast clouds</td>\n",
              "    </tr>\n",
              "    <tr>\n",
              "      <th>4</th>\n",
              "      <td>2015</td>\n",
              "      <td>1</td>\n",
              "      <td>1</td>\n",
              "      <td>4</td>\n",
              "      <td>US</td>\n",
              "      <td>2013</td>\n",
              "      <td>N584UW</td>\n",
              "      <td>LAX</td>\n",
              "      <td>CLT</td>\n",
              "      <td>30</td>\n",
              "      <td>...</td>\n",
              "      <td>-10.0</td>\n",
              "      <td>0</td>\n",
              "      <td>0</td>\n",
              "      <td>0</td>\n",
              "      <td>8</td>\n",
              "      <td>1</td>\n",
              "      <td>1</td>\n",
              "      <td>0</td>\n",
              "      <td>LAX</td>\n",
              "      <td>moderate rain</td>\n",
              "    </tr>\n",
              "  </tbody>\n",
              "</table>\n",
              "<p>5 rows × 32 columns</p>\n",
              "</div>\n",
              "      <button class=\"colab-df-convert\" onclick=\"convertToInteractive('df-78c80bd3-43ef-4b15-9439-99d7f4404c11')\"\n",
              "              title=\"Convert this dataframe to an interactive table.\"\n",
              "              style=\"display:none;\">\n",
              "        \n",
              "  <svg xmlns=\"http://www.w3.org/2000/svg\" height=\"24px\"viewBox=\"0 0 24 24\"\n",
              "       width=\"24px\">\n",
              "    <path d=\"M0 0h24v24H0V0z\" fill=\"none\"/>\n",
              "    <path d=\"M18.56 5.44l.94 2.06.94-2.06 2.06-.94-2.06-.94-.94-2.06-.94 2.06-2.06.94zm-11 1L8.5 8.5l.94-2.06 2.06-.94-2.06-.94L8.5 2.5l-.94 2.06-2.06.94zm10 10l.94 2.06.94-2.06 2.06-.94-2.06-.94-.94-2.06-.94 2.06-2.06.94z\"/><path d=\"M17.41 7.96l-1.37-1.37c-.4-.4-.92-.59-1.43-.59-.52 0-1.04.2-1.43.59L10.3 9.45l-7.72 7.72c-.78.78-.78 2.05 0 2.83L4 21.41c.39.39.9.59 1.41.59.51 0 1.02-.2 1.41-.59l7.78-7.78 2.81-2.81c.8-.78.8-2.07 0-2.86zM5.41 20L4 18.59l7.72-7.72 1.47 1.35L5.41 20z\"/>\n",
              "  </svg>\n",
              "      </button>\n",
              "      \n",
              "  <style>\n",
              "    .colab-df-container {\n",
              "      display:flex;\n",
              "      flex-wrap:wrap;\n",
              "      gap: 12px;\n",
              "    }\n",
              "\n",
              "    .colab-df-convert {\n",
              "      background-color: #E8F0FE;\n",
              "      border: none;\n",
              "      border-radius: 50%;\n",
              "      cursor: pointer;\n",
              "      display: none;\n",
              "      fill: #1967D2;\n",
              "      height: 32px;\n",
              "      padding: 0 0 0 0;\n",
              "      width: 32px;\n",
              "    }\n",
              "\n",
              "    .colab-df-convert:hover {\n",
              "      background-color: #E2EBFA;\n",
              "      box-shadow: 0px 1px 2px rgba(60, 64, 67, 0.3), 0px 1px 3px 1px rgba(60, 64, 67, 0.15);\n",
              "      fill: #174EA6;\n",
              "    }\n",
              "\n",
              "    [theme=dark] .colab-df-convert {\n",
              "      background-color: #3B4455;\n",
              "      fill: #D2E3FC;\n",
              "    }\n",
              "\n",
              "    [theme=dark] .colab-df-convert:hover {\n",
              "      background-color: #434B5C;\n",
              "      box-shadow: 0px 1px 3px 1px rgba(0, 0, 0, 0.15);\n",
              "      filter: drop-shadow(0px 1px 2px rgba(0, 0, 0, 0.3));\n",
              "      fill: #FFFFFF;\n",
              "    }\n",
              "  </style>\n",
              "\n",
              "      <script>\n",
              "        const buttonEl =\n",
              "          document.querySelector('#df-78c80bd3-43ef-4b15-9439-99d7f4404c11 button.colab-df-convert');\n",
              "        buttonEl.style.display =\n",
              "          google.colab.kernel.accessAllowed ? 'block' : 'none';\n",
              "\n",
              "        async function convertToInteractive(key) {\n",
              "          const element = document.querySelector('#df-78c80bd3-43ef-4b15-9439-99d7f4404c11');\n",
              "          const dataTable =\n",
              "            await google.colab.kernel.invokeFunction('convertToInteractive',\n",
              "                                                     [key], {});\n",
              "          if (!dataTable) return;\n",
              "\n",
              "          const docLinkHtml = 'Like what you see? Visit the ' +\n",
              "            '<a target=\"_blank\" href=https://colab.research.google.com/notebooks/data_table.ipynb>data table notebook</a>'\n",
              "            + ' to learn more about interactive tables.';\n",
              "          element.innerHTML = '';\n",
              "          dataTable['output_type'] = 'display_data';\n",
              "          await google.colab.output.renderOutput(dataTable, element);\n",
              "          const docLink = document.createElement('div');\n",
              "          docLink.innerHTML = docLinkHtml;\n",
              "          element.appendChild(docLink);\n",
              "        }\n",
              "      </script>\n",
              "    </div>\n",
              "  </div>\n",
              "  "
            ]
          },
          "metadata": {},
          "execution_count": 81
        }
      ]
    },
    {
      "cell_type": "code",
      "source": [
        "wf_df = pd.merge(wf_df, weather_fixed_df[[\"month\", \"day\", \"hour\", \"airport\", \"value\"]], \n",
        "                 left_on=[\"MONTH\", \"DAY\", \"Arrive time rounded\", \"DESTINATION_AIRPORT\"], \n",
        "                 right_on=[\"month\", \"day\", \"hour\", \"airport\"],\n",
        "                 how='left')\n",
        "\n",
        "wf_df = wf_df.rename(columns={\"value\":\"DESTINATION_WEATHER\"})\n",
        "\n",
        "wf_df.info()"
      ],
      "metadata": {
        "id": "RhqI6hbbvTuP",
        "colab": {
          "base_uri": "https://localhost:8080/"
        },
        "outputId": "dedced74-ee72-4152-8b78-527a6e000f6f"
      },
      "execution_count": 82,
      "outputs": [
        {
          "output_type": "stream",
          "name": "stdout",
          "text": [
            "<class 'pandas.core.frame.DataFrame'>\n",
            "Int64Index: 1303781 entries, 0 to 1303780\n",
            "Data columns (total 37 columns):\n",
            " #   Column               Non-Null Count    Dtype  \n",
            "---  ------               --------------    -----  \n",
            " 0   YEAR                 1303781 non-null  int64  \n",
            " 1   MONTH                1303781 non-null  int64  \n",
            " 2   DAY                  1303781 non-null  int64  \n",
            " 3   DAY_OF_WEEK          1303781 non-null  int64  \n",
            " 4   AIRLINE              1303781 non-null  object \n",
            " 5   FLIGHT_NUMBER        1303781 non-null  int64  \n",
            " 6   TAIL_NUMBER          1303781 non-null  object \n",
            " 7   ORIGIN_AIRPORT       1303781 non-null  object \n",
            " 8   DESTINATION_AIRPORT  1303781 non-null  object \n",
            " 9   SCHEDULED_DEPARTURE  1303781 non-null  int64  \n",
            " 10  DEPARTURE_TIME       1303781 non-null  float64\n",
            " 11  DEPARTURE_DELAY      1303781 non-null  float64\n",
            " 12  TAXI_OUT             1303781 non-null  float64\n",
            " 13  WHEELS_OFF           1303781 non-null  float64\n",
            " 14  SCHEDULED_TIME       1303781 non-null  float64\n",
            " 15  ELAPSED_TIME         1303781 non-null  float64\n",
            " 16  AIR_TIME             1303781 non-null  float64\n",
            " 17  DISTANCE             1303781 non-null  int64  \n",
            " 18  WHEELS_ON            1303781 non-null  float64\n",
            " 19  TAXI_IN              1303781 non-null  float64\n",
            " 20  SCHEDULED_ARRIVAL    1303781 non-null  int64  \n",
            " 21  ARRIVAL_TIME         1303781 non-null  float64\n",
            " 22  ARRIVAL_DELAY        1303781 non-null  float64\n",
            " 23  DIVERTED             1303781 non-null  int64  \n",
            " 24  CANCELLED            1303781 non-null  int64  \n",
            " 25  Depart time rounded  1303781 non-null  int64  \n",
            " 26  Arrive time rounded  1303781 non-null  int64  \n",
            " 27  month_x              1303781 non-null  int64  \n",
            " 28  day_x                1303781 non-null  int64  \n",
            " 29  hour_x               1303781 non-null  int64  \n",
            " 30  airport_x            1303781 non-null  object \n",
            " 31  ORIGIN_WEATHER       1303781 non-null  object \n",
            " 32  month_y              1303781 non-null  int64  \n",
            " 33  day_y                1303781 non-null  int64  \n",
            " 34  hour_y               1303781 non-null  int64  \n",
            " 35  airport_y            1303781 non-null  object \n",
            " 36  DESTINATION_WEATHER  1303781 non-null  object \n",
            "dtypes: float64(11), int64(18), object(8)\n",
            "memory usage: 378.0+ MB\n"
          ]
        }
      ]
    },
    {
      "cell_type": "code",
      "source": [
        "#dropping unneeded columns\n",
        "\n",
        "wf_df = wf_df.drop(columns=[\"YEAR\", \"TAIL_NUMBER\", \"Depart time rounded\", \"Arrive time rounded\", \"month_x\", \"day_x\",\n",
        "                            \"hour_x\", \"airport_x\", \"month_y\", \"day_y\", \"hour_y\", \"airport_y\"])\n",
        "\n",
        "wf_df.info()"
      ],
      "metadata": {
        "colab": {
          "base_uri": "https://localhost:8080/"
        },
        "id": "mvglfCik4IKT",
        "outputId": "d856a6b5-97ca-4e42-9d13-5555b5960acd"
      },
      "execution_count": 83,
      "outputs": [
        {
          "output_type": "stream",
          "name": "stdout",
          "text": [
            "<class 'pandas.core.frame.DataFrame'>\n",
            "Int64Index: 1303781 entries, 0 to 1303780\n",
            "Data columns (total 25 columns):\n",
            " #   Column               Non-Null Count    Dtype  \n",
            "---  ------               --------------    -----  \n",
            " 0   MONTH                1303781 non-null  int64  \n",
            " 1   DAY                  1303781 non-null  int64  \n",
            " 2   DAY_OF_WEEK          1303781 non-null  int64  \n",
            " 3   AIRLINE              1303781 non-null  object \n",
            " 4   FLIGHT_NUMBER        1303781 non-null  int64  \n",
            " 5   ORIGIN_AIRPORT       1303781 non-null  object \n",
            " 6   DESTINATION_AIRPORT  1303781 non-null  object \n",
            " 7   SCHEDULED_DEPARTURE  1303781 non-null  int64  \n",
            " 8   DEPARTURE_TIME       1303781 non-null  float64\n",
            " 9   DEPARTURE_DELAY      1303781 non-null  float64\n",
            " 10  TAXI_OUT             1303781 non-null  float64\n",
            " 11  WHEELS_OFF           1303781 non-null  float64\n",
            " 12  SCHEDULED_TIME       1303781 non-null  float64\n",
            " 13  ELAPSED_TIME         1303781 non-null  float64\n",
            " 14  AIR_TIME             1303781 non-null  float64\n",
            " 15  DISTANCE             1303781 non-null  int64  \n",
            " 16  WHEELS_ON            1303781 non-null  float64\n",
            " 17  TAXI_IN              1303781 non-null  float64\n",
            " 18  SCHEDULED_ARRIVAL    1303781 non-null  int64  \n",
            " 19  ARRIVAL_TIME         1303781 non-null  float64\n",
            " 20  ARRIVAL_DELAY        1303781 non-null  float64\n",
            " 21  DIVERTED             1303781 non-null  int64  \n",
            " 22  CANCELLED            1303781 non-null  int64  \n",
            " 23  ORIGIN_WEATHER       1303781 non-null  object \n",
            " 24  DESTINATION_WEATHER  1303781 non-null  object \n",
            "dtypes: float64(11), int64(9), object(5)\n",
            "memory usage: 258.6+ MB\n"
          ]
        }
      ]
    },
    {
      "cell_type": "code",
      "source": [
        "print(\"Distribution of canceled flights: {}\".format(wf_df[\"CANCELLED\"].value_counts()))\n",
        "print(\"unique value count: {}\".format(wf_df[\"CANCELLED\"].nunique()))"
      ],
      "metadata": {
        "colab": {
          "base_uri": "https://localhost:8080/"
        },
        "id": "eD3ZMz8oYh2y",
        "outputId": "3f300d14-a77c-4fba-f4be-a17cd5511571"
      },
      "execution_count": 84,
      "outputs": [
        {
          "output_type": "stream",
          "name": "stdout",
          "text": [
            "Distribution of canceled flights: 0    1303781\n",
            "Name: CANCELLED, dtype: int64\n",
            "unique value count: 1\n"
          ]
        }
      ]
    },
    {
      "cell_type": "code",
      "source": [
        "print(\"DEPARTURE_DELAY\")\n",
        "print(\"unique value count: {}\".format(wf_df[\"DEPARTURE_DELAY\"].nunique()))\n",
        "print()\n",
        "print(\"ARRIVAL_DELAY\")\n",
        "print(\"unique value count: {}\".format(wf_df[\"ARRIVAL_DELAY\"].nunique()))"
      ],
      "metadata": {
        "colab": {
          "base_uri": "https://localhost:8080/"
        },
        "id": "DLGBAN1yIwoD",
        "outputId": "204d3084-f35c-4329-d30e-0549f9c65b56"
      },
      "execution_count": 85,
      "outputs": [
        {
          "output_type": "stream",
          "name": "stdout",
          "text": [
            "DEPARTURE_DELAY\n",
            "unique value count: 896\n",
            "\n",
            "ARRIVAL_DELAY\n",
            "unique value count: 935\n"
          ]
        }
      ]
    },
    {
      "cell_type": "code",
      "source": [
        "#columns that will need dummies\n",
        "\n",
        "print(\"AIRLINE\")\n",
        "print(\"unique value count: {}\".format(wf_df[\"AIRLINE\"].nunique()))\n",
        "print(\"unique values: {}\".format(wf_df[\"AIRLINE\"].unique()))\n",
        "print()\n",
        "print(\"ORIGIN_AIRPORT\")\n",
        "print(\"unique value count: {}\".format(wf_df[\"ORIGIN_AIRPORT\"].nunique()))\n",
        "print(\"unique values: {}\".format(wf_df[\"ORIGIN_AIRPORT\"].unique()))\n",
        "print()\n",
        "print(\"DESTINATION_AIRPORT\")\n",
        "print(\"unique value count: {}\".format(wf_df[\"DESTINATION_AIRPORT\"].nunique()))\n",
        "print(\"unique values: {}\".format(wf_df[\"DESTINATION_AIRPORT\"].unique()))\n",
        "print()\n",
        "print(\"ORIGIN_WEATHER\")\n",
        "print(\"unique value count: {}\".format(wf_df[\"ORIGIN_WEATHER\"].nunique()))\n",
        "print(\"unique values: {}\".format(wf_df[\"ORIGIN_WEATHER\"].unique()))\n",
        "print()\n",
        "print(\"DESTINATION_WEATHER\")\n",
        "print(\"unique value count: {}\".format(wf_df[\"DESTINATION_WEATHER\"].nunique()))\n",
        "print(\"unique values: {}\".format(wf_df[\"DESTINATION_WEATHER\"].unique()))"
      ],
      "metadata": {
        "colab": {
          "base_uri": "https://localhost:8080/"
        },
        "id": "eHkj7Sdg5XOQ",
        "outputId": "010ae46f-d257-4ebd-ec29-5c8d17c71d5b"
      },
      "execution_count": 86,
      "outputs": [
        {
          "output_type": "stream",
          "name": "stdout",
          "text": [
            "AIRLINE\n",
            "unique value count: 13\n",
            "unique values: ['US' 'AA' 'DL' 'NK' 'UA' 'EV' 'B6' 'F9' 'OO' 'WN' 'AS' 'VX' 'MQ']\n",
            "\n",
            "ORIGIN_AIRPORT\n",
            "unique value count: 25\n",
            "unique values: ['SFO' 'LAX' 'LAS' 'DEN' 'SEA' 'PDX' 'PHX' 'ORD' 'DFW' 'BOS' 'IAH' 'BNA'\n",
            " 'PHL' 'MCI' 'SAT' 'JFK' 'MSP' 'IND' 'PIT' 'MIA' 'JAX' 'CLT' 'DTW' 'ATL'\n",
            " 'ABQ']\n",
            "\n",
            "DESTINATION_AIRPORT\n",
            "unique value count: 25\n",
            "unique values: ['CLT' 'MIA' 'MSP' 'DFW' 'ATL' 'IAH' 'MCI' 'ORD' 'PHX' 'DTW' 'DEN' 'BOS'\n",
            " 'JFK' 'LAX' 'SFO' 'PHL' 'SEA' 'LAS' 'PIT' 'PDX' 'BNA' 'JAX' 'IND' 'SAT'\n",
            " 'ABQ']\n",
            "\n",
            "ORIGIN_WEATHER\n",
            "unique value count: 36\n",
            "unique values: ['sky is clear' 'moderate rain' 'overcast clouds' 'light snow'\n",
            " 'light rain' 'few clouds' 'scattered clouds' 'broken clouds'\n",
            " 'heavy intensity rain' 'snow' 'heavy snow' 'mist' 'haze' 'fog'\n",
            " 'very heavy rain' 'light intensity drizzle' 'proximity thunderstorm'\n",
            " 'thunderstorm with light rain' 'thunderstorm'\n",
            " 'light intensity shower rain' 'proximity shower rain' 'drizzle'\n",
            " 'thunderstorm with rain' 'thunderstorm with heavy rain'\n",
            " 'proximity thunderstorm with rain' 'shower rain' 'smoke' 'dust'\n",
            " 'heavy intensity shower rain' 'squalls' 'proximity sand/dust whirls'\n",
            " 'proximity thunderstorm with drizzle' 'thunderstorm with light drizzle'\n",
            " 'heavy intensity drizzle' 'light shower snow' 'freezing rain']\n",
            "\n",
            "DESTINATION_WEATHER\n",
            "unique value count: 36\n",
            "unique values: ['sky is clear' 'broken clouds' 'scattered clouds' 'overcast clouds'\n",
            " 'few clouds' 'light rain' 'moderate rain' 'light snow'\n",
            " 'heavy intensity rain' 'snow' 'heavy snow' 'very heavy rain' 'mist'\n",
            " 'haze' 'fog' 'light intensity drizzle' 'proximity thunderstorm'\n",
            " 'thunderstorm with light rain' 'thunderstorm'\n",
            " 'light intensity shower rain' 'proximity shower rain'\n",
            " 'thunderstorm with heavy rain' 'thunderstorm with rain' 'drizzle'\n",
            " 'proximity thunderstorm with rain' 'squalls' 'shower rain' 'smoke'\n",
            " 'heavy intensity shower rain' 'dust' 'proximity sand/dust whirls'\n",
            " 'proximity thunderstorm with drizzle' 'thunderstorm with light drizzle'\n",
            " 'heavy intensity drizzle' 'freezing rain' 'light shower snow']\n"
          ]
        }
      ]
    },
    {
      "cell_type": "markdown",
      "source": [
        "# Graphing and examining data relationships"
      ],
      "metadata": {
        "id": "mZMBVyNNRmaW"
      }
    },
    {
      "cell_type": "markdown",
      "source": [
        "**Delays per airline**"
      ],
      "metadata": {
        "id": "DZrxtVZq_d3C"
      }
    },
    {
      "cell_type": "code",
      "source": [
        "delay_count = wf_df\n",
        "\n",
        "delay =[]\n",
        "for row in delay_count['ARRIVAL_DELAY']:\n",
        "    if row > 5:\n",
        "        delay.append(1)\n",
        "    else:\n",
        "        delay.append(0)  \n",
        "\n",
        "delay_count[\"IS_DELAYED\"] = delay\n",
        "\n",
        "ylist = []\n",
        "\n",
        "for airline in delay_count[\"AIRLINE\"].unique():\n",
        "  ylist.append(delay_count[delay_count['AIRLINE'] == airline][\"IS_DELAYED\"].sum())\n",
        "\n",
        "plt.bar(delay_count[\"AIRLINE\"].unique(), ylist, bottom=0)\n",
        "plt.title(\"Delays over 5 minutes per airline\")\n",
        "plt.xlabel(\"Airline\")\n",
        "plt.ylabel(\"Number of delays over 5 minutes\")\n",
        "plt.show()"
      ],
      "metadata": {
        "id": "VArOkqJmqMpE",
        "colab": {
          "base_uri": "https://localhost:8080/",
          "height": 295
        },
        "outputId": "0125d13c-e682-4972-e440-a4b1bf8785d7"
      },
      "execution_count": 87,
      "outputs": [
        {
          "output_type": "display_data",
          "data": {
            "text/plain": [
              "<Figure size 432x288 with 1 Axes>"
            ],
            "image/png": "[encoded data removed]"
          },
          "metadata": {
            "needs_background": "light"
          }
        }
      ]
    },
    {
      "cell_type": "code",
      "source": [
        "ylist2 = []\n",
        "\n",
        "for airline in delay_count[\"AIRLINE\"].unique():\n",
        "  ylist2.append(delay_count[delay_count['AIRLINE'] == airline][\"IS_DELAYED\"].count())\n",
        "\n",
        "plt.bar(delay_count[\"AIRLINE\"].unique(), ylist2, bottom=0)\n",
        "plt.title(\"Number of flights per airline\")\n",
        "plt.xlabel(\"Airline\")\n",
        "plt.ylabel(\"Number of flights\")\n",
        "plt.show()"
      ],
      "metadata": {
        "colab": {
          "base_uri": "https://localhost:8080/",
          "height": 295
        },
        "id": "QnIQ4qIH2cWR",
        "outputId": "a7b6ccb1-c587-4373-bd43-1327d525d492"
      },
      "execution_count": 88,
      "outputs": [
        {
          "output_type": "display_data",
          "data": {
            "text/plain": [
              "<Figure size 432x288 with 1 Axes>"
            ],
            "image/png": "[encoded data removed]"
          },
          "metadata": {
            "needs_background": "light"
          }
        }
      ]
    },
    {
      "cell_type": "code",
      "source": [
        "percent_delayed = [x/y for (x, y) in zip(ylist, ylist2)]\n",
        "\n",
        "plt.bar(delay_count[\"AIRLINE\"].unique(), percent_delayed, bottom=0)\n",
        "plt.title(\"Percentage of delayed flights per airline\")\n",
        "plt.xlabel(\"Airline\")\n",
        "plt.ylabel(\"Ratio of delay\")\n",
        "plt.show()"
      ],
      "metadata": {
        "colab": {
          "base_uri": "https://localhost:8080/",
          "height": 295
        },
        "id": "1_c4HixV3bfi",
        "outputId": "b24866e3-16c7-4595-ff3d-4c3fdc5c5e09"
      },
      "execution_count": 89,
      "outputs": [
        {
          "output_type": "display_data",
          "data": {
            "text/plain": [
              "<Figure size 432x288 with 1 Axes>"
            ],
            "image/png": "[encoded data removed]"
          },
          "metadata": {
            "needs_background": "light"
          }
        }
      ]
    },
    {
      "cell_type": "code",
      "source": [
        "ylist = []\n",
        "\n",
        "for airline in delay_count[\"AIRLINE\"].unique():\n",
        "  ylist.append(delay_count[delay_count['AIRLINE'] == airline][\"ARRIVAL_DELAY\"].mean())\n",
        "\n",
        "plt.bar(wf_df[\"AIRLINE\"].unique(), ylist, bottom=0)\n",
        "plt.title(\"Average delay vs airline\")\n",
        "plt.xlabel(\"Airline\")\n",
        "plt.ylabel(\"Average delay in minutes\")\n",
        "plt.show()"
      ],
      "metadata": {
        "colab": {
          "base_uri": "https://localhost:8080/",
          "height": 295
        },
        "id": "xnBHjoR4MduZ",
        "outputId": "677240e9-e5aa-4c15-d5f7-efbe741c5a8a"
      },
      "execution_count": 90,
      "outputs": [
        {
          "output_type": "display_data",
          "data": {
            "text/plain": [
              "<Figure size 432x288 with 1 Axes>"
            ],
            "image/png": "[encoded data removed]"
          },
          "metadata": {
            "needs_background": "light"
          }
        }
      ]
    },
    {
      "cell_type": "markdown",
      "source": [
        "**Delays by departure airport**"
      ],
      "metadata": {
        "id": "3DNFJpFR8N7B"
      }
    },
    {
      "cell_type": "code",
      "source": [
        "ylist = []\n",
        "\n",
        "for airport in sorted(delay_count[\"ORIGIN_AIRPORT\"].unique()):\n",
        "  ylist.append(delay_count[delay_count['ORIGIN_AIRPORT'] == airport][\"IS_DELAYED\"].sum())\n",
        "\n",
        "plt.figure(figsize = (15,4))\n",
        "\n",
        "plt.bar(sorted(delay_count[\"ORIGIN_AIRPORT\"].unique()), ylist, bottom=0)\n",
        "plt.title(\"Delays per departure airport\")\n",
        "plt.xlabel(\"Airport\")\n",
        "plt.ylabel(\"Number of delays over 5 minutes\")\n",
        "plt.show()"
      ],
      "metadata": {
        "colab": {
          "base_uri": "https://localhost:8080/",
          "height": 295
        },
        "id": "JV1Qg9Ml8WlX",
        "outputId": "a82c13b1-b18d-4cea-d0af-ed0bf755f92f"
      },
      "execution_count": 91,
      "outputs": [
        {
          "output_type": "display_data",
          "data": {
            "text/plain": [
              "<Figure size 1080x288 with 1 Axes>"
            ],
            "image/png": "[encoded data removed]"
          },
          "metadata": {
            "needs_background": "light"
          }
        }
      ]
    },
    {
      "cell_type": "code",
      "source": [
        "ylist2 = []\n",
        "\n",
        "for airport in sorted(delay_count[\"ORIGIN_AIRPORT\"].unique()):\n",
        "  ylist2.append(delay_count[delay_count['ORIGIN_AIRPORT'] == airport][\"IS_DELAYED\"].count())\n",
        "\n",
        "\n",
        "plt.figure(figsize=(15,4))\n",
        "plt.bar(sorted(delay_count[\"ORIGIN_AIRPORT\"].unique()), ylist2, bottom=0)\n",
        "plt.title(\"Number of departing flights per airport\")\n",
        "plt.xlabel(\"Airport\")\n",
        "plt.ylabel(\"Number of departing flights\")\n",
        "plt.show()"
      ],
      "metadata": {
        "colab": {
          "base_uri": "https://localhost:8080/",
          "height": 295
        },
        "id": "-dxATXM0-6qf",
        "outputId": "4c10de6a-78ec-46c0-c556-0b2f9e62832e"
      },
      "execution_count": 92,
      "outputs": [
        {
          "output_type": "display_data",
          "data": {
            "text/plain": [
              "<Figure size 1080x288 with 1 Axes>"
            ],
            "image/png": "[encoded data removed]"
          },
          "metadata": {
            "needs_background": "light"
          }
        }
      ]
    },
    {
      "cell_type": "code",
      "source": [
        "percent_delayed = [x/y for (x, y) in zip(ylist, ylist2)]\n",
        "\n",
        "plt.figure(figsize=(15,4))\n",
        "plt.bar(sorted(delay_count[\"ORIGIN_AIRPORT\"].unique()), percent_delayed, bottom=0)\n",
        "plt.title(\"Percentage of departing flights per airport\")\n",
        "plt.xlabel(\"Airport\")\n",
        "plt.ylabel(\"Ratio of delay\")\n",
        "plt.show()"
      ],
      "metadata": {
        "colab": {
          "base_uri": "https://localhost:8080/",
          "height": 295
        },
        "id": "eWpkV0-G_GVI",
        "outputId": "45376c89-b676-48a0-fc04-01b3c4f97f75"
      },
      "execution_count": 93,
      "outputs": [
        {
          "output_type": "display_data",
          "data": {
            "text/plain": [
              "<Figure size 1080x288 with 1 Axes>"
            ],
            "image/png": "[encoded data removed]"
          },
          "metadata": {
            "needs_background": "light"
          }
        }
      ]
    },
    {
      "cell_type": "markdown",
      "source": [
        "**Delays by arrival airport**"
      ],
      "metadata": {
        "id": "cpAIu81c6z_D"
      }
    },
    {
      "cell_type": "code",
      "source": [
        "ylist = []\n",
        "\n",
        "for airport in sorted(delay_count[\"DESTINATION_AIRPORT\"].unique()):\n",
        "  ylist.append(delay_count[delay_count['DESTINATION_AIRPORT'] == airport][\"IS_DELAYED\"].sum())\n",
        "\n",
        "plt.figure(figsize = (15,4))\n",
        "\n",
        "plt.bar(sorted(delay_count[\"DESTINATION_AIRPORT\"].unique()), ylist, bottom=0)\n",
        "plt.title(\"Delays per destination airport\")\n",
        "plt.xlabel(\"Airport\")\n",
        "plt.ylabel(\"Number of delays over 5 minutes\")\n",
        "plt.show()"
      ],
      "metadata": {
        "colab": {
          "base_uri": "https://localhost:8080/",
          "height": 295
        },
        "id": "8TKMKsUk4bkQ",
        "outputId": "e046798e-3bb4-432b-f1b5-af329c5f826c"
      },
      "execution_count": 94,
      "outputs": [
        {
          "output_type": "display_data",
          "data": {
            "text/plain": [
              "<Figure size 1080x288 with 1 Axes>"
            ],
            "image/png": "[encoded data removed]"
          },
          "metadata": {
            "needs_background": "light"
          }
        }
      ]
    },
    {
      "cell_type": "code",
      "source": [
        "ylist2 = []\n",
        "\n",
        "for airport in sorted(delay_count[\"DESTINATION_AIRPORT\"].unique()):\n",
        "  ylist2.append(delay_count[delay_count['DESTINATION_AIRPORT'] == airport][\"IS_DELAYED\"].count())\n",
        "\n",
        "\n",
        "plt.figure(figsize=(15,4))\n",
        "plt.bar(sorted(delay_count[\"DESTINATION_AIRPORT\"].unique()), ylist2, bottom=0)\n",
        "plt.title(\"Number of arriving flights per airport\")\n",
        "plt.xlabel(\"Airport\")\n",
        "plt.ylabel(\"Number of arriving flights\")\n",
        "plt.show()"
      ],
      "metadata": {
        "colab": {
          "base_uri": "https://localhost:8080/",
          "height": 295
        },
        "id": "3sbGcBjR6LSJ",
        "outputId": "a8c25d9b-2d5e-464e-d9bd-ee76219287b9"
      },
      "execution_count": 95,
      "outputs": [
        {
          "output_type": "display_data",
          "data": {
            "text/plain": [
              "<Figure size 1080x288 with 1 Axes>"
            ],
            "image/png": "[encoded data removed]"
          },
          "metadata": {
            "needs_background": "light"
          }
        }
      ]
    },
    {
      "cell_type": "code",
      "source": [
        "percent_delayed = [x/y for (x, y) in zip(ylist, ylist2)]\n",
        "\n",
        "plt.figure(figsize=(15,4))\n",
        "plt.bar(sorted(delay_count[\"DESTINATION_AIRPORT\"].unique()), percent_delayed, bottom=0)\n",
        "plt.title(\"Percentage of delayed flights per airport\")\n",
        "plt.xlabel(\"Airport\")\n",
        "plt.ylabel(\"Ratio of delay\")\n",
        "plt.show()"
      ],
      "metadata": {
        "colab": {
          "base_uri": "https://localhost:8080/",
          "height": 295
        },
        "id": "ebtcQqz86xl4",
        "outputId": "bf8d88c4-5627-4f97-c50f-89753d15799b"
      },
      "execution_count": 96,
      "outputs": [
        {
          "output_type": "display_data",
          "data": {
            "text/plain": [
              "<Figure size 1080x288 with 1 Axes>"
            ],
            "image/png": "[encoded data removed]"
          },
          "metadata": {
            "needs_background": "light"
          }
        }
      ]
    },
    {
      "cell_type": "markdown",
      "source": [
        "**Delays by origin weather**"
      ],
      "metadata": {
        "id": "e4KIGmPlG8yd"
      }
    },
    {
      "cell_type": "code",
      "source": [
        "ylist = []\n",
        "\n",
        "for airport in sorted(delay_count[\"ORIGIN_WEATHER\"].unique()):\n",
        "  ylist.append(delay_count[delay_count['ORIGIN_WEATHER'] == airport][\"IS_DELAYED\"].sum())\n",
        "\n",
        "plt.figure(figsize = (18,4))\n",
        "\n",
        "plt.bar(sorted(delay_count[\"ORIGIN_WEATHER\"].unique()), ylist, bottom=0)\n",
        "plt.title(\"Delays per departure weather description\")\n",
        "plt.xlabel(\"Weather Description\")\n",
        "plt.xticks(rotation = 90)\n",
        "plt.ylabel(\"Number of delays over 5 minutes\")\n",
        "plt.show()"
      ],
      "metadata": {
        "colab": {
          "base_uri": "https://localhost:8080/",
          "height": 464
        },
        "id": "ZpfNIuYhG_sW",
        "outputId": "0328be69-bba1-4318-da9f-b63f9ab86c84"
      },
      "execution_count": 97,
      "outputs": [
        {
          "output_type": "display_data",
          "data": {
            "text/plain": [
              "<Figure size 1296x288 with 1 Axes>"
            ],
            "image/png": "[encoded data removed]"
          },
          "metadata": {
            "needs_background": "light"
          }
        }
      ]
    },
    {
      "cell_type": "code",
      "source": [
        "ylist2 = []\n",
        "\n",
        "for airport in sorted(delay_count[\"ORIGIN_WEATHER\"].unique()):\n",
        "  ylist2.append(delay_count[delay_count['ORIGIN_WEATHER'] == airport][\"IS_DELAYED\"].count())\n",
        "\n",
        "\n",
        "plt.figure(figsize=(18,4))\n",
        "plt.bar(sorted(delay_count[\"ORIGIN_WEATHER\"].unique()), ylist2, bottom=0)\n",
        "plt.title(\"Number of departing flights per weather condition\")\n",
        "plt.xlabel(\"Weather\")\n",
        "plt.xticks(rotation = 90)\n",
        "plt.ylabel(\"Number of departing flights\")\n",
        "plt.show()"
      ],
      "metadata": {
        "colab": {
          "base_uri": "https://localhost:8080/",
          "height": 464
        },
        "id": "1kCDvr8AHMt2",
        "outputId": "4deb21cf-3c25-4974-f710-0707d97cebf2"
      },
      "execution_count": 98,
      "outputs": [
        {
          "output_type": "display_data",
          "data": {
            "text/plain": [
              "<Figure size 1296x288 with 1 Axes>"
            ],
            "image/png": "[encoded data removed]"
          },
          "metadata": {
            "needs_background": "light"
          }
        }
      ]
    },
    {
      "cell_type": "code",
      "source": [
        "percent_delayed = [x/y for (x, y) in zip(ylist, ylist2)]\n",
        "\n",
        "plt.figure(figsize=(18,4))\n",
        "plt.bar(sorted(delay_count[\"ORIGIN_WEATHER\"].unique()), percent_delayed, bottom=0)\n",
        "plt.title(\"Percentage of delayed flights per departing weather condition\")\n",
        "plt.xlabel(\"Airport\")\n",
        "plt.xticks(rotation = 90)\n",
        "plt.ylabel(\"Ratio of delay\")\n",
        "plt.show()"
      ],
      "metadata": {
        "colab": {
          "base_uri": "https://localhost:8080/",
          "height": 464
        },
        "id": "YS3em_2rHkQ6",
        "outputId": "7418f6d3-0f53-4c0e-b9bb-5483ddeabe69"
      },
      "execution_count": 99,
      "outputs": [
        {
          "output_type": "display_data",
          "data": {
            "text/plain": [
              "<Figure size 1296x288 with 1 Axes>"
            ],
            "image/png": "[encoded data removed]"
          },
          "metadata": {
            "needs_background": "light"
          }
        }
      ]
    },
    {
      "cell_type": "markdown",
      "source": [
        "**Delays by destination weather**"
      ],
      "metadata": {
        "id": "NUr4Aa-a_yjL"
      }
    },
    {
      "cell_type": "code",
      "source": [
        "ylist = []\n",
        "\n",
        "for airport in sorted(delay_count[\"DESTINATION_WEATHER\"].unique()):\n",
        "  ylist.append(delay_count[delay_count['DESTINATION_WEATHER'] == airport][\"IS_DELAYED\"].sum())\n",
        "\n",
        "plt.figure(figsize = (18,4))\n",
        "\n",
        "plt.bar(sorted(delay_count[\"DESTINATION_WEATHER\"].unique()), ylist, bottom=0)\n",
        "plt.title(\"Delays per destination weather description\")\n",
        "plt.xlabel(\"Weather Description\")\n",
        "plt.xticks(rotation = 90)\n",
        "plt.ylabel(\"Number of delays over 5 minutes\")\n",
        "plt.show()"
      ],
      "metadata": {
        "colab": {
          "base_uri": "https://localhost:8080/",
          "height": 464
        },
        "id": "sY05S7yJ_yJ4",
        "outputId": "62064b46-b4bb-4c23-ef6b-fb128f36a6e1"
      },
      "execution_count": 100,
      "outputs": [
        {
          "output_type": "display_data",
          "data": {
            "text/plain": [
              "<Figure size 1296x288 with 1 Axes>"
            ],
            "image/png": "[encoded data removed]"
          },
          "metadata": {
            "needs_background": "light"
          }
        }
      ]
    },
    {
      "cell_type": "code",
      "source": [
        "ylist2 = []\n",
        "\n",
        "for airport in sorted(delay_count[\"DESTINATION_WEATHER\"].unique()):\n",
        "  ylist2.append(delay_count[delay_count['DESTINATION_WEATHER'] == airport][\"IS_DELAYED\"].count())\n",
        "\n",
        "\n",
        "plt.figure(figsize=(18,4))\n",
        "plt.bar(sorted(delay_count[\"DESTINATION_WEATHER\"].unique()), ylist2, bottom=0)\n",
        "plt.title(\"Number of arriving flights per weather condition\")\n",
        "plt.xlabel(\"Weather\")\n",
        "plt.xticks(rotation = 90)\n",
        "plt.ylabel(\"Number of arriving flights\")\n",
        "plt.show()"
      ],
      "metadata": {
        "colab": {
          "base_uri": "https://localhost:8080/",
          "height": 464
        },
        "id": "3vmGuzzYCJu5",
        "outputId": "4c240604-6a28-4433-c7ec-198b7d52500c"
      },
      "execution_count": 101,
      "outputs": [
        {
          "output_type": "display_data",
          "data": {
            "text/plain": [
              "<Figure size 1296x288 with 1 Axes>"
            ],
            "image/png": "[encoded data removed]"
          },
          "metadata": {
            "needs_background": "light"
          }
        }
      ]
    },
    {
      "cell_type": "code",
      "source": [
        "percent_delayed = [x/y for (x, y) in zip(ylist, ylist2)]\n",
        "\n",
        "plt.figure(figsize=(18,4))\n",
        "plt.bar(sorted(delay_count[\"DESTINATION_WEATHER\"].unique()), percent_delayed, bottom=0)\n",
        "plt.title(\"Percentage of delayed flights per destination weather condition\")\n",
        "plt.xlabel(\"Airport\")\n",
        "plt.xticks(rotation = 90)\n",
        "plt.ylabel(\"Ratio of delay\")\n",
        "plt.show()"
      ],
      "metadata": {
        "colab": {
          "base_uri": "https://localhost:8080/",
          "height": 464
        },
        "id": "u8urVYliCtt1",
        "outputId": "3df6766c-75c1-4e63-a265-e2316f4f313f"
      },
      "execution_count": 102,
      "outputs": [
        {
          "output_type": "display_data",
          "data": {
            "text/plain": [
              "<Figure size 1296x288 with 1 Axes>"
            ],
            "image/png": "[encoded data removed]"
          },
          "metadata": {
            "needs_background": "light"
          }
        }
      ]
    },
    {
      "cell_type": "code",
      "source": [
        "for column in wf_df.columns:\n",
        "  if wf_df[column].dtype == \"object\":\n",
        "    temp_df = pd.get_dummies(wf_df[column], prefix=column)\n",
        "    wf_df = pd.concat([wf_df, temp_df], axis=1)\n",
        "    wf_df = wf_df.drop(columns=[column])\n",
        "\n",
        "wf_df.info()"
      ],
      "metadata": {
        "id": "ueDYHEuW6xIr",
        "colab": {
          "base_uri": "https://localhost:8080/"
        },
        "outputId": "33345db6-7689-444c-e5c2-5c1a4923ab8c"
      },
      "execution_count": 103,
      "outputs": [
        {
          "output_type": "stream",
          "name": "stdout",
          "text": [
            "<class 'pandas.core.frame.DataFrame'>\n",
            "Int64Index: 1303781 entries, 0 to 1303780\n",
            "Columns: 156 entries, MONTH to DESTINATION_WEATHER_very heavy rain\n",
            "dtypes: float64(11), int64(10), uint8(135)\n",
            "memory usage: 386.7 MB\n"
          ]
        }
      ]
    },
    {
      "cell_type": "code",
      "source": [
        "wf_df.head()"
      ],
      "metadata": {
        "colab": {
          "base_uri": "https://localhost:8080/",
          "height": 317
        },
        "id": "nuYfTg2yH-qu",
        "outputId": "a628eb2a-92d7-4b16-80af-22042d604036"
      },
      "execution_count": 104,
      "outputs": [
        {
          "output_type": "execute_result",
          "data": {
            "text/plain": [
              "   MONTH  DAY  DAY_OF_WEEK  FLIGHT_NUMBER  SCHEDULED_DEPARTURE  \\\n",
              "0      1    1            4            840                   20   \n",
              "1      1    1            4            258                   20   \n",
              "2      1    1            4            806                   25   \n",
              "3      1    1            4            612                   25   \n",
              "4      1    1            4           2013                   30   \n",
              "\n",
              "   DEPARTURE_TIME  DEPARTURE_DELAY  TAXI_OUT  WHEELS_OFF  SCHEDULED_TIME  ...  \\\n",
              "0            18.0             -2.0      16.0        34.0           286.0  ...   \n",
              "1            15.0             -5.0      15.0        30.0           285.0  ...   \n",
              "2            20.0             -5.0      18.0        38.0           217.0  ...   \n",
              "3            19.0             -6.0      11.0        30.0           181.0  ...   \n",
              "4            44.0             14.0      13.0        57.0           273.0  ...   \n",
              "\n",
              "   DESTINATION_WEATHER_sky is clear  DESTINATION_WEATHER_smoke  \\\n",
              "0                                 1                          0   \n",
              "1                                 0                          0   \n",
              "2                                 0                          0   \n",
              "3                                 0                          0   \n",
              "4                                 1                          0   \n",
              "\n",
              "   DESTINATION_WEATHER_snow  DESTINATION_WEATHER_squalls  \\\n",
              "0                         0                            0   \n",
              "1                         0                            0   \n",
              "2                         0                            0   \n",
              "3                         0                            0   \n",
              "4                         0                            0   \n",
              "\n",
              "   DESTINATION_WEATHER_thunderstorm  \\\n",
              "0                                 0   \n",
              "1                                 0   \n",
              "2                                 0   \n",
              "3                                 0   \n",
              "4                                 0   \n",
              "\n",
              "   DESTINATION_WEATHER_thunderstorm with heavy rain  \\\n",
              "0                                                 0   \n",
              "1                                                 0   \n",
              "2                                                 0   \n",
              "3                                                 0   \n",
              "4                                                 0   \n",
              "\n",
              "   DESTINATION_WEATHER_thunderstorm with light drizzle  \\\n",
              "0                                                  0     \n",
              "1                                                  0     \n",
              "2                                                  0     \n",
              "3                                                  0     \n",
              "4                                                  0     \n",
              "\n",
              "   DESTINATION_WEATHER_thunderstorm with light rain  \\\n",
              "0                                                 0   \n",
              "1                                                 0   \n",
              "2                                                 0   \n",
              "3                                                 0   \n",
              "4                                                 0   \n",
              "\n",
              "   DESTINATION_WEATHER_thunderstorm with rain  \\\n",
              "0                                           0   \n",
              "1                                           0   \n",
              "2                                           0   \n",
              "3                                           0   \n",
              "4                                           0   \n",
              "\n",
              "   DESTINATION_WEATHER_very heavy rain  \n",
              "0                                    0  \n",
              "1                                    0  \n",
              "2                                    0  \n",
              "3                                    0  \n",
              "4                                    0  \n",
              "\n",
              "[5 rows x 156 columns]"
            ],
            "text/html": [
              "\n",
              "  <div id=\"df-44cb8dba-1cdb-476a-acd1-aa974c4813b7\">\n",
              "    <div class=\"colab-df-container\">\n",
              "      <div>\n",
              "<style scoped>\n",
              "    .dataframe tbody tr th:only-of-type {\n",
              "        vertical-align: middle;\n",
              "    }\n",
              "\n",
              "    .dataframe tbody tr th {\n",
              "        vertical-align: top;\n",
              "    }\n",
              "\n",
              "    .dataframe thead th {\n",
              "        text-align: right;\n",
              "    }\n",
              "</style>\n",
              "<table border=\"1\" class=\"dataframe\">\n",
              "  <thead>\n",
              "    <tr style=\"text-align: right;\">\n",
              "      <th></th>\n",
              "      <th>MONTH</th>\n",
              "      <th>DAY</th>\n",
              "      <th>DAY_OF_WEEK</th>\n",
              "      <th>FLIGHT_NUMBER</th>\n",
              "      <th>SCHEDULED_DEPARTURE</th>\n",
              "      <th>DEPARTURE_TIME</th>\n",
              "      <th>DEPARTURE_DELAY</th>\n",
              "      <th>TAXI_OUT</th>\n",
              "      <th>WHEELS_OFF</th>\n",
              "      <th>SCHEDULED_TIME</th>\n",
              "      <th>...</th>\n",
              "      <th>DESTINATION_WEATHER_sky is clear</th>\n",
              "      <th>DESTINATION_WEATHER_smoke</th>\n",
              "      <th>DESTINATION_WEATHER_snow</th>\n",
              "      <th>DESTINATION_WEATHER_squalls</th>\n",
              "      <th>DESTINATION_WEATHER_thunderstorm</th>\n",
              "      <th>DESTINATION_WEATHER_thunderstorm with heavy rain</th>\n",
              "      <th>DESTINATION_WEATHER_thunderstorm with light drizzle</th>\n",
              "      <th>DESTINATION_WEATHER_thunderstorm with light rain</th>\n",
              "      <th>DESTINATION_WEATHER_thunderstorm with rain</th>\n",
              "      <th>DESTINATION_WEATHER_very heavy rain</th>\n",
              "    </tr>\n",
              "  </thead>\n",
              "  <tbody>\n",
              "    <tr>\n",
              "      <th>0</th>\n",
              "      <td>1</td>\n",
              "      <td>1</td>\n",
              "      <td>4</td>\n",
              "      <td>840</td>\n",
              "      <td>20</td>\n",
              "      <td>18.0</td>\n",
              "      <td>-2.0</td>\n",
              "      <td>16.0</td>\n",
              "      <td>34.0</td>\n",
              "      <td>286.0</td>\n",
              "      <td>...</td>\n",
              "      <td>1</td>\n",
              "      <td>0</td>\n",
              "      <td>0</td>\n",
              "      <td>0</td>\n",
              "      <td>0</td>\n",
              "      <td>0</td>\n",
              "      <td>0</td>\n",
              "      <td>0</td>\n",
              "      <td>0</td>\n",
              "      <td>0</td>\n",
              "    </tr>\n",
              "    <tr>\n",
              "      <th>1</th>\n",
              "      <td>1</td>\n",
              "      <td>1</td>\n",
              "      <td>4</td>\n",
              "      <td>258</td>\n",
              "      <td>20</td>\n",
              "      <td>15.0</td>\n",
              "      <td>-5.0</td>\n",
              "      <td>15.0</td>\n",
              "      <td>30.0</td>\n",
              "      <td>285.0</td>\n",
              "      <td>...</td>\n",
              "      <td>0</td>\n",
              "      <td>0</td>\n",
              "      <td>0</td>\n",
              "      <td>0</td>\n",
              "      <td>0</td>\n",
              "      <td>0</td>\n",
              "      <td>0</td>\n",
              "      <td>0</td>\n",
              "      <td>0</td>\n",
              "      <td>0</td>\n",
              "    </tr>\n",
              "    <tr>\n",
              "      <th>2</th>\n",
              "      <td>1</td>\n",
              "      <td>1</td>\n",
              "      <td>4</td>\n",
              "      <td>806</td>\n",
              "      <td>25</td>\n",
              "      <td>20.0</td>\n",
              "      <td>-5.0</td>\n",
              "      <td>18.0</td>\n",
              "      <td>38.0</td>\n",
              "      <td>217.0</td>\n",
              "      <td>...</td>\n",
              "      <td>0</td>\n",
              "      <td>0</td>\n",
              "      <td>0</td>\n",
              "      <td>0</td>\n",
              "      <td>0</td>\n",
              "      <td>0</td>\n",
              "      <td>0</td>\n",
              "      <td>0</td>\n",
              "      <td>0</td>\n",
              "      <td>0</td>\n",
              "    </tr>\n",
              "    <tr>\n",
              "      <th>3</th>\n",
              "      <td>1</td>\n",
              "      <td>1</td>\n",
              "      <td>4</td>\n",
              "      <td>612</td>\n",
              "      <td>25</td>\n",
              "      <td>19.0</td>\n",
              "      <td>-6.0</td>\n",
              "      <td>11.0</td>\n",
              "      <td>30.0</td>\n",
              "      <td>181.0</td>\n",
              "      <td>...</td>\n",
              "      <td>0</td>\n",
              "      <td>0</td>\n",
              "      <td>0</td>\n",
              "      <td>0</td>\n",
              "      <td>0</td>\n",
              "      <td>0</td>\n",
              "      <td>0</td>\n",
              "      <td>0</td>\n",
              "      <td>0</td>\n",
              "      <td>0</td>\n",
              "    </tr>\n",
              "    <tr>\n",
              "      <th>4</th>\n",
              "      <td>1</td>\n",
              "      <td>1</td>\n",
              "      <td>4</td>\n",
              "      <td>2013</td>\n",
              "      <td>30</td>\n",
              "      <td>44.0</td>\n",
              "      <td>14.0</td>\n",
              "      <td>13.0</td>\n",
              "      <td>57.0</td>\n",
              "      <td>273.0</td>\n",
              "      <td>...</td>\n",
              "      <td>1</td>\n",
              "      <td>0</td>\n",
              "      <td>0</td>\n",
              "      <td>0</td>\n",
              "      <td>0</td>\n",
              "      <td>0</td>\n",
              "      <td>0</td>\n",
              "      <td>0</td>\n",
              "      <td>0</td>\n",
              "      <td>0</td>\n",
              "    </tr>\n",
              "  </tbody>\n",
              "</table>\n",
              "<p>5 rows × 156 columns</p>\n",
              "</div>\n",
              "      <button class=\"colab-df-convert\" onclick=\"convertToInteractive('df-44cb8dba-1cdb-476a-acd1-aa974c4813b7')\"\n",
              "              title=\"Convert this dataframe to an interactive table.\"\n",
              "              style=\"display:none;\">\n",
              "        \n",
              "  <svg xmlns=\"http://www.w3.org/2000/svg\" height=\"24px\"viewBox=\"0 0 24 24\"\n",
              "       width=\"24px\">\n",
              "    <path d=\"M0 0h24v24H0V0z\" fill=\"none\"/>\n",
              "    <path d=\"M18.56 5.44l.94 2.06.94-2.06 2.06-.94-2.06-.94-.94-2.06-.94 2.06-2.06.94zm-11 1L8.5 8.5l.94-2.06 2.06-.94-2.06-.94L8.5 2.5l-.94 2.06-2.06.94zm10 10l.94 2.06.94-2.06 2.06-.94-2.06-.94-.94-2.06-.94 2.06-2.06.94z\"/><path d=\"M17.41 7.96l-1.37-1.37c-.4-.4-.92-.59-1.43-.59-.52 0-1.04.2-1.43.59L10.3 9.45l-7.72 7.72c-.78.78-.78 2.05 0 2.83L4 21.41c.39.39.9.59 1.41.59.51 0 1.02-.2 1.41-.59l7.78-7.78 2.81-2.81c.8-.78.8-2.07 0-2.86zM5.41 20L4 18.59l7.72-7.72 1.47 1.35L5.41 20z\"/>\n",
              "  </svg>\n",
              "      </button>\n",
              "      \n",
              "  <style>\n",
              "    .colab-df-container {\n",
              "      display:flex;\n",
              "      flex-wrap:wrap;\n",
              "      gap: 12px;\n",
              "    }\n",
              "\n",
              "    .colab-df-convert {\n",
              "      background-color: #E8F0FE;\n",
              "      border: none;\n",
              "      border-radius: 50%;\n",
              "      cursor: pointer;\n",
              "      display: none;\n",
              "      fill: #1967D2;\n",
              "      height: 32px;\n",
              "      padding: 0 0 0 0;\n",
              "      width: 32px;\n",
              "    }\n",
              "\n",
              "    .colab-df-convert:hover {\n",
              "      background-color: #E2EBFA;\n",
              "      box-shadow: 0px 1px 2px rgba(60, 64, 67, 0.3), 0px 1px 3px 1px rgba(60, 64, 67, 0.15);\n",
              "      fill: #174EA6;\n",
              "    }\n",
              "\n",
              "    [theme=dark] .colab-df-convert {\n",
              "      background-color: #3B4455;\n",
              "      fill: #D2E3FC;\n",
              "    }\n",
              "\n",
              "    [theme=dark] .colab-df-convert:hover {\n",
              "      background-color: #434B5C;\n",
              "      box-shadow: 0px 1px 3px 1px rgba(0, 0, 0, 0.15);\n",
              "      filter: drop-shadow(0px 1px 2px rgba(0, 0, 0, 0.3));\n",
              "      fill: #FFFFFF;\n",
              "    }\n",
              "  </style>\n",
              "\n",
              "      <script>\n",
              "        const buttonEl =\n",
              "          document.querySelector('#df-44cb8dba-1cdb-476a-acd1-aa974c4813b7 button.colab-df-convert');\n",
              "        buttonEl.style.display =\n",
              "          google.colab.kernel.accessAllowed ? 'block' : 'none';\n",
              "\n",
              "        async function convertToInteractive(key) {\n",
              "          const element = document.querySelector('#df-44cb8dba-1cdb-476a-acd1-aa974c4813b7');\n",
              "          const dataTable =\n",
              "            await google.colab.kernel.invokeFunction('convertToInteractive',\n",
              "                                                     [key], {});\n",
              "          if (!dataTable) return;\n",
              "\n",
              "          const docLinkHtml = 'Like what you see? Visit the ' +\n",
              "            '<a target=\"_blank\" href=https://colab.research.google.com/notebooks/data_table.ipynb>data table notebook</a>'\n",
              "            + ' to learn more about interactive tables.';\n",
              "          element.innerHTML = '';\n",
              "          dataTable['output_type'] = 'display_data';\n",
              "          await google.colab.output.renderOutput(dataTable, element);\n",
              "          const docLink = document.createElement('div');\n",
              "          docLink.innerHTML = docLinkHtml;\n",
              "          element.appendChild(docLink);\n",
              "        }\n",
              "      </script>\n",
              "    </div>\n",
              "  </div>\n",
              "  "
            ]
          },
          "metadata": {},
          "execution_count": 104
        }
      ]
    },
    {
      "cell_type": "markdown",
      "source": [
        "Verifying that all columns containing object data types are removed"
      ],
      "metadata": {
        "id": "qHB-S1f_LhzF"
      }
    },
    {
      "cell_type": "code",
      "source": [
        "for column in wf_df.columns:\n",
        "  if wf_df[column].dtype == \"object\":\n",
        "    print(column)"
      ],
      "metadata": {
        "id": "HaceF-xELKsA"
      },
      "execution_count": 105,
      "outputs": []
    },
    {
      "cell_type": "markdown",
      "source": [
        "There are too many columns for .corr to display all the information. I could not find the pandas setting for .corr print settings. All columns are printed with their correlation to Arrival delay in this loop."
      ],
      "metadata": {
        "id": "APefMLv4LsCN"
      }
    },
    {
      "cell_type": "code",
      "source": [
        "for column in wf_df.columns:\n",
        "  print(\"{} : {}\".format(column, wf_df[column].corr(wf_df[\"ARRIVAL_DELAY\"])))"
      ],
      "metadata": {
        "colab": {
          "base_uri": "https://localhost:8080/"
        },
        "id": "hkjAqiXfLyZn",
        "outputId": "66fc55d8-d51e-4516-8228-c531d3de9ba8"
      },
      "execution_count": 106,
      "outputs": [
        {
          "output_type": "stream",
          "name": "stdout",
          "text": [
            "MONTH : -0.021288643722592364\n",
            "DAY : -0.0030027801743531604\n",
            "DAY_OF_WEEK : -0.018311685596656222\n",
            "FLIGHT_NUMBER : 0.016559939298738734\n",
            "SCHEDULED_DEPARTURE : 0.10135473015987988\n",
            "DEPARTURE_TIME : 0.14721895641968133\n",
            "DEPARTURE_DELAY : 0.9386486405523962\n",
            "TAXI_OUT : 0.23673601539548972\n",
            "WHEELS_OFF : 0.14218637293141265\n",
            "SCHEDULED_TIME : -0.04396698166386017\n",
            "ELAPSED_TIME : 0.018745973599451588\n",
            "AIR_TIME : -0.018479659591774333\n",
            "DISTANCE : -0.03925290221783647\n",
            "WHEELS_ON : 0.03358873285906363\n",
            "TAXI_IN : 0.12392890429395133\n",
            "SCHEDULED_ARRIVAL : 0.08552777482062171\n",
            "ARRIVAL_TIME : 0.02328660049568326\n",
            "ARRIVAL_DELAY : 1.0\n",
            "DIVERTED : nan\n",
            "CANCELLED : nan\n",
            "IS_DELAYED : 0.6015454402560031\n",
            "AIRLINE_AA : -0.017784803974724275\n",
            "AIRLINE_AS : -0.02257699990660611\n",
            "AIRLINE_B6 : 0.005947983768894185\n",
            "AIRLINE_DL : -0.047342326770194405\n",
            "AIRLINE_EV : 0.006253826762830138\n",
            "AIRLINE_F9 : 0.03817979183188933\n",
            "AIRLINE_MQ : 0.009407935747142783\n",
            "AIRLINE_NK : 0.06120456091639818\n",
            "AIRLINE_OO : 0.023128109648767433\n",
            "AIRLINE_UA : 0.02058013834102521\n",
            "AIRLINE_US : -0.008306232505281189\n",
            "AIRLINE_VX : 0.003011706370545488\n",
            "AIRLINE_WN : 0.003378054250960157\n",
            "ORIGIN_AIRPORT_ABQ : 0.0013901877221944394\n",
            "ORIGIN_AIRPORT_ATL : -0.01786886581663725\n",
            "ORIGIN_AIRPORT_BNA : -0.0038248828200449355\n",
            "ORIGIN_AIRPORT_BOS : -0.0071226748519055095\n",
            "ORIGIN_AIRPORT_CLT : 0.0014969140732387267\n",
            "ORIGIN_AIRPORT_DEN : 0.016236954616951103\n",
            "ORIGIN_AIRPORT_DFW : 0.00650316175024636\n",
            "ORIGIN_AIRPORT_DTW : -0.009457059466472162\n",
            "ORIGIN_AIRPORT_IAH : 0.023034891517754116\n",
            "ORIGIN_AIRPORT_IND : -0.009048791431781378\n",
            "ORIGIN_AIRPORT_JAX : -0.0025157734523837535\n",
            "ORIGIN_AIRPORT_JFK : -0.013973718875156539\n",
            "ORIGIN_AIRPORT_LAS : 0.006138212687048463\n",
            "ORIGIN_AIRPORT_LAX : 0.0016414168504025432\n",
            "ORIGIN_AIRPORT_MCI : -0.00046336175984860154\n",
            "ORIGIN_AIRPORT_MIA : 0.003442512924513558\n",
            "ORIGIN_AIRPORT_MSP : -0.011534956532381287\n",
            "ORIGIN_AIRPORT_ORD : 0.030956578715636077\n",
            "ORIGIN_AIRPORT_PDX : -0.010523639458871553\n",
            "ORIGIN_AIRPORT_PHL : -0.0038281497255498033\n",
            "ORIGIN_AIRPORT_PHX : -0.002323701849494341\n",
            "ORIGIN_AIRPORT_PIT : -0.01754601181830166\n",
            "ORIGIN_AIRPORT_SAT : -0.010017008490703392\n",
            "ORIGIN_AIRPORT_SEA : -0.006550759223170224\n",
            "ORIGIN_AIRPORT_SFO : 0.0031223959826976295\n",
            "DESTINATION_AIRPORT_ABQ : 0.001564412903778359\n",
            "DESTINATION_AIRPORT_ATL : -0.01944039611338815\n",
            "DESTINATION_AIRPORT_BNA : -0.002807904403029088\n",
            "DESTINATION_AIRPORT_BOS : 0.0013839686012863282\n",
            "DESTINATION_AIRPORT_CLT : -0.015195292046378123\n",
            "DESTINATION_AIRPORT_DEN : 0.009732478800478802\n",
            "DESTINATION_AIRPORT_DFW : 0.003278174875632446\n",
            "DESTINATION_AIRPORT_DTW : -0.004074957626071051\n",
            "DESTINATION_AIRPORT_IAH : 0.011348644151003352\n",
            "DESTINATION_AIRPORT_IND : -0.0011230297967531019\n",
            "DESTINATION_AIRPORT_JAX : 0.001313477266865955\n",
            "DESTINATION_AIRPORT_JFK : 0.0030592683080356608\n",
            "DESTINATION_AIRPORT_LAS : -0.00288874548027223\n",
            "DESTINATION_AIRPORT_LAX : 0.00846934741877913\n",
            "DESTINATION_AIRPORT_MCI : 0.0001772487995110773\n",
            "DESTINATION_AIRPORT_MIA : 0.006776735298636059\n",
            "DESTINATION_AIRPORT_MSP : -0.005421410678278555\n",
            "DESTINATION_AIRPORT_ORD : 0.01702413678594749\n",
            "DESTINATION_AIRPORT_PDX : -0.007783584390662314\n",
            "DESTINATION_AIRPORT_PHL : -0.0018177528393352985\n",
            "DESTINATION_AIRPORT_PHX : -0.008840093273475238\n",
            "DESTINATION_AIRPORT_PIT : -0.0041407914300110905\n",
            "DESTINATION_AIRPORT_SAT : 0.002253895211605335\n",
            "DESTINATION_AIRPORT_SEA : -0.011361888526473905\n",
            "DESTINATION_AIRPORT_SFO : 0.010859628069223665\n",
            "ORIGIN_WEATHER_broken clouds : -0.003303535483374252\n",
            "ORIGIN_WEATHER_drizzle : 0.0035622524584885407\n",
            "ORIGIN_WEATHER_dust : 0.0007159000975457475\n",
            "ORIGIN_WEATHER_few clouds : -0.008598728525365014\n",
            "ORIGIN_WEATHER_fog : 0.0004200157724947632\n",
            "ORIGIN_WEATHER_freezing rain : 0.021208744027094502\n",
            "ORIGIN_WEATHER_haze : 0.008115352624901874\n",
            "ORIGIN_WEATHER_heavy intensity drizzle : -0.00034691178632309175\n",
            "ORIGIN_WEATHER_heavy intensity rain : 0.03826912071664104\n",
            "ORIGIN_WEATHER_heavy intensity shower rain : 0.001245581193998118\n",
            "ORIGIN_WEATHER_heavy snow : 0.01178893915595123\n",
            "ORIGIN_WEATHER_light intensity drizzle : 0.00550340897170971\n",
            "ORIGIN_WEATHER_light intensity shower rain : -0.0009767942342863288\n",
            "ORIGIN_WEATHER_light rain : 0.02363153326525828\n",
            "ORIGIN_WEATHER_light shower snow : 0.0001494929822594439\n",
            "ORIGIN_WEATHER_light snow : 0.02607445529482163\n",
            "ORIGIN_WEATHER_mist : -0.006161074288238175\n",
            "ORIGIN_WEATHER_moderate rain : 0.035450782580244374\n",
            "ORIGIN_WEATHER_overcast clouds : -0.0006432337791401224\n",
            "ORIGIN_WEATHER_proximity sand/dust whirls : 0.0010844603695469646\n",
            "ORIGIN_WEATHER_proximity shower rain : 0.00483723954050003\n",
            "ORIGIN_WEATHER_proximity thunderstorm : 0.017719426951905187\n",
            "ORIGIN_WEATHER_proximity thunderstorm with drizzle : -0.00031370921835630305\n",
            "ORIGIN_WEATHER_proximity thunderstorm with rain : 0.005108098591047693\n",
            "ORIGIN_WEATHER_scattered clouds : -0.007886161332239438\n",
            "ORIGIN_WEATHER_shower rain : 0.0010656569813867714\n",
            "ORIGIN_WEATHER_sky is clear : -0.0514835531290968\n",
            "ORIGIN_WEATHER_smoke : -0.002058982060125613\n",
            "ORIGIN_WEATHER_snow : 0.05879483069080348\n",
            "ORIGIN_WEATHER_squalls : -0.00043960489489823176\n",
            "ORIGIN_WEATHER_thunderstorm : 0.016941818833118235\n",
            "ORIGIN_WEATHER_thunderstorm with heavy rain : 0.006808911427184294\n",
            "ORIGIN_WEATHER_thunderstorm with light drizzle : 0.002130425042704933\n",
            "ORIGIN_WEATHER_thunderstorm with light rain : 0.009948077510317625\n",
            "ORIGIN_WEATHER_thunderstorm with rain : 0.002213649828393281\n",
            "ORIGIN_WEATHER_very heavy rain : 0.01158626947841884\n",
            "DESTINATION_WEATHER_broken clouds : -0.002480349762026438\n",
            "DESTINATION_WEATHER_drizzle : 0.0008506788095515526\n",
            "DESTINATION_WEATHER_dust : 0.0017579401625482242\n",
            "DESTINATION_WEATHER_few clouds : -0.009032048488194182\n",
            "DESTINATION_WEATHER_fog : 0.001385785304861144\n",
            "DESTINATION_WEATHER_freezing rain : 0.01992282071885463\n",
            "DESTINATION_WEATHER_haze : 0.005948730046450945\n",
            "DESTINATION_WEATHER_heavy intensity drizzle : -0.0012416941737908344\n",
            "DESTINATION_WEATHER_heavy intensity rain : 0.04872067476951477\n",
            "DESTINATION_WEATHER_heavy intensity shower rain : -1.9988920360388327e-05\n",
            "DESTINATION_WEATHER_heavy snow : 0.0073334554562357835\n",
            "DESTINATION_WEATHER_light intensity drizzle : 0.004444803980328525\n",
            "DESTINATION_WEATHER_light intensity shower rain : 0.0011310282976385291\n",
            "DESTINATION_WEATHER_light rain : 0.030559222911617064\n",
            "DESTINATION_WEATHER_light shower snow : -0.001265938469532101\n",
            "DESTINATION_WEATHER_light snow : 0.02077034348533834\n",
            "DESTINATION_WEATHER_mist : -0.0016399549722339592\n",
            "DESTINATION_WEATHER_moderate rain : 0.03743058179819406\n",
            "DESTINATION_WEATHER_overcast clouds : -0.0015098331656760878\n",
            "DESTINATION_WEATHER_proximity sand/dust whirls : -0.00016385416134332187\n",
            "DESTINATION_WEATHER_proximity shower rain : 0.004135487377680708\n",
            "DESTINATION_WEATHER_proximity thunderstorm : 0.015321432158698673\n",
            "DESTINATION_WEATHER_proximity thunderstorm with drizzle : -0.0016322171208095104\n",
            "DESTINATION_WEATHER_proximity thunderstorm with rain : 0.003499602309146051\n",
            "DESTINATION_WEATHER_scattered clouds : -0.007474966085924073\n",
            "DESTINATION_WEATHER_shower rain : 0.0015228993305376039\n",
            "DESTINATION_WEATHER_sky is clear : -0.05958165557803112\n",
            "DESTINATION_WEATHER_smoke : -0.003068043090443974\n",
            "DESTINATION_WEATHER_snow : 0.04204904856291029\n",
            "DESTINATION_WEATHER_squalls : -0.000653200968160525\n",
            "DESTINATION_WEATHER_thunderstorm : 0.016811005110761387\n",
            "DESTINATION_WEATHER_thunderstorm with heavy rain : 0.006203645610739418\n",
            "DESTINATION_WEATHER_thunderstorm with light drizzle : 0.0008795519924307083\n",
            "DESTINATION_WEATHER_thunderstorm with light rain : 0.01066011740046308\n",
            "DESTINATION_WEATHER_thunderstorm with rain : 0.0037237904363390715\n",
            "DESTINATION_WEATHER_very heavy rain : 0.011583961579618239\n"
          ]
        }
      ]
    },
    {
      "cell_type": "markdown",
      "source": [
        "After cleaning, there are no remaining columns of cancelled or diverted flights. The columns are removed."
      ],
      "metadata": {
        "id": "1V9w_8wqMM9W"
      }
    },
    {
      "cell_type": "code",
      "source": [
        "wf_df = wf_df.drop(columns=[\"CANCELLED\", \"DIVERTED\"])"
      ],
      "metadata": {
        "id": "80dz0w6BPTHU"
      },
      "execution_count": 107,
      "outputs": []
    },
    {
      "cell_type": "markdown",
      "source": [
        "dropping IS_DELAYED to prevent influence on testing"
      ],
      "metadata": {
        "id": "487OXchyM_8P"
      }
    },
    {
      "cell_type": "code",
      "source": [
        "wf_df = wf_df.drop(columns=[\"IS_DELAYED\"])"
      ],
      "metadata": {
        "id": "hbXjtL3hNE7-"
      },
      "execution_count": 108,
      "outputs": []
    },
    {
      "cell_type": "code",
      "source": [
        "plt.hist(wf_df.ARRIVAL_DELAY, bins = 50)\n",
        "plt.title(\"The distribution of arrival delays\")\n",
        "plt.xlabel(\"Delay in minutes\")\n",
        "plt.ylabel(\"Number of delays\")\n",
        "plt.show()\n",
        "\n",
        "print(\"Mean: {}\".format(wf_df.ARRIVAL_DELAY.mean()))\n",
        "print(\"Median: {}\".format(wf_df.ARRIVAL_DELAY.median()))\n",
        "print(\"Max: {}\".format(wf_df.ARRIVAL_DELAY.max()))\n",
        "print(\"Min: {}\".format(wf_df.ARRIVAL_DELAY.min()))"
      ],
      "metadata": {
        "colab": {
          "base_uri": "https://localhost:8080/",
          "height": 364
        },
        "id": "ba6Tu8C6dblF",
        "outputId": "e6ac58c3-cbee-489e-9f87-350326e0f4d0"
      },
      "execution_count": 109,
      "outputs": [
        {
          "output_type": "display_data",
          "data": {
            "text/plain": [
              "<Figure size 432x288 with 1 Axes>"
            ],
            "image/png": "[encoded data removed]"
          },
          "metadata": {
            "needs_background": "light"
          }
        },
        {
          "output_type": "stream",
          "name": "stdout",
          "text": [
            "Mean: 4.928511766930182\n",
            "Median: -5.0\n",
            "Max: 1638.0\n",
            "Min: -87.0\n"
          ]
        }
      ]
    },
    {
      "cell_type": "markdown",
      "source": [
        "#Linear Regression Model\n",
        "\n",
        "Using Linear regression to model arrival delays in minutes"
      ],
      "metadata": {
        "id": "EgfIhOhPdNE2"
      }
    },
    {
      "cell_type": "markdown",
      "source": [
        "**Linear Regression Model without arrival information**\n",
        "\n",
        "Arrival information is removed as the delay can be interpretted from factors like arrival time, wheels on, or flight time."
      ],
      "metadata": {
        "id": "aUGHM7HRIDoH"
      }
    },
    {
      "cell_type": "code",
      "source": [
        "#Defining Symmetric Mean Absolute Percentage Error as MAPE can not apply due to zeros in data\n",
        "\n",
        "def smape(a, f):\n",
        "    return 1/len(a) * np.sum(2 * np.abs(f-a) / (np.abs(a) + np.abs(f))*100)"
      ],
      "metadata": {
        "id": "whxnnP_R9M9I"
      },
      "execution_count": 110,
      "outputs": []
    },
    {
      "cell_type": "code",
      "source": [
        "Y = wf_df[\"ARRIVAL_DELAY\"]\n",
        "X = wf_df.drop(columns=[\"ARRIVAL_DELAY\", \"ARRIVAL_TIME\", \"TAXI_IN\", \"WHEELS_ON\", \"AIR_TIME\", \"ELAPSED_TIME\"])\n",
        "\n",
        "lrm = linear_model.LinearRegression()\n",
        "\n",
        "lrm.fit(X, Y)\n",
        "\n",
        "print('\\nIntercept: \\n', lrm.intercept_)"
      ],
      "metadata": {
        "colab": {
          "base_uri": "https://localhost:8080/"
        },
        "id": "6LpmwgEkeG7l",
        "outputId": "b1d5659f-eba0-45aa-e3f9-99e4ab091cc7"
      },
      "execution_count": 144,
      "outputs": [
        {
          "output_type": "stream",
          "name": "stdout",
          "text": [
            "\n",
            "Intercept: \n",
            " 5.961261694711652\n"
          ]
        }
      ]
    },
    {
      "cell_type": "code",
      "source": [
        "X_train, X_test, y_train, y_test = train_test_split(X, Y, test_size = 0.2, random_state = 123)\n",
        "\n",
        "lrm.fit(X_train, y_train)\n",
        "\n",
        "X_train = sm.add_constant(X_train)\n",
        "\n",
        "y_preds = lrm.predict(X_test)\n",
        "\n",
        "plt.scatter(y_test, y_preds)\n",
        "plt.plot(y_test, y_test, color=\"red\")\n",
        "plt.xlabel(\"true values\")\n",
        "plt.ylabel(\"predicted values\")\n",
        "plt.title(\"Charges: true and predicted values\")\n",
        "plt.show()\n",
        "\n",
        "print(\"Mean absolute error of the prediction is: {}\".format(mean_absolute_error(y_test, y_preds)))\n",
        "print(\"Mean squared error of the prediction is: {}\".format(mean_squared_error(y_test, y_preds)))\n",
        "print(\"Root mean squared error of the prediction is: {}\".format(mean_squared_error(y_test, y_preds, squared = False)))\n",
        "print(\"Mean absolute percentage error of the prediction is: {}\".format(np.mean(np.abs(y_test - y_preds) / y_test) * 100))\n",
        "print(\"Symmetric Mean absolute percentage error of the prediction is: {}\".format(smape(y_test, y_preds)))\n",
        "print(\"Accuracy of the model determined by R2: {}\".format(round(r2_score(y_test, y_preds), 2) *100))"
      ],
      "metadata": {
        "colab": {
          "base_uri": "https://localhost:8080/",
          "height": 434
        },
        "id": "8E39PrkJfrfV",
        "outputId": "212597bf-f84d-4eee-b7a6-4c5cfcb21f1f"
      },
      "execution_count": 145,
      "outputs": [
        {
          "output_type": "stream",
          "name": "stderr",
          "text": [
            "/usr/local/lib/python3.8/dist-packages/statsmodels/tsa/tsatools.py:142: FutureWarning: In a future version of pandas all arguments of concat except for the argument 'objs' will be keyword-only\n",
            "  x = pd.concat(x[::order], 1)\n"
          ]
        },
        {
          "output_type": "display_data",
          "data": {
            "text/plain": [
              "<Figure size 432x288 with 1 Axes>"
            ],
            "image/png": "[encoded data removed]"
          },
          "metadata": {
            "needs_background": "light"
          }
        },
        {
          "output_type": "stream",
          "name": "stdout",
          "text": [
            "Mean absolute error of the prediction is: 7.191026921118458\n",
            "Mean squared error of the prediction is: 97.67421264805724\n",
            "Root mean squared error of the prediction is: 9.883026492328007\n",
            "Mean absolute percentage error of the prediction is: inf\n",
            "Symmetric Mean absolute percentage error of the prediction is: 69.99673234134727\n",
            "Accuracy of the model determined by R2: 94.0\n"
          ]
        }
      ]
    },
    {
      "cell_type": "markdown",
      "source": [
        "**Linear Regression Without Departure Delay**\n",
        "\n",
        "Other departure features are kept as this is just a test of the influence that a departure delay would have on an arrival delay."
      ],
      "metadata": {
        "id": "6ne8XudckqmU"
      }
    },
    {
      "cell_type": "code",
      "source": [
        "Y = wf_df[\"ARRIVAL_DELAY\"]\n",
        "X = wf_df.drop(columns=[\"ARRIVAL_DELAY\", \"ARRIVAL_TIME\", \"TAXI_IN\", \"WHEELS_ON\", \"AIR_TIME\", \"ELAPSED_TIME\", \"DEPARTURE_DELAY\"])\n",
        "\n",
        "lrm = linear_model.LinearRegression()\n",
        "\n",
        "lrm.fit(X, Y)\n",
        "\n",
        "print('\\nIntercept: \\n', lrm.intercept_)"
      ],
      "metadata": {
        "colab": {
          "base_uri": "https://localhost:8080/"
        },
        "id": "oAOd5OHekzsy",
        "outputId": "0334c568-e855-42a7-c5df-6f04cf81e375"
      },
      "execution_count": 113,
      "outputs": [
        {
          "output_type": "stream",
          "name": "stdout",
          "text": [
            "\n",
            "Intercept: \n",
            " 15.044924047543132\n"
          ]
        }
      ]
    },
    {
      "cell_type": "code",
      "source": [
        "X_train, X_test, y_train, y_test = train_test_split(X, Y, test_size = 0.2, random_state = 123)\n",
        "\n",
        "lrm.fit(X_train, y_train)\n",
        "\n",
        "X_train = sm.add_constant(X_train)\n",
        "\n",
        "y_preds = lrm.predict(X_test)\n",
        "\n",
        "plt.scatter(y_test, y_preds)\n",
        "plt.plot(y_test, y_test, color=\"red\")\n",
        "plt.xlabel(\"true values\")\n",
        "plt.ylabel(\"predicted values\")\n",
        "plt.title(\"Charges: true and predicted values\")\n",
        "plt.show()\n",
        "\n",
        "print(\"Mean absolute error of the prediction is: {}\".format(mean_absolute_error(y_test, y_preds)))\n",
        "print(\"Mean squared error of the prediction is: {}\".format(mean_squared_error(y_test, y_preds)))\n",
        "print(\"Root mean squared error of the prediction is: {}\".format(mean_squared_error(y_test, y_preds, squared = False)))\n",
        "print(\"Mean absolute percentage error of the prediction is: {}\".format(np.mean(np.abs((y_test - y_preds) / y_test)) * 100))\n",
        "print(\"Symmetric Mean absolute percentage error of the prediction is: {}\".format(smape(y_test, y_preds)))\n",
        "print(\"Accuracy of the model determined by R2: {}\".format(round(r2_score(y_test, y_preds), 2) *100))"
      ],
      "metadata": {
        "colab": {
          "base_uri": "https://localhost:8080/",
          "height": 417
        },
        "id": "M3XtsRkfk5Tw",
        "outputId": "6fc4c089-a718-438e-8a9e-3e6971ed2edd"
      },
      "execution_count": 114,
      "outputs": [
        {
          "output_type": "stream",
          "name": "stderr",
          "text": [
            "/usr/local/lib/python3.8/dist-packages/statsmodels/tsa/tsatools.py:142: FutureWarning: In a future version of pandas all arguments of concat except for the argument 'objs' will be keyword-only\n",
            "  x = pd.concat(x[::order], 1)\n"
          ]
        },
        {
          "output_type": "display_data",
          "data": {
            "text/plain": [
              "<Figure size 432x288 with 1 Axes>"
            ],
            "image/png": "[encoded data removed]"
          },
          "metadata": {
            "needs_background": "light"
          }
        },
        {
          "output_type": "stream",
          "name": "stdout",
          "text": [
            "Mean absolute error of the prediction is: 19.70826939960598\n",
            "Mean squared error of the prediction is: 1422.994307535129\n",
            "Root mean squared error of the prediction is: 37.722596776138424\n",
            "Mean absolute percentage error of the prediction is: inf\n",
            "Symmetric Mean absolute percentage error of the prediction is: 134.03129964971637\n"
          ]
        }
      ]
    },
    {
      "cell_type": "markdown",
      "source": [
        "**Linear Regression With only Airport, Airline, Weather, Distance, and Scheduled arrival with Arrival delay as the target**\n",
        "\n",
        "Checking the accuracy using only the weather based on each airline and airport. Scheduled arrival is kept to give some reference for the delay."
      ],
      "metadata": {
        "id": "sjNaUi6FiGw3"
      }
    },
    {
      "cell_type": "code",
      "source": [
        "Y = wf_df[\"ARRIVAL_DELAY\"]\n",
        "X = wf_df.drop(columns=[\"MONTH\", \"DAY\", \"DAY_OF_WEEK\", \"FLIGHT_NUMBER\", \"SCHEDULED_DEPARTURE\", \"DEPARTURE_TIME\", \"DEPARTURE_DELAY\", \"TAXI_OUT\", \"WHEELS_OFF\", \"SCHEDULED_TIME\", \"ARRIVAL_TIME\", \"ELAPSED_TIME\", \"AIR_TIME\", \"WHEELS_ON\", \"ARRIVAL_DELAY\", \"TAXI_IN\"])\n",
        "\n",
        "lrm = linear_model.LinearRegression()\n",
        "\n",
        "lrm.fit(X, Y)\n",
        "\n",
        "print('\\nIntercept: \\n', lrm.intercept_)"
      ],
      "metadata": {
        "id": "r2cDwiRsgOk1",
        "colab": {
          "base_uri": "https://localhost:8080/"
        },
        "outputId": "cf108c7e-3a13-4bc0-921f-929e838e1e22"
      },
      "execution_count": 142,
      "outputs": [
        {
          "output_type": "stream",
          "name": "stdout",
          "text": [
            "\n",
            "Intercept: \n",
            " -1.0986941821415517\n"
          ]
        }
      ]
    },
    {
      "cell_type": "code",
      "source": [
        "X_train, X_test, y_train, y_test = train_test_split(X, Y, test_size = 0.2, random_state = 123)\n",
        "\n",
        "lrm.fit(X_train, y_train)\n",
        "\n",
        "X_train = sm.add_constant(X_train)\n",
        "\n",
        "y_preds = lrm.predict(X_test)\n",
        "\n",
        "plt.scatter(y_test, y_preds)\n",
        "plt.plot(y_test, y_test, color=\"red\")\n",
        "plt.xlabel(\"true values\")\n",
        "plt.ylabel(\"predicted values\")\n",
        "plt.title(\"Charges: true and predicted values\")\n",
        "plt.show()\n",
        "\n",
        "print(\"Mean absolute error of the prediction is: {}\".format(mean_absolute_error(y_test, y_preds)))\n",
        "print(\"Mean squared error of the prediction is: {}\".format(mean_squared_error(y_test, y_preds)))\n",
        "print(\"Root mean squared error of the prediction is: {}\".format(mean_squared_error(y_test, y_preds, squared = False)))\n",
        "print(\"Mean absolute percentage error of the prediction is: {}\".format(np.mean(np.abs((y_test - y_preds) / y_test)) * 100))\n",
        "print(\"Symmetric Mean absolute percentage error of the prediction is: {}\".format(smape(y_test, y_preds)))\n",
        "print(\"Accuracy of the model determined by R2: {}\".format(round(r2_score(y_test, y_preds), 2) *100))"
      ],
      "metadata": {
        "id": "8HDXgouEj1nw",
        "colab": {
          "base_uri": "https://localhost:8080/",
          "height": 434
        },
        "outputId": "3dcb7ecb-da2b-4c54-f7c9-c4a649ca631f"
      },
      "execution_count": 143,
      "outputs": [
        {
          "output_type": "stream",
          "name": "stderr",
          "text": [
            "/usr/local/lib/python3.8/dist-packages/statsmodels/tsa/tsatools.py:142: FutureWarning: In a future version of pandas all arguments of concat except for the argument 'objs' will be keyword-only\n",
            "  x = pd.concat(x[::order], 1)\n"
          ]
        },
        {
          "output_type": "display_data",
          "data": {
            "text/plain": [
              "<Figure size 432x288 with 1 Axes>"
            ],
            "image/png": "[encoded data removed]"
          },
          "metadata": {
            "needs_background": "light"
          }
        },
        {
          "output_type": "stream",
          "name": "stdout",
          "text": [
            "Mean absolute error of the prediction is: 12.19403608585442\n",
            "Mean squared error of the prediction is: 593.0229245580417\n",
            "Root mean squared error of the prediction is: 24.35206201860618\n",
            "Mean absolute percentage error of the prediction is: inf\n",
            "Symmetric Mean absolute percentage error of the prediction is: 84.50569660877285\n",
            "Accuracy of the model determined by R2: 64.0\n"
          ]
        }
      ]
    },
    {
      "cell_type": "markdown",
      "source": [
        "# Decision Tree Classifier\n",
        "\n",
        "Linear Regression struggled to find relationships between weather and the specific time of arrival delay as features dimminished. Turning the specific delay times into classifications based on their duration may prove to be more useful and easier to determine. "
      ],
      "metadata": {
        "id": "J-6rCiqsovR7"
      }
    },
    {
      "cell_type": "code",
      "source": [
        "delay =[]\n",
        "for row in wf_df['ARRIVAL_DELAY']:\n",
        "    if row > 60:\n",
        "        delay.append(3)\n",
        "    elif row > 30:\n",
        "        delay.append(2)\n",
        "    elif row > 15:\n",
        "        delay.append(1)\n",
        "    else:\n",
        "        delay.append(0)  \n",
        "\n",
        "wf_df[\"DELAY_CLASSIFIER\"] = delay"
      ],
      "metadata": {
        "id": "AKziK6jGmnLz"
      },
      "execution_count": 117,
      "outputs": []
    },
    {
      "cell_type": "code",
      "source": [
        "wf_df.value_counts(\"DELAY_CLASSIFIER\")"
      ],
      "metadata": {
        "colab": {
          "base_uri": "https://localhost:8080/"
        },
        "id": "thVEm9tstHmH",
        "outputId": "aaf413ce-41b3-4a7e-e95d-4c1f183fcb11"
      },
      "execution_count": 118,
      "outputs": [
        {
          "output_type": "execute_result",
          "data": {
            "text/plain": [
              "DELAY_CLASSIFIER\n",
              "0    1053094\n",
              "1      96027\n",
              "3      77554\n",
              "2      77106\n",
              "dtype: int64"
            ]
          },
          "metadata": {},
          "execution_count": 118
        }
      ]
    },
    {
      "cell_type": "code",
      "source": [
        "for column in wf_df.columns:\n",
        "  print(\"{} : {}\".format(column, wf_df[column].corr(wf_df[\"DELAY_CLASSIFIER\"])))"
      ],
      "metadata": {
        "colab": {
          "base_uri": "https://localhost:8080/"
        },
        "id": "k1eThoDx7EwQ",
        "outputId": "a618dfb4-9d30-4369-9626-8078fd8e213d"
      },
      "execution_count": 119,
      "outputs": [
        {
          "output_type": "stream",
          "name": "stdout",
          "text": [
            "MONTH : -0.022085243163543426\n",
            "DAY : -0.005994539265841164\n",
            "DAY_OF_WEEK : -0.0156447449721662\n",
            "FLIGHT_NUMBER : 0.009568495341992297\n",
            "SCHEDULED_DEPARTURE : 0.13290113723170507\n",
            "DEPARTURE_TIME : 0.17672910962018623\n",
            "DEPARTURE_DELAY : 0.7345647611407331\n",
            "TAXI_OUT : 0.25683461014198944\n",
            "WHEELS_OFF : 0.1738312758199585\n",
            "SCHEDULED_TIME : -0.011355676271795498\n",
            "ELAPSED_TIME : 0.04377525845085825\n",
            "AIR_TIME : 0.005816518024576806\n",
            "DISTANCE : -0.013665476979431096\n",
            "WHEELS_ON : 0.057802151354672204\n",
            "TAXI_IN : 0.11176946535390257\n",
            "SCHEDULED_ARRIVAL : 0.10845258403568757\n",
            "ARRIVAL_TIME : 0.04665458683623382\n",
            "ARRIVAL_DELAY : 0.7939516075979648\n",
            "AIRLINE_AA : -0.013577991870979165\n",
            "AIRLINE_AS : -0.030864523457424534\n",
            "AIRLINE_B6 : 0.01858827518210568\n",
            "AIRLINE_DL : -0.05598299987302427\n",
            "AIRLINE_EV : 0.0028271381448699\n",
            "AIRLINE_F9 : 0.033727802904142824\n",
            "AIRLINE_MQ : 0.015446611461425406\n",
            "AIRLINE_NK : 0.06928694309039846\n",
            "AIRLINE_OO : 0.017364321700046596\n",
            "AIRLINE_UA : 0.028012094810550114\n",
            "AIRLINE_US : -0.012403688476766742\n",
            "AIRLINE_VX : 0.0009214754347531826\n",
            "AIRLINE_WN : 0.0037844384435520378\n",
            "ORIGIN_AIRPORT_ABQ : -0.00404735004515996\n",
            "ORIGIN_AIRPORT_ATL : -0.021600556535619396\n",
            "ORIGIN_AIRPORT_BNA : -0.008748940279302566\n",
            "ORIGIN_AIRPORT_BOS : 0.00019480878745965945\n",
            "ORIGIN_AIRPORT_CLT : -0.0008936067053569032\n",
            "ORIGIN_AIRPORT_DEN : 0.01526728097386207\n",
            "ORIGIN_AIRPORT_DFW : 0.005918986984278179\n",
            "ORIGIN_AIRPORT_DTW : -0.007164075375331033\n",
            "ORIGIN_AIRPORT_IAH : 0.020527326721953253\n",
            "ORIGIN_AIRPORT_IND : -0.00996246942289325\n",
            "ORIGIN_AIRPORT_JAX : -0.007756217455980056\n",
            "ORIGIN_AIRPORT_JFK : 0.008155846880845606\n",
            "ORIGIN_AIRPORT_LAS : 0.001962354188024702\n",
            "ORIGIN_AIRPORT_LAX : 0.0007103379526043442\n",
            "ORIGIN_AIRPORT_MCI : -0.00904125569132282\n",
            "ORIGIN_AIRPORT_MIA : 0.00883706561167451\n",
            "ORIGIN_AIRPORT_MSP : -0.011727364660447482\n",
            "ORIGIN_AIRPORT_ORD : 0.041982989861091766\n",
            "ORIGIN_AIRPORT_PDX : -0.018110603474883764\n",
            "ORIGIN_AIRPORT_PHL : 0.008522768901754078\n",
            "ORIGIN_AIRPORT_PHX : -0.009525656136340972\n",
            "ORIGIN_AIRPORT_PIT : -0.014702047166813049\n",
            "ORIGIN_AIRPORT_SAT : -0.014997297987437269\n",
            "ORIGIN_AIRPORT_SEA : -0.017184341629486743\n",
            "ORIGIN_AIRPORT_SFO : 0.001959200797003973\n",
            "DESTINATION_AIRPORT_ABQ : -0.0009410631844762766\n",
            "DESTINATION_AIRPORT_ATL : -0.024892900584741487\n",
            "DESTINATION_AIRPORT_BNA : -0.006390327746037602\n",
            "DESTINATION_AIRPORT_BOS : 0.008008554912556445\n",
            "DESTINATION_AIRPORT_CLT : -0.02339556089937782\n",
            "DESTINATION_AIRPORT_DEN : 0.00836644022940452\n",
            "DESTINATION_AIRPORT_DFW : -0.0028597930693749934\n",
            "DESTINATION_AIRPORT_DTW : -0.011318377947451474\n",
            "DESTINATION_AIRPORT_IAH : 0.01099177923142102\n",
            "DESTINATION_AIRPORT_IND : -0.002745978751558216\n",
            "DESTINATION_AIRPORT_JAX : -0.002433686937371959\n",
            "DESTINATION_AIRPORT_JFK : 0.011773635304828053\n",
            "DESTINATION_AIRPORT_LAS : -0.0014680423172620887\n",
            "DESTINATION_AIRPORT_LAX : 0.017911130694669\n",
            "DESTINATION_AIRPORT_MCI : -0.004094484381656341\n",
            "DESTINATION_AIRPORT_MIA : 0.002675831530757742\n",
            "DESTINATION_AIRPORT_MSP : -0.010425552263434126\n",
            "DESTINATION_AIRPORT_ORD : 0.019410186822183973\n",
            "DESTINATION_AIRPORT_PDX : -0.008538353374292033\n",
            "DESTINATION_AIRPORT_PHL : 0.003821989832548766\n",
            "DESTINATION_AIRPORT_PHX : -0.012746445313864554\n",
            "DESTINATION_AIRPORT_PIT : -0.005802261555769083\n",
            "DESTINATION_AIRPORT_SAT : 0.0022161131034042184\n",
            "DESTINATION_AIRPORT_SEA : -0.013411072328227898\n",
            "DESTINATION_AIRPORT_SFO : 0.02704134537774492\n",
            "ORIGIN_WEATHER_broken clouds : 0.0009648674842462007\n",
            "ORIGIN_WEATHER_drizzle : 0.0032986743566618295\n",
            "ORIGIN_WEATHER_dust : -0.0004276069381438555\n",
            "ORIGIN_WEATHER_few clouds : -0.008100441380071462\n",
            "ORIGIN_WEATHER_fog : 0.00023500297581584574\n",
            "ORIGIN_WEATHER_freezing rain : 0.013813674204500656\n",
            "ORIGIN_WEATHER_haze : 0.01165926803988995\n",
            "ORIGIN_WEATHER_heavy intensity drizzle : -0.0005259911430963309\n",
            "ORIGIN_WEATHER_heavy intensity rain : 0.04253554337324014\n",
            "ORIGIN_WEATHER_heavy intensity shower rain : 0.0017355110030014777\n",
            "ORIGIN_WEATHER_heavy snow : 0.010570455313230805\n",
            "ORIGIN_WEATHER_light intensity drizzle : 0.005378774632015695\n",
            "ORIGIN_WEATHER_light intensity shower rain : -0.0009514500285601153\n",
            "ORIGIN_WEATHER_light rain : 0.024180288840429016\n",
            "ORIGIN_WEATHER_light shower snow : 0.0008740776146191743\n",
            "ORIGIN_WEATHER_light snow : 0.034279504476485055\n",
            "ORIGIN_WEATHER_mist : -0.006126773108519687\n",
            "ORIGIN_WEATHER_moderate rain : 0.038454779661252575\n",
            "ORIGIN_WEATHER_overcast clouds : -0.0008674226388785428\n",
            "ORIGIN_WEATHER_proximity sand/dust whirls : 0.00027957470028748755\n",
            "ORIGIN_WEATHER_proximity shower rain : 0.006380041353932893\n",
            "ORIGIN_WEATHER_proximity thunderstorm : 0.020633471735166\n",
            "ORIGIN_WEATHER_proximity thunderstorm with drizzle : 0.00022854129854643217\n",
            "ORIGIN_WEATHER_proximity thunderstorm with rain : 0.007032041877967263\n",
            "ORIGIN_WEATHER_scattered clouds : -0.004577734784503844\n",
            "ORIGIN_WEATHER_shower rain : 0.0006842148537414092\n",
            "ORIGIN_WEATHER_sky is clear : -0.0642227186595967\n",
            "ORIGIN_WEATHER_smoke : -0.0029254502112951255\n",
            "ORIGIN_WEATHER_snow : 0.06791430093826537\n",
            "ORIGIN_WEATHER_squalls : -0.00021666277661482907\n",
            "ORIGIN_WEATHER_thunderstorm : 0.020711023142396142\n",
            "ORIGIN_WEATHER_thunderstorm with heavy rain : 0.008676096083216346\n",
            "ORIGIN_WEATHER_thunderstorm with light drizzle : 0.0014234146660329551\n",
            "ORIGIN_WEATHER_thunderstorm with light rain : 0.011388810735102409\n",
            "ORIGIN_WEATHER_thunderstorm with rain : 0.004149982411409415\n",
            "ORIGIN_WEATHER_very heavy rain : 0.011554896044680444\n",
            "DESTINATION_WEATHER_broken clouds : -0.0016863284256054796\n",
            "DESTINATION_WEATHER_drizzle : -8.36171980231447e-05\n",
            "DESTINATION_WEATHER_dust : 0.001646667941477971\n",
            "DESTINATION_WEATHER_few clouds : -0.009645271104964184\n",
            "DESTINATION_WEATHER_fog : 0.0001916100002789105\n",
            "DESTINATION_WEATHER_freezing rain : 0.012082025979640521\n",
            "DESTINATION_WEATHER_haze : 0.00812229849775759\n",
            "DESTINATION_WEATHER_heavy intensity drizzle : -0.0015884545894794561\n",
            "DESTINATION_WEATHER_heavy intensity rain : 0.04862907131949931\n",
            "DESTINATION_WEATHER_heavy intensity shower rain : -0.0003854046123514537\n",
            "DESTINATION_WEATHER_heavy snow : 0.007144654176331851\n",
            "DESTINATION_WEATHER_light intensity drizzle : 0.002842756033361817\n",
            "DESTINATION_WEATHER_light intensity shower rain : 0.0014265558353016197\n",
            "DESTINATION_WEATHER_light rain : 0.02864475118827612\n",
            "DESTINATION_WEATHER_light shower snow : -0.0016525189367811886\n",
            "DESTINATION_WEATHER_light snow : 0.021203692592689477\n",
            "DESTINATION_WEATHER_mist : -0.0014519855716678594\n",
            "DESTINATION_WEATHER_moderate rain : 0.03685644673578419\n",
            "DESTINATION_WEATHER_overcast clouds : -0.0036707482054092124\n",
            "DESTINATION_WEATHER_proximity sand/dust whirls : 0.000453208076734758\n",
            "DESTINATION_WEATHER_proximity shower rain : 0.00440803211419583\n",
            "DESTINATION_WEATHER_proximity thunderstorm : 0.016769454579805845\n",
            "DESTINATION_WEATHER_proximity thunderstorm with drizzle : -0.001982567741359889\n",
            "DESTINATION_WEATHER_proximity thunderstorm with rain : 0.0038797524878280767\n",
            "DESTINATION_WEATHER_scattered clouds : -0.0066295276125406906\n",
            "DESTINATION_WEATHER_shower rain : 0.0024688495963299225\n",
            "DESTINATION_WEATHER_sky is clear : -0.05929458760742843\n",
            "DESTINATION_WEATHER_smoke : -0.0023051358012048254\n",
            "DESTINATION_WEATHER_snow : 0.044686101219572956\n",
            "DESTINATION_WEATHER_squalls : 0.00018108472619592818\n",
            "DESTINATION_WEATHER_thunderstorm : 0.02062350464564417\n",
            "DESTINATION_WEATHER_thunderstorm with heavy rain : 0.007776429474160989\n",
            "DESTINATION_WEATHER_thunderstorm with light drizzle : 0.0009996051798343009\n",
            "DESTINATION_WEATHER_thunderstorm with light rain : 0.012606379092998811\n",
            "DESTINATION_WEATHER_thunderstorm with rain : 0.0057826139789007745\n",
            "DESTINATION_WEATHER_very heavy rain : 0.011068390246925615\n",
            "DELAY_CLASSIFIER : 1.0\n"
          ]
        }
      ]
    },
    {
      "cell_type": "markdown",
      "source": [
        "**Without Arrival information**"
      ],
      "metadata": {
        "id": "S2FDPFJo5tmN"
      }
    },
    {
      "cell_type": "code",
      "source": [
        "Y = wf_df[\"DELAY_CLASSIFIER\"]\n",
        "X = wf_df.drop(columns=[\"ARRIVAL_DELAY\", \"ARRIVAL_TIME\", \"TAXI_IN\", \"WHEELS_ON\", \"AIR_TIME\", \"ELAPSED_TIME\"])\n",
        "\n",
        "X_train, X_test, y_train, y_test = train_test_split(X, Y, random_state = 50)"
      ],
      "metadata": {
        "id": "4Rcr_Wy-5rFC"
      },
      "execution_count": 120,
      "outputs": []
    },
    {
      "cell_type": "code",
      "source": [
        "clf = DecisionTreeClassifier()\n",
        "clf = clf.fit(X_train, y_train)"
      ],
      "metadata": {
        "id": "gjrj6ydR5-Ze"
      },
      "execution_count": 121,
      "outputs": []
    },
    {
      "cell_type": "code",
      "source": [
        "pred_prob = clf.predict_proba(X_test)\n",
        "auc_score = roc_auc_score(y_test, pred_prob, multi_class = 'ovr')\n",
        "print(\"Accuracy of the Decision Tree: {}\".format(auc_score))"
      ],
      "metadata": {
        "colab": {
          "base_uri": "https://localhost:8080/"
        },
        "id": "L_cbF8CH6AA0",
        "outputId": "3edfcdc5-7f63-4ca7-d048-67b8c70bec91"
      },
      "execution_count": 122,
      "outputs": [
        {
          "output_type": "stream",
          "name": "stdout",
          "text": [
            "Accuracy of the Decision Tree: 1.0\n"
          ]
        }
      ]
    },
    {
      "cell_type": "markdown",
      "source": [
        "**Without Departure Delay**"
      ],
      "metadata": {
        "id": "md1JkgxB1iYc"
      }
    },
    {
      "cell_type": "code",
      "source": [
        "Y = wf_df[\"DELAY_CLASSIFIER\"]\n",
        "X = wf_df.drop(columns=[\"ARRIVAL_DELAY\", \"ARRIVAL_TIME\", \"TAXI_IN\", \"WHEELS_ON\", \"AIR_TIME\", \"ELAPSED_TIME\", \"DEPARTURE_DELAY\", \"DELAY_CLASSIFIER\"])\n",
        "\n",
        "X_train, X_test, y_train, y_test = train_test_split(X, Y, random_state = 50)"
      ],
      "metadata": {
        "id": "PXtYWyYS1gQg"
      },
      "execution_count": 123,
      "outputs": []
    },
    {
      "cell_type": "code",
      "source": [
        "clf = DecisionTreeClassifier()\n",
        "clf = clf.fit(X_train, y_train)"
      ],
      "metadata": {
        "id": "gxDo7I001ykU"
      },
      "execution_count": 124,
      "outputs": []
    },
    {
      "cell_type": "code",
      "source": [
        "pred_prob = clf.predict_proba(X_test)\n",
        "auc_score = roc_auc_score(y_test, pred_prob, multi_class = 'ovr')\n",
        "print(\"Accuracy of the Decision Tree: {}\".format(auc_score))"
      ],
      "metadata": {
        "colab": {
          "base_uri": "https://localhost:8080/"
        },
        "id": "HHmvufBZ10gm",
        "outputId": "8294d211-8bb9-43ba-ce6e-1d6a24024799"
      },
      "execution_count": 125,
      "outputs": [
        {
          "output_type": "stream",
          "name": "stdout",
          "text": [
            "Accuracy of the Decision Tree: 0.7879206310649921\n"
          ]
        }
      ]
    },
    {
      "cell_type": "markdown",
      "source": [
        "**Only using airports, airlines, and weather**"
      ],
      "metadata": {
        "id": "J8N_PYSb12BB"
      }
    },
    {
      "cell_type": "code",
      "source": [
        "Y = wf_df[\"DELAY_CLASSIFIER\"]\n",
        "X = wf_df.drop(columns=[\"MONTH\", \"DAY\", \"DAY_OF_WEEK\", \"FLIGHT_NUMBER\", \"SCHEDULED_DEPARTURE\", \"DEPARTURE_TIME\", \"DEPARTURE_DELAY\", \"TAXI_OUT\", \"WHEELS_OFF\", \"SCHEDULED_TIME\", \"ARRIVAL_TIME\", \"ELAPSED_TIME\", \"AIR_TIME\", \"WHEELS_ON\", \"ARRIVAL_DELAY\", \"TAXI_IN\", \"DELAY_CLASSIFIER\"])\n",
        "\n",
        "X_train, X_test, y_train, y_test = train_test_split(X, Y, random_state = 50)"
      ],
      "metadata": {
        "id": "6GjMZTkmtUVm"
      },
      "execution_count": 126,
      "outputs": []
    },
    {
      "cell_type": "code",
      "source": [
        "clf = DecisionTreeClassifier()\n",
        "clf = clf.fit(X_train, y_train)"
      ],
      "metadata": {
        "id": "N26yFD1aztLf"
      },
      "execution_count": 127,
      "outputs": []
    },
    {
      "cell_type": "code",
      "source": [
        "pred_prob = clf.predict_proba(X_test)\n",
        "auc_score = roc_auc_score(y_test, pred_prob, multi_class = 'ovr')\n",
        "print(\"Accuracy of the Decision Tree: {}\".format(auc_score))"
      ],
      "metadata": {
        "colab": {
          "base_uri": "https://localhost:8080/"
        },
        "id": "XeWOl_yY0FM4",
        "outputId": "102a9639-858d-4bd5-c29f-3b05146cb35b"
      },
      "execution_count": 128,
      "outputs": [
        {
          "output_type": "stream",
          "name": "stdout",
          "text": [
            "Accuracy of the Decision Tree: 0.5384292068033517\n"
          ]
        }
      ]
    },
    {
      "cell_type": "markdown",
      "source": [
        "# Random forest classifier with adjustments\n",
        "\n",
        "To try to find the relationship between weather and delays. I'll focus on only modeling airports, airlines, and weather conditions."
      ],
      "metadata": {
        "id": "Q3rwyv2Us4kg"
      }
    },
    {
      "cell_type": "markdown",
      "source": [
        "**Only using airports, airlines, and weather with adjusted depth**"
      ],
      "metadata": {
        "id": "JL3iGEaWmgJJ"
      }
    },
    {
      "cell_type": "code",
      "source": [
        "Y = wf_df[\"DELAY_CLASSIFIER\"]\n",
        "X = wf_df.drop(columns=[\"MONTH\", \"DAY\", \"DAY_OF_WEEK\", \"FLIGHT_NUMBER\", \"SCHEDULED_DEPARTURE\", \"DEPARTURE_TIME\", \"DEPARTURE_DELAY\", \"TAXI_OUT\", \"WHEELS_OFF\", \"SCHEDULED_TIME\", \"ARRIVAL_TIME\", \"ELAPSED_TIME\", \"AIR_TIME\", \"WHEELS_ON\", \"ARRIVAL_DELAY\", \"TAXI_IN\", \"DELAY_CLASSIFIER\"])\n",
        "\n",
        "X_train, X_test, y_train, y_test = train_test_split(X, Y, random_state = 50)"
      ],
      "metadata": {
        "id": "OZCFG2yK0d0F"
      },
      "execution_count": 129,
      "outputs": []
    },
    {
      "cell_type": "markdown",
      "source": [
        "max depth of 10"
      ],
      "metadata": {
        "id": "aufZg4HCtrL1"
      }
    },
    {
      "cell_type": "code",
      "source": [
        "clf = DecisionTreeClassifier(max_depth = 10)\n",
        "clf = clf.fit(X_train, y_train)"
      ],
      "metadata": {
        "id": "J_jlmwComqcV"
      },
      "execution_count": 130,
      "outputs": []
    },
    {
      "cell_type": "code",
      "source": [
        "pred_prob = clf.predict_proba(X_test)\n",
        "auc_score = roc_auc_score(y_test, pred_prob, multi_class = 'ovr')\n",
        "print(\"Accuracy of the Decision Tree: {}\".format(auc_score))"
      ],
      "metadata": {
        "colab": {
          "base_uri": "https://localhost:8080/"
        },
        "id": "6gPpECpXmrkw",
        "outputId": "e8126a63-1ff3-41d3-dd5a-b565b2e03495"
      },
      "execution_count": 131,
      "outputs": [
        {
          "output_type": "stream",
          "name": "stdout",
          "text": [
            "Accuracy of the Decision Tree: 0.633037942995538\n"
          ]
        }
      ]
    },
    {
      "cell_type": "markdown",
      "source": [
        "max depth of 15"
      ],
      "metadata": {
        "id": "q988RgV_un4D"
      }
    },
    {
      "cell_type": "code",
      "source": [
        "clf = DecisionTreeClassifier(max_depth = 15)\n",
        "clf = clf.fit(X_train, y_train)\n",
        "\n",
        "pred_prob = clf.predict_proba(X_test)\n",
        "auc_score = roc_auc_score(y_test, pred_prob, multi_class = 'ovr')\n",
        "print(\"Accuracy of the Decision Tree: {}\".format(auc_score))"
      ],
      "metadata": {
        "colab": {
          "base_uri": "https://localhost:8080/"
        },
        "id": "qo2fmPEgumKh",
        "outputId": "e7cc3eb7-44f3-4782-aa0d-6da96a42ff17"
      },
      "execution_count": 132,
      "outputs": [
        {
          "output_type": "stream",
          "name": "stdout",
          "text": [
            "Accuracy of the Decision Tree: 0.6359931223522288\n"
          ]
        }
      ]
    },
    {
      "cell_type": "markdown",
      "source": [
        "max depth of 20"
      ],
      "metadata": {
        "id": "i_PKq_CYttWi"
      }
    },
    {
      "cell_type": "code",
      "source": [
        "clf = DecisionTreeClassifier(max_depth = 20)\n",
        "clf = clf.fit(X_train, y_train)\n",
        "\n",
        "pred_prob = clf.predict_proba(X_test)\n",
        "auc_score = roc_auc_score(y_test, pred_prob, multi_class = 'ovr')\n",
        "print(\"Accuracy of the Decision Tree: {}\".format(auc_score))"
      ],
      "metadata": {
        "colab": {
          "base_uri": "https://localhost:8080/"
        },
        "id": "S4ovZqoptw7x",
        "outputId": "2698a6ed-69db-4355-ca89-abf379d09e5b"
      },
      "execution_count": 133,
      "outputs": [
        {
          "output_type": "stream",
          "name": "stdout",
          "text": [
            "Accuracy of the Decision Tree: 0.6179683750182252\n"
          ]
        }
      ]
    },
    {
      "cell_type": "markdown",
      "source": [
        "**minimum split adjustment**"
      ],
      "metadata": {
        "id": "TXuOMkZatndH"
      }
    },
    {
      "cell_type": "markdown",
      "source": [
        "minimum sample split set to 5"
      ],
      "metadata": {
        "id": "2NsCDD8nyycd"
      }
    },
    {
      "cell_type": "code",
      "source": [
        "clf = DecisionTreeClassifier(max_depth = 15, min_samples_split = 5)\n",
        "clf = clf.fit(X_train, y_train)\n",
        "\n",
        "pred_prob = clf.predict_proba(X_test)\n",
        "auc_score = roc_auc_score(y_test, pred_prob, multi_class = 'ovr')\n",
        "print(\"Accuracy of the Decision Tree: {}\".format(auc_score))"
      ],
      "metadata": {
        "colab": {
          "base_uri": "https://localhost:8080/"
        },
        "id": "rvuDnUTJyaIV",
        "outputId": "a2d125f5-9ede-4e91-f35e-a5c4856f864c"
      },
      "execution_count": 134,
      "outputs": [
        {
          "output_type": "stream",
          "name": "stdout",
          "text": [
            "Accuracy of the Decision Tree: 0.6366827308878035\n"
          ]
        }
      ]
    },
    {
      "cell_type": "markdown",
      "source": [
        "minimum sample split set to 10"
      ],
      "metadata": {
        "id": "_wlRXVuCy18y"
      }
    },
    {
      "cell_type": "code",
      "source": [
        "clf = DecisionTreeClassifier(max_depth = 15, min_samples_split = 10)\n",
        "clf = clf.fit(X_train, y_train)\n",
        "\n",
        "pred_prob = clf.predict_proba(X_test)\n",
        "auc_score = roc_auc_score(y_test, pred_prob, multi_class = 'ovr')\n",
        "print(\"Accuracy of the Decision Tree: {}\".format(auc_score))"
      ],
      "metadata": {
        "colab": {
          "base_uri": "https://localhost:8080/"
        },
        "id": "NM9ffKX9y5Lt",
        "outputId": "82c874b5-c2a7-457c-cb4b-d77094a83d43"
      },
      "execution_count": 135,
      "outputs": [
        {
          "output_type": "stream",
          "name": "stdout",
          "text": [
            "Accuracy of the Decision Tree: 0.6379328415457061\n"
          ]
        }
      ]
    },
    {
      "cell_type": "markdown",
      "source": [
        "minimum sample split set to 20"
      ],
      "metadata": {
        "id": "f1uXA34_zEdd"
      }
    },
    {
      "cell_type": "code",
      "source": [
        "clf = DecisionTreeClassifier(max_depth = 15, min_samples_split = 20)\n",
        "clf = clf.fit(X_train, y_train)\n",
        "\n",
        "pred_prob = clf.predict_proba(X_test)\n",
        "auc_score = roc_auc_score(y_test, pred_prob, multi_class = 'ovr')\n",
        "print(\"Accuracy of the Decision Tree: {}\".format(auc_score))"
      ],
      "metadata": {
        "colab": {
          "base_uri": "https://localhost:8080/"
        },
        "id": "esErck0JzJfA",
        "outputId": "3e58a425-cc7c-4f95-d4bf-3e6fd5bf718c"
      },
      "execution_count": 136,
      "outputs": [
        {
          "output_type": "stream",
          "name": "stdout",
          "text": [
            "Accuracy of the Decision Tree: 0.6397562531588097\n"
          ]
        }
      ]
    },
    {
      "cell_type": "markdown",
      "source": [
        "minimum sample split set to 30"
      ],
      "metadata": {
        "id": "v9CfykjRzfVJ"
      }
    },
    {
      "cell_type": "code",
      "source": [
        "clf = DecisionTreeClassifier(max_depth = 15, min_samples_split = 30)\n",
        "clf = clf.fit(X_train, y_train)\n",
        "\n",
        "pred_prob = clf.predict_proba(X_test)\n",
        "auc_score = roc_auc_score(y_test, pred_prob, multi_class = 'ovr')\n",
        "print(\"Accuracy of the Decision Tree: {}\".format(auc_score))"
      ],
      "metadata": {
        "colab": {
          "base_uri": "https://localhost:8080/"
        },
        "id": "LF4WfXiqziis",
        "outputId": "d95307ce-1c0e-4c69-da00-b929814c337a"
      },
      "execution_count": 137,
      "outputs": [
        {
          "output_type": "stream",
          "name": "stdout",
          "text": [
            "Accuracy of the Decision Tree: 0.6409731811252817\n"
          ]
        }
      ]
    },
    {
      "cell_type": "markdown",
      "source": [
        "minimum sample split set to 50"
      ],
      "metadata": {
        "id": "XrrEnKr22Orx"
      }
    },
    {
      "cell_type": "code",
      "source": [
        "clf = DecisionTreeClassifier(max_depth = 15, min_samples_split = 50)\n",
        "clf = clf.fit(X_train, y_train)\n",
        "\n",
        "pred_prob = clf.predict_proba(X_test)\n",
        "auc_score = roc_auc_score(y_test, pred_prob, multi_class = 'ovr')\n",
        "print(\"Accuracy of the Decision Tree: {}\".format(auc_score))"
      ],
      "metadata": {
        "colab": {
          "base_uri": "https://localhost:8080/"
        },
        "id": "7VN5UFKT2Ru3",
        "outputId": "530f166a-d711-4b3e-ae31-f1029f7e17bf"
      },
      "execution_count": 138,
      "outputs": [
        {
          "output_type": "stream",
          "name": "stdout",
          "text": [
            "Accuracy of the Decision Tree: 0.6419808621580356\n"
          ]
        }
      ]
    },
    {
      "cell_type": "markdown",
      "source": [
        "minimum sample split set to 100"
      ],
      "metadata": {
        "id": "wiKFFLdx2e_c"
      }
    },
    {
      "cell_type": "code",
      "source": [
        "clf = DecisionTreeClassifier(max_depth = 15, min_samples_split = 100)\n",
        "clf = clf.fit(X_train, y_train)\n",
        "\n",
        "pred_prob = clf.predict_proba(X_test)\n",
        "auc_score = roc_auc_score(y_test, pred_prob, multi_class = 'ovr')\n",
        "print(\"Accuracy of the Decision Tree: {}\".format(auc_score))"
      ],
      "metadata": {
        "colab": {
          "base_uri": "https://localhost:8080/"
        },
        "id": "anXkBPDZ2hl0",
        "outputId": "aa564893-89dc-4e5c-b88a-9313a89a5667"
      },
      "execution_count": 139,
      "outputs": [
        {
          "output_type": "stream",
          "name": "stdout",
          "text": [
            "Accuracy of the Decision Tree: 0.6430742111707608\n"
          ]
        }
      ]
    },
    {
      "cell_type": "markdown",
      "source": [
        "# Conclusion\n",
        "\n",
        "Linear Regression can be very accurate for determining arrival delays when only arrival information is removed. Removing more features greatly reduces the accuracy of the model. The model remained accurate for 64% of the predictions when looking at only airports, airlines, and weather.\n",
        "\n",
        "Splitting the delays into 4 categories based on 15 minute intervals provides more accurate modeling of the delays that can be tested with a decision tree classifier. The decision tree had an accuracy of 53% using only the weather, airports, and airline of the flights. By adjusting the maximum depth to 15 and the minimum sample split to 100%, the accuracy of the decision tree is improved to 64% making it the best model for the problem. Having the delays broken into classifications would likely prove to be more useful than looking for specific times. Determining if there will be a delay at all is useful and trying to find the specific time of the delay would likely require information about the flight conditions between airports which the dataset does not provide. "
      ],
      "metadata": {
        "id": "RGODx9Q3Ub4l"
      }
    },
    {
      "cell_type": "code",
      "source": [],
      "metadata": {
        "id": "kS8LS-WgwlCa"
      },
      "execution_count": 139,
      "outputs": []
    }
  ]
}